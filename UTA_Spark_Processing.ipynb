{
  "nbformat": 4,
  "nbformat_minor": 0,
  "metadata": {
    "colab": {
      "provenance": [],
      "authorship_tag": "ABX9TyMGsVgb+3un4xS2cihoqWxj",
      "include_colab_link": true
    },
    "kernelspec": {
      "name": "python3",
      "display_name": "Python 3"
    },
    "language_info": {
      "name": "python"
    }
  },
  "cells": [
    {
      "cell_type": "markdown",
      "metadata": {
        "id": "view-in-github",
        "colab_type": "text"
      },
      "source": [
        "<a href=\"https://colab.research.google.com/github/sachins301/UTA-Distributed-Computing/blob/main/UTA_Spark_Processing.ipynb\" target=\"_parent\"><img src=\"https://colab.research.google.com/assets/colab-badge.svg\" alt=\"Open In Colab\"/></a>"
      ]
    },
    {
      "cell_type": "markdown",
      "source": [
        "Installing Spark and dependencies"
      ],
      "metadata": {
        "id": "hOVGMW4OUefO"
      }
    },
    {
      "cell_type": "code",
      "execution_count": 1,
      "metadata": {
        "id": "SEAKx8SJHnJ4"
      },
      "outputs": [],
      "source": [
        "!apt-get install openjdk-8-jdk-headless -qq > /dev/null\n",
        "!wget -q http://archive.apache.org/dist/spark/spark-3.5.2/spark-3.5.2-bin-hadoop3.tgz\n",
        "!tar xf spark-3.5.2-bin-hadoop3.tgz\n",
        "!pip install -q findspark"
      ]
    },
    {
      "cell_type": "code",
      "source": [
        "import os\n",
        "os.environ[\"JAVA_HOME\"] = \"/usr/lib/jvm/java-8-openjdk-amd64\"\n",
        "os.environ[\"SPARK_HOME\"] = \"/content/spark-3.5.2-bin-hadoop3\""
      ],
      "metadata": {
        "id": "EyYko10_U4FR"
      },
      "execution_count": 2,
      "outputs": []
    },
    {
      "cell_type": "code",
      "source": [
        "import findspark\n",
        "findspark.init()\n"
      ],
      "metadata": {
        "id": "Xh_EivEKWjaX"
      },
      "execution_count": 3,
      "outputs": []
    },
    {
      "cell_type": "code",
      "source": [
        "import json\n",
        "from pyspark.sql import SparkSession\n",
        "from pyspark.sql.types import StructType, StructField, StringType, DoubleType, ArrayType, BooleanType, IntegerType, TimestampType, DecimalType\n",
        "from pyspark.sql.functions import col, explode, input_file_name, regexp_extract, concat, lit\n"
      ],
      "metadata": {
        "id": "md6EahXIr4Ds"
      },
      "execution_count": 89,
      "outputs": []
    },
    {
      "cell_type": "code",
      "source": [
        "# spark = SparkSession.builder.master(\"local[*]\").getOrCreate()\n",
        "# spark.conf.set(\"spark.sql.repl.eagerEval.enabled\", True) # Property used to format output tables better\n",
        "# spark"
      ],
      "metadata": {
        "id": "1GECEtoIrkMP",
        "colab": {
          "base_uri": "https://localhost:8080/",
          "height": 219
        },
        "outputId": "a22e82f3-0efb-4c6f-92a9-fedc822548d9"
      },
      "execution_count": null,
      "outputs": [
        {
          "output_type": "execute_result",
          "data": {
            "text/plain": [
              "<pyspark.sql.session.SparkSession at 0x787b8cf28f70>"
            ],
            "text/html": [
              "\n",
              "            <div>\n",
              "                <p><b>SparkSession - in-memory</b></p>\n",
              "                \n",
              "        <div>\n",
              "            <p><b>SparkContext</b></p>\n",
              "\n",
              "            <p><a href=\"http://ea87bca1fd5a:4040\">Spark UI</a></p>\n",
              "\n",
              "            <dl>\n",
              "              <dt>Version</dt>\n",
              "                <dd><code>v3.5.2</code></dd>\n",
              "              <dt>Master</dt>\n",
              "                <dd><code>local[*]</code></dd>\n",
              "              <dt>AppName</dt>\n",
              "                <dd><code>pyspark-shell</code></dd>\n",
              "            </dl>\n",
              "        </div>\n",
              "        \n",
              "            </div>\n",
              "        "
            ]
          },
          "metadata": {},
          "execution_count": 4
        }
      ]
    },
    {
      "cell_type": "code",
      "source": [
        "# Unpack the json dump\n",
        "import shutil\n",
        "shutil.unpack_archive('/content/json_dumps.zip', '/content/json_dumps/')"
      ],
      "metadata": {
        "id": "RYzMbOAGhEol"
      },
      "execution_count": 5,
      "outputs": []
    },
    {
      "cell_type": "code",
      "source": [
        "import time\n",
        "def timing_decorator(func):\n",
        "    def wrapper(*args, **kwargs):\n",
        "        start_time = time.time()  # Start time\n",
        "        result = func(*args, **kwargs)\n",
        "        end_time = time.time()  # End time\n",
        "        elapsed_time = end_time - start_time\n",
        "        print(f\"Function '{func.__name__}' took {elapsed_time:.4f} seconds to execute.\")\n",
        "        return result\n",
        "    return wrapper"
      ],
      "metadata": {
        "id": "-j1yVQkPqS0R"
      },
      "execution_count": 6,
      "outputs": []
    },
    {
      "cell_type": "code",
      "source": [
        "@timing_decorator\n",
        "# def read_json():\n",
        "#   df = spark.read.json(\"/content/json_dumps/*.json\")\n",
        "#   return df\n",
        "\n",
        "# df = read_json()\n",
        "# df.show(5)"
      ],
      "metadata": {
        "id": "tb0U2okvh86L",
        "outputId": "bf4908c2-8ce1-490e-8fba-f7b085deca4e",
        "colab": {
          "base_uri": "https://localhost:8080/"
        }
      },
      "execution_count": null,
      "outputs": [
        {
          "output_type": "stream",
          "name": "stdout",
          "text": [
            "Function 'read_json' took 144.7838 seconds to execute.\n",
            "+--------------------+\n",
            "|                Siri|\n",
            "+--------------------+\n",
            "|{1.3, http://www....|\n",
            "|{1.3, http://www....|\n",
            "|{1.3, http://www....|\n",
            "|{1.3, http://www....|\n",
            "|{1.3, http://www....|\n",
            "+--------------------+\n",
            "only showing top 5 rows\n",
            "\n"
          ]
        }
      ]
    },
    {
      "cell_type": "code",
      "source": [
        "@timing_decorator\n",
        "# def read_json():\n",
        "#   df = spark.read.json(\"/content/json_dumps/*.json\").repartition(100)\n",
        "#   return df\n",
        "\n",
        "# df = read_json()\n",
        "# df.show(5)\n"
      ],
      "metadata": {
        "id": "2cmfvEhdpCEB",
        "outputId": "c8707e23-9a11-4979-d2b2-9e32b902db4b",
        "colab": {
          "base_uri": "https://localhost:8080/"
        }
      },
      "execution_count": null,
      "outputs": [
        {
          "output_type": "stream",
          "name": "stdout",
          "text": [
            "Function 'read_json' took 144.8710 seconds to execute.\n",
            "+--------------------+\n",
            "|                Siri|\n",
            "+--------------------+\n",
            "|{1.3, http://www....|\n",
            "|{1.3, http://www....|\n",
            "|{1.3, http://www....|\n",
            "|{1.3, http://www....|\n",
            "|{1.3, http://www....|\n",
            "+--------------------+\n",
            "only showing top 5 rows\n",
            "\n"
          ]
        }
      ]
    },
    {
      "cell_type": "code",
      "source": [
        "@timing_decorator\n",
        "# def read_json():\n",
        "#   df = spark.read.option(\"wholeFile\", True).json(\"/content/json_dumps/*.json\").repartition(100)\n",
        "#   return df\n",
        "\n",
        "# df = read_json()\n",
        "# df.show(5)"
      ],
      "metadata": {
        "id": "F2Ygm8iJwDro",
        "outputId": "24e71d50-9dfb-4091-d512-cea3d210cc48",
        "colab": {
          "base_uri": "https://localhost:8080/"
        }
      },
      "execution_count": null,
      "outputs": [
        {
          "output_type": "stream",
          "name": "stdout",
          "text": [
            "Function 'read_json' took 138.6985 seconds to execute.\n",
            "+--------------------+\n",
            "|                Siri|\n",
            "+--------------------+\n",
            "|{1.3, http://www....|\n",
            "|{1.3, http://www....|\n",
            "|{1.3, http://www....|\n",
            "|{1.3, http://www....|\n",
            "|{1.3, http://www....|\n",
            "+--------------------+\n",
            "only showing top 5 rows\n",
            "\n"
          ]
        }
      ]
    },
    {
      "cell_type": "code",
      "source": [
        "@timing_decorator\n",
        "# def read_json():\n",
        "#   df = spark.read \\\n",
        "#             .option(\"wholeFile\", True) \\\n",
        "#             .json(\"/content/json_dumps/*.json\").repartition(100) \\\n",
        "#             .coalesce(10)\n",
        "#   return df\n",
        "\n",
        "# df = read_json()\n",
        "# df.show(5)"
      ],
      "metadata": {
        "id": "BYBHyxVjwNTB"
      },
      "execution_count": null,
      "outputs": []
    },
    {
      "cell_type": "code",
      "source": [
        "# spark.stop()\n",
        "spark = SparkSession.builder \\\n",
        "    .master(\"local[*]\") \\\n",
        "    .config(\"spark.executor.memory\", \"8g\") \\\n",
        "    .config(\"spark.driver.memory\", \"4g\") \\\n",
        "    .config(\"spark.sql.shuffle.partitions\", \"4\") \\\n",
        "    .getOrCreate()\n",
        "spark"
      ],
      "metadata": {
        "id": "xyZ254OqyNvs",
        "outputId": "3b31517e-0216-4c8a-cff5-b3c773cc8395",
        "colab": {
          "base_uri": "https://localhost:8080/",
          "height": 219
        }
      },
      "execution_count": 7,
      "outputs": [
        {
          "output_type": "execute_result",
          "data": {
            "text/plain": [
              "<pyspark.sql.session.SparkSession at 0x7bfcd8156650>"
            ],
            "text/html": [
              "\n",
              "            <div>\n",
              "                <p><b>SparkSession - in-memory</b></p>\n",
              "                \n",
              "        <div>\n",
              "            <p><b>SparkContext</b></p>\n",
              "\n",
              "            <p><a href=\"http://6298d65a57b5:4040\">Spark UI</a></p>\n",
              "\n",
              "            <dl>\n",
              "              <dt>Version</dt>\n",
              "                <dd><code>v3.5.2</code></dd>\n",
              "              <dt>Master</dt>\n",
              "                <dd><code>local[*]</code></dd>\n",
              "              <dt>AppName</dt>\n",
              "                <dd><code>pyspark-shell</code></dd>\n",
              "            </dl>\n",
              "        </div>\n",
              "        \n",
              "            </div>\n",
              "        "
            ]
          },
          "metadata": {},
          "execution_count": 7
        }
      ]
    },
    {
      "cell_type": "code",
      "source": [
        "# Define the schema for the nested JSON structure\n",
        "schema = StructType([\n",
        "    StructField(\"Siri\", StructType([\n",
        "        StructField(\"@version\", StringType(), True),\n",
        "        StructField(\"@xmlns\", StringType(), True),\n",
        "        StructField(\"ResponseTimestamp\", TimestampType(), True),\n",
        "        StructField(\"VehicleMonitoringDelivery\", StructType([\n",
        "            StructField(\"@version\", StringType(), True),\n",
        "            StructField(\"ResponseTimestamp\", TimestampType(), True),\n",
        "            StructField(\"ValidUntil\", StringType(), True),\n",
        "            StructField(\"VehicleActivity\", StructType([\n",
        "                StructField(\"RecordedAtTime\", TimestampType(), True),\n",
        "                StructField(\"MonitoredVehicleJourney\", ArrayType(StructType([\n",
        "                    StructField(\"LineRef\", StringType(), True),\n",
        "                    StructField(\"DirectionRef\", StringType(), True),\n",
        "                    StructField(\"FramedVehicleJourneyRef\", StructType([\n",
        "                        StructField(\"DataFrameRef\", StringType(), True),\n",
        "                        StructField(\"DatedVehicleJourneyRef\", StringType(), True)\n",
        "                    ]), True),\n",
        "                    StructField(\"PublishedLineName\", StringType(), True),\n",
        "                    StructField(\"OriginRef\", StringType(), True),\n",
        "                    StructField(\"DestinationRef\", StringType(), True),\n",
        "                    StructField(\"Monitored\", StringType(), True),\n",
        "                    StructField(\"VehicleLocation\", StructType([\n",
        "                        StructField(\"Longitude\", DecimalType(17, 14), True),\n",
        "                        StructField(\"Latitude\", DecimalType(17, 14), True)\n",
        "                    ]), True),\n",
        "                    StructField(\"ProgressRate\", StringType(), True),\n",
        "                    StructField(\"CourseOfJourneyRef\", StringType(), True),\n",
        "                    StructField(\"VehicleRef\", StringType(), True),\n",
        "                    StructField(\"MonitoredCall\", StructType([\n",
        "                        StructField(\"StopPointRef\", StringType(), True),\n",
        "                        StructField(\"VisitNumber\", StringType(), True),\n",
        "                        StructField(\"VehicleAtStop\", StringType(), True)\n",
        "                    ]), True),\n",
        "                    StructField(\"Extensions\", StructType([\n",
        "                        StructField(\"LastGPSFix\", TimestampType(), True),\n",
        "                        StructField(\"Scheduled\", StringType(), True),\n",
        "                        StructField(\"Bearing\", DecimalType(5, 2), True),\n",
        "                        StructField(\"Speed\", DecimalType(5, 2), True),\n",
        "                        StructField(\"DestinationName\", StringType(), True)\n",
        "                    ]), True)\n",
        "                ])), True)\n",
        "            ]), True)\n",
        "        ]), True)\n",
        "    ]), True)\n",
        "])"
      ],
      "metadata": {
        "id": "oBQezSWuzjT-"
      },
      "execution_count": 101,
      "outputs": []
    },
    {
      "cell_type": "code",
      "source": [
        "@timing_decorator\n",
        "def read_json():\n",
        "    df = spark.read.option(\"wholeFile\", True) \\\n",
        "        .schema(schema) \\\n",
        "        .json(\"/content/json_dumps/*.json\") \\\n",
        "        .withColumn(\"FileId\", input_file_name()) \\\n",
        "        .repartition(100)\n",
        "    return df\n",
        "\n",
        "df = read_json().persist()\n",
        "df.show(5)"
      ],
      "metadata": {
        "id": "CuJRPFQBzVnC",
        "outputId": "22c66308-19fa-4315-a3d4-e8e97138baa5",
        "colab": {
          "base_uri": "https://localhost:8080/"
        }
      },
      "execution_count": 102,
      "outputs": [
        {
          "output_type": "stream",
          "name": "stdout",
          "text": [
            "Function 'read_json' took 59.7444 seconds to execute.\n",
            "+--------------------+--------------------+\n",
            "|                Siri|              FileId|\n",
            "+--------------------+--------------------+\n",
            "|{1.3, http://www....|file:///content/j...|\n",
            "|{1.3, http://www....|file:///content/j...|\n",
            "|{1.3, http://www....|file:///content/j...|\n",
            "|{1.3, http://www....|file:///content/j...|\n",
            "|{1.3, http://www....|file:///content/j...|\n",
            "+--------------------+--------------------+\n",
            "only showing top 5 rows\n",
            "\n"
          ]
        }
      ]
    },
    {
      "cell_type": "code",
      "source": [
        "df.select(\"Siri.VehicleMonitoringDelivery.VehicleActivity.MonitoredVehicleJourney.Extensions\").show(5, False)"
      ],
      "metadata": {
        "colab": {
          "base_uri": "https://localhost:8080/"
        },
        "id": "2autZFX7xre5",
        "outputId": "54cc0211-8ee7-4d96-ba89-43e0e37c1f3a"
      },
      "execution_count": 103,
      "outputs": [
        {
          "output_type": "stream",
          "name": "stdout",
          "text": [
            "+------------------------------------------------------------------------------------------------------------------------------------------------------------------------------------------------------------------------------------------------------------------------------------------------------------------------------------------------------------------------------------------------------------------------------------------------------------------------------------------------------------------------------------------------------------------------------------------------------------------------------------------------------------------------------------------------------------------------------------------------------------------------------------------------------------------------------------------------------------------------------------------------------------------------------------------------------------------------------------------------------------------------------------+\n",
            "|Extensions                                                                                                                                                                                                                                                                                                                                                                                                                                                                                                                                                                                                                                                                                                                                                                                                                                                                                                                                                                                                                          |\n",
            "+------------------------------------------------------------------------------------------------------------------------------------------------------------------------------------------------------------------------------------------------------------------------------------------------------------------------------------------------------------------------------------------------------------------------------------------------------------------------------------------------------------------------------------------------------------------------------------------------------------------------------------------------------------------------------------------------------------------------------------------------------------------------------------------------------------------------------------------------------------------------------------------------------------------------------------------------------------------------------------------------------------------------------------+\n",
            "|[{2024-08-13 11:01:10.397, False, 128.80, 0.00, Ogden via Weber State}, {2024-08-13 11:01:09.693, False, 154.40, 36.37, U of U (Research Park)}, {2024-08-13 11:01:03.497, False, 155.60, 38.90, U of U (Research Park)}, {2024-08-13 11:01:03.047, False, 265.60, 0.00, Ogden via Weber State}, {2024-08-13 11:01:07.393, False, 0.10, 5.75, Ogden via Weber State}, {2024-08-13 11:01:09.35, False, 21.00, 34.64, Ogden via Weber State}, {2024-08-13 11:01:06.817, False, 266.90, 18.30, Ogden via Weber State}, {2024-08-13 11:01:03.62, False, 53.30, 25.66, U of U (Research Park)}, {2024-08-13 11:01:07.177, False, 130.90, 0.12, Ogden via Weber State}, {2024-08-13 11:01:07.033, False, 138.50, 18.99, U of U (Research Park)}, {2024-08-13 11:01:01.64, False, 88.70, 0.00, U of U (Research Park)}, {2024-08-13 11:01:03.73, False, 180.40, 35.56, U of U (Research Park)}, {2024-08-13 11:01:07.69, False, 282.30, 27.39, Ogden via Weber State}, {2024-08-13 11:01:09.757, False, 4.00, 0.12, Ogden via Weber State}]|\n",
            "|[{2024-08-13 11:16:00.553, False, 346.20, 0.00, Ogden via Weber State}, {2024-08-13 11:16:00.21, False, 148.30, 0.00, U of U (Research Park)}, {2024-08-13 11:16:02.557, False, 90.50, 19.91, U of U (Research Park)}, {2024-08-13 11:16:03.443, False, 142.60, 64.33, Ogden via Weber State}, {2024-08-13 11:15:57.73, False, 2.50, 0.00, U of U (Research Park)}, {2024-08-13 11:15:59.583, False, 353.50, 9.32, Ogden via Weber State}, {2024-08-13 11:15:57.29, False, 52.20, 0.00, Ogden via Weber State}, {2024-08-13 11:16:03.71, False, 270.10, 0.12, U of U (Research Park)}, {2024-08-13 11:15:57.51, False, 130.90, 0.00, Ogden via Weber State}, {2024-08-13 11:15:57.29, False, 88.20, 18.18, U of U (Research Park)}, {2024-08-13 11:16:01.79, False, 210.20, 26.24, U of U (Research Park)}, {2024-08-13 11:16:03.443, False, 180.30, 33.37, U of U (Research Park)}, {2024-08-13 11:15:57.947, False, 1.10, 24.05, Ogden via Weber State}, {2024-08-13 11:16:00.023, False, 331.40, 16.80, Ogden via Weber State}]  |\n",
            "|[{2024-08-13 11:18:01.413, False, 236.70, 0.12, Ogden via Weber State}, {2024-08-13 11:18:00.267, False, 148.30, 0.00, U of U (Research Park)}, {2024-08-13 11:17:52.59, False, 90.20, 40.39, U of U (Research Park)}, {2024-08-13 11:17:53.3, False, 160.50, 64.44, Ogden via Weber State}, {2024-08-13 11:17:57.707, False, 2.50, 0.00, U of U (Research Park)}, {2024-08-13 11:17:59.547, False, 355.20, 39.70, Ogden via Weber State}, {2024-08-13 11:17:57.253, False, 48.20, 8.75, Ogden via Weber State}, {2024-08-13 11:17:53.753, False, 95.60, 5.52, U of U (Research Park)}, {2024-08-13 11:17:57.473, False, 130.90, 0.00, Ogden via Weber State}, {2024-08-13 11:17:47.25, False, 178.20, 31.07, U of U (Research Park)}, {2024-08-13 11:17:51.887, False, 233.40, 19.79, U of U (Research Park)}, {2024-08-13 11:17:53.44, False, 181.20, 0.00, U of U (Research Park)}, {2024-08-13 11:17:58.067, False, 1.00, 18.18, Ogden via Weber State}, {2024-08-13 11:18:01.193, False, 39.10, 12.31, Ogden via Weber State}] |\n",
            "|[{2024-08-13 10:57:50.19, False, 128.80, 0.00, Ogden via Weber State}, {2024-08-13 10:57:49.63, False, 215.80, 27.62, U of U (Research Park)}, {2024-08-13 10:57:52.243, False, 198.60, 63.75, U of U (Research Park)}, {2024-08-13 10:57:52.9, False, 91.70, 1.04, Ogden via Weber State}, {2024-08-13 10:57:47.383, False, 1.60, 0.00, Ogden via Weber State}, {2024-08-13 10:57:49.19, False, 330.70, 38.09, Ogden via Weber State}, {2024-08-13 10:57:47.007, False, 359.60, 24.97, Ogden via Weber State}, {2024-08-13 10:57:53.513, False, 149.10, 0.00, U of U (Research Park)}, {2024-08-13 10:57:57.057, False, 130.90, 0.00, Ogden via Weber State}, {2024-08-13 10:57:56.853, False, 181.00, 34.41, U of U (Research Park)}, {2024-08-13 10:57:51.553, False, 180.20, 34.41, U of U (Research Park)}, {2024-08-13 10:57:53.01, False, 93.10, 2.19, U of U (Research Park)}, {2024-08-13 10:57:47.68, False, 183.60, 21.17, Ogden via Weber State}, {2024-08-13 10:57:49.677, False, 0.40, 29.69, Ogden via Weber State}] |\n",
            "|[{2024-08-13 10:56:10.3, False, 128.80, 0.00, Ogden via Weber State}, {2024-08-13 10:56:09.597, False, 151.70, 28.54, U of U (Research Park)}, {2024-08-13 10:56:12.317, False, 201.00, 20.71, U of U (Research Park)}, {2024-08-13 10:56:12.957, False, 73.90, 8.63, Ogden via Weber State}, {2024-08-13 10:56:07.327, False, 1.20, 0.00, Ogden via Weber State}, {2024-08-13 10:56:09.267, False, 358.90, 32.34, Ogden via Weber State}, {2024-08-13 10:56:06.73, False, 1.60, 5.29, Ogden via Weber State}, {2024-08-13 10:56:13.687, False, 213.10, 1.73, U of U (Research Park)}, {2024-08-13 10:56:07.06, False, 130.90, 0.00, Ogden via Weber State}, {2024-08-13 10:56:06.857, False, 161.70, 18.18, U of U (Research Park)}, {2024-08-13 10:56:11.66, False, 165.60, 34.75, U of U (Research Park)}, {2024-08-13 10:56:12.987, False, 1.20, 0.00, U of U (Research Park)}, {2024-08-13 10:56:07.577, False, 205.90, 9.44, Ogden via Weber State}, {2024-08-13 10:56:09.72, False, 291.20, 23.25, Ogden via Weber State}]   |\n",
            "+------------------------------------------------------------------------------------------------------------------------------------------------------------------------------------------------------------------------------------------------------------------------------------------------------------------------------------------------------------------------------------------------------------------------------------------------------------------------------------------------------------------------------------------------------------------------------------------------------------------------------------------------------------------------------------------------------------------------------------------------------------------------------------------------------------------------------------------------------------------------------------------------------------------------------------------------------------------------------------------------------------------------------------+\n",
            "only showing top 5 rows\n",
            "\n"
          ]
        }
      ]
    },
    {
      "cell_type": "code",
      "source": [
        "flattened_df = df.select(\n",
        "    \"FileId\",\n",
        "    col(\"Siri.@version\").alias(\"Siri_version\"),\n",
        "    col(\"Siri.@xmlns\").alias(\"Siri_xmlns\"),\n",
        "    col(\"Siri.ResponseTimestamp\").alias(\"Siri_ResponseTimestamp\"),\n",
        "    col(\"Siri.VehicleMonitoringDelivery.@version\").alias(\"VehicleMonitoringDelivery_version\"),\n",
        "    col(\"Siri.VehicleMonitoringDelivery.ResponseTimestamp\").alias(\"VehicleMonitoringDelivery_ResponseTimestamp\"),\n",
        "    col(\"Siri.VehicleMonitoringDelivery.ValidUntil\").alias(\"VehicleMonitoringDelivery_ValidUntil\"),\n",
        "    col(\"Siri.VehicleMonitoringDelivery.VehicleActivity.RecordedAtTime\").alias(\"RecordedAtTime\"),\n",
        "    explode(\"Siri.VehicleMonitoringDelivery.VehicleActivity.MonitoredVehicleJourney\").alias(\"MonitoredVehicleJourney\")\n",
        ")"
      ],
      "metadata": {
        "id": "ms5qPw71oyMr"
      },
      "execution_count": 104,
      "outputs": []
    },
    {
      "cell_type": "code",
      "source": [
        "flattened_df = flattened_df.select(\n",
        "    \"FileId\",\n",
        "    \"Siri_version\", \"Siri_xmlns\", \"Siri_ResponseTimestamp\",\n",
        "    \"VehicleMonitoringDelivery_version\", \"VehicleMonitoringDelivery_ResponseTimestamp\",\n",
        "    \"VehicleMonitoringDelivery_ValidUntil\", \"RecordedAtTime\",\n",
        "    col(\"MonitoredVehicleJourney.LineRef\").alias(\"LineRef\"),\n",
        "    col(\"MonitoredVehicleJourney.DirectionRef\").alias(\"DirectionRef\"),\n",
        "    col(\"MonitoredVehicleJourney.FramedVehicleJourneyRef.DataFrameRef\").alias(\"DataFrameRef\"),\n",
        "    col(\"MonitoredVehicleJourney.FramedVehicleJourneyRef.DatedVehicleJourneyRef\").alias(\"DatedVehicleJourneyRef\"),\n",
        "    col(\"MonitoredVehicleJourney.PublishedLineName\").alias(\"PublishedLineName\"),\n",
        "    col(\"MonitoredVehicleJourney.OriginRef\").alias(\"OriginRef\"),\n",
        "    col(\"MonitoredVehicleJourney.DestinationRef\").alias(\"DestinationRef\"),\n",
        "    col(\"MonitoredVehicleJourney.Monitored\").alias(\"Monitored\"),\n",
        "    col(\"MonitoredVehicleJourney.VehicleLocation.Longitude\").alias(\"VehicleLocation_Longitude\"),\n",
        "    col(\"MonitoredVehicleJourney.VehicleLocation.Latitude\").alias(\"VehicleLocation_Latitude\"),\n",
        "    col(\"MonitoredVehicleJourney.ProgressRate\").alias(\"ProgressRate\"),\n",
        "    col(\"MonitoredVehicleJourney.CourseOfJourneyRef\").alias(\"CourseOfJourneyRef\"),\n",
        "    col(\"MonitoredVehicleJourney.VehicleRef\").alias(\"VehicleRef\"),\n",
        "    col(\"MonitoredVehicleJourney.MonitoredCall.StopPointRef\").alias(\"MonitoredCall_StopPointRef\"),\n",
        "    col(\"MonitoredVehicleJourney.MonitoredCall.VisitNumber\").alias(\"MonitoredCall_VisitNumber\"),\n",
        "    col(\"MonitoredVehicleJourney.MonitoredCall.VehicleAtStop\").alias(\"MonitoredCall_VehicleAtStop\"),\n",
        "    col(\"MonitoredVehicleJourney.Extensions.LastGPSFix\").alias(\"Extensions_LastGPSFix\"),\n",
        "    col(\"MonitoredVehicleJourney.Extensions.Scheduled\").alias(\"Extensions_Scheduled\"),\n",
        "    col(\"MonitoredVehicleJourney.Extensions.Bearing\").alias(\"Extensions_Bearing\"),\n",
        "    col(\"MonitoredVehicleJourney.Extensions.Speed\").alias(\"Extensions_Speed\"),\n",
        "    col(\"MonitoredVehicleJourney.Extensions.DestinationName\").alias(\"Extensions_DestinationName\")\n",
        ")"
      ],
      "metadata": {
        "id": "-lNGx1Pbo3uo"
      },
      "execution_count": 105,
      "outputs": []
    },
    {
      "cell_type": "code",
      "source": [
        "flattened_df = flattened_df.withColumn(\"FileId\", regexp_extract(\"FileId\", r\"([^/]+)(?=\\.json$)\", 1))\n",
        "flattened_df.show(5)"
      ],
      "metadata": {
        "colab": {
          "base_uri": "https://localhost:8080/"
        },
        "id": "kovEhPZXs8Oq",
        "outputId": "e2385f72-7df3-409a-e35d-2ce75e1ec881"
      },
      "execution_count": 106,
      "outputs": [
        {
          "output_type": "stream",
          "name": "stdout",
          "text": [
            "+--------------+------------+--------------------+----------------------+---------------------------------+-------------------------------------------+------------------------------------+--------------------+-------+--------------+--------------------+----------------------+--------------------+---------+--------------+---------+-------------------------+------------------------+------------+------------------+----------+--------------------------+-------------------------+---------------------------+---------------------+--------------------+------------------+----------------+--------------------------+\n",
            "|        FileId|Siri_version|          Siri_xmlns|Siri_ResponseTimestamp|VehicleMonitoringDelivery_version|VehicleMonitoringDelivery_ResponseTimestamp|VehicleMonitoringDelivery_ValidUntil|      RecordedAtTime|LineRef|  DirectionRef|        DataFrameRef|DatedVehicleJourneyRef|   PublishedLineName|OriginRef|DestinationRef|Monitored|VehicleLocation_Longitude|VehicleLocation_Latitude|ProgressRate|CourseOfJourneyRef|VehicleRef|MonitoredCall_StopPointRef|MonitoredCall_VisitNumber|MonitoredCall_VehicleAtStop|Extensions_LastGPSFix|Extensions_Scheduled|Extensions_Bearing|Extensions_Speed|Extensions_DestinationName|\n",
            "+--------------+------------+--------------------+----------------------+---------------------------------+-------------------------------------------+------------------------------------+--------------------+-------+--------------+--------------------+----------------------+--------------------+---------+--------------+---------+-------------------------+------------------------+------------+------------------+----------+--------------------------+-------------------------+---------------------------+---------------------+--------------------+------------------+----------------+--------------------------+\n",
            "|455-1723568479|         1.3|http://www.siri.o...|  2024-08-13 17:01:...|                              1.3|                       2024-08-13 17:01:...|                2024-08-13T11:01:...|2024-08-13 17:01:...|    455| OGDEN VIA WSU|2024-08-13T00:00:...|               5319029|U OF U/DAVIS COUN...|   127027|        623423|     True|      -111.83105200000000|       40.75620800000000|           1|              5641|     10008|                      NULL|                     NULL|                       NULL| 2024-08-13 11:01:...|               False|            128.80|            0.00|      Ogden via Weber S...|\n",
            "|455-1723568479|         1.3|http://www.siri.o...|  2024-08-13 17:01:...|                              1.3|                       2024-08-13 17:01:...|                2024-08-13T11:01:...|2024-08-13 17:01:...|    455|U OF U VIA SLC|2024-08-13T00:00:...|               5319056|U OF U/DAVIS COUN...|   623202|        127027|     True|      -111.90835683333333|       41.00868500000000|           1|             31806|     14006|                      NULL|                     NULL|                       NULL| 2024-08-13 11:01:...|               False|            154.40|           36.37|      U of U (Research ...|\n",
            "|455-1723568479|         1.3|http://www.siri.o...|  2024-08-13 17:01:...|                              1.3|                       2024-08-13 17:01:...|                2024-08-13T11:01:...|2024-08-13 17:01:...|    455|U OF U VIA SLC|2024-08-13T00:00:...|               5319054|U OF U/DAVIS COUN...|   623202|        127027|     True|      -111.90258616666667|       40.79240216666667|           1|             32329|     14008|                      NULL|                     NULL|                       NULL| 2024-08-13 11:01:...|               False|            155.60|           38.90|      U of U (Research ...|\n",
            "|455-1723568479|         1.3|http://www.siri.o...|  2024-08-13 17:01:...|                              1.3|                       2024-08-13 17:01:...|                2024-08-13T11:01:...|2024-08-13 17:01:...|    455| OGDEN VIA WSU|2024-08-13T00:00:...|               5319032|U OF U/DAVIS COUN...|   127027|        623423|     True|      -112.00612616666666|       41.22937016666667|           1|             32609|     14011|                      NULL|                     NULL|                       NULL| 2024-08-13 11:01:...|               False|            265.60|            0.00|      Ogden via Weber S...|\n",
            "|455-1723568479|         1.3|http://www.siri.o...|  2024-08-13 17:01:...|                              1.3|                       2024-08-13 17:01:...|                2024-08-13T11:01:...|2024-08-13 17:01:...|    455| OGDEN VIA WSU|2024-08-13T00:00:...|               5319024|U OF U/DAVIS COUN...|   127027|        623423|     True|      -111.97865266666666|       41.22915383333334|           1|             32762|     14012|                      NULL|                     NULL|                       NULL| 2024-08-13 11:01:...|               False|              0.10|            5.75|      Ogden via Weber S...|\n",
            "+--------------+------------+--------------------+----------------------+---------------------------------+-------------------------------------------+------------------------------------+--------------------+-------+--------------+--------------------+----------------------+--------------------+---------+--------------+---------+-------------------------+------------------------+------------+------------------+----------+--------------------------+-------------------------+---------------------------+---------------------+--------------------+------------------+----------------+--------------------------+\n",
            "only showing top 5 rows\n",
            "\n"
          ]
        }
      ]
    },
    {
      "cell_type": "markdown",
      "source": [
        "## Exploratory Data Analysis"
      ],
      "metadata": {
        "id": "ZWAEBgwuOUab"
      }
    },
    {
      "cell_type": "code",
      "source": [
        "testdf = flattened_df.filter(col(\"FileId\") == \"455-1723569052\")\n",
        "testdf.withColumn(\"Lat_Long\", concat(\"VehicleLocation_Latitude\", lit(\", \"), \"VehicleLocation_Longitude\") ).show(100, False)"
      ],
      "metadata": {
        "colab": {
          "base_uri": "https://localhost:8080/"
        },
        "id": "sNtBsPBM0tWc",
        "outputId": "716f8e0f-e44b-448a-99d8-8d17b450e06e"
      },
      "execution_count": 107,
      "outputs": [
        {
          "output_type": "stream",
          "name": "stdout",
          "text": [
            "+--------------+------------+---------------------------+--------------------------+---------------------------------+-------------------------------------------+------------------------------------+--------------------------+-------+--------------+-------------------------+----------------------+-----------------------+---------+--------------+---------+-------------------------+------------------------+------------+------------------+----------+--------------------------+-------------------------+---------------------------+-----------------------+--------------------+------------------+----------------+--------------------------+--------------------------------------+\n",
            "|FileId        |Siri_version|Siri_xmlns                 |Siri_ResponseTimestamp    |VehicleMonitoringDelivery_version|VehicleMonitoringDelivery_ResponseTimestamp|VehicleMonitoringDelivery_ValidUntil|RecordedAtTime            |LineRef|DirectionRef  |DataFrameRef             |DatedVehicleJourneyRef|PublishedLineName      |OriginRef|DestinationRef|Monitored|VehicleLocation_Longitude|VehicleLocation_Latitude|ProgressRate|CourseOfJourneyRef|VehicleRef|MonitoredCall_StopPointRef|MonitoredCall_VisitNumber|MonitoredCall_VehicleAtStop|Extensions_LastGPSFix  |Extensions_Scheduled|Extensions_Bearing|Extensions_Speed|Extensions_DestinationName|Lat_Long                              |\n",
            "+--------------+------------+---------------------------+--------------------------+---------------------------------+-------------------------------------------+------------------------------------+--------------------------+-------+--------------+-------------------------+----------------------+-----------------------+---------+--------------+---------+-------------------------+------------------------+------------+------------------+----------+--------------------------+-------------------------+---------------------------+-----------------------+--------------------+------------------+----------------+--------------------------+--------------------------------------+\n",
            "|455-1723569052|1.3         |http://www.siri.org.uk/siri|2024-08-13 17:10:52.824406|1.3                              |2024-08-13 17:10:52.824406                 |2024-08-13T11:11:02.8244066-06:00   |2024-08-13 17:10:52.824406|455    |OGDEN VIA WSU |2024-08-13T00:00:00-06:00|5319029               |U OF U/DAVIS COUNTY/WSU|127027   |623423        |True     |-111.82733033333334      |40.75607650000000       |1           |5641              |10008     |NULL                      |NULL                     |NULL                       |2024-08-13 11:10:40.773|False               |121.90            |10.82           |Ogden via Weber State     |40.75607650000000, -111.82733033333334|\n",
            "|455-1723569052|1.3         |http://www.siri.org.uk/siri|2024-08-13 17:10:52.824406|1.3                              |2024-08-13 17:10:52.824406                 |2024-08-13T11:11:02.8244066-06:00   |2024-08-13 17:10:52.824406|455    |U OF U VIA SLC|2024-08-13T00:00:00-06:00|5319056               |U OF U/DAVIS COUNTY/WSU|623202   |127027        |True     |-111.89228133333333      |40.98053150000000       |1           |31806             |14006     |NULL                      |NULL                     |NULL                       |2024-08-13 11:10:39.913|False               |266.40            |24.05           |U of U (Research Park)    |40.98053150000000, -111.89228133333333|\n",
            "|455-1723569052|1.3         |http://www.siri.org.uk/siri|2024-08-13 17:10:52.824406|1.3                              |2024-08-13 17:10:52.824406                 |2024-08-13T11:11:02.8244066-06:00   |2024-08-13 17:10:52.824406|455    |U OF U VIA SLC|2024-08-13T00:00:00-06:00|5319054               |U OF U/DAVIS COUNTY/WSU|623202   |127027        |True     |-111.88829316666667      |40.76385583333333       |1           |32329             |14008     |NULL                      |NULL                     |NULL                       |2024-08-13 11:10:42.4  |False               |179.80            |0.12            |U of U (Research Park)    |40.76385583333333, -111.88829316666667|\n",
            "|455-1723569052|1.3         |http://www.siri.org.uk/siri|2024-08-13 17:10:52.824406|1.3                              |2024-08-13 17:10:52.824406                 |2024-08-13T11:11:02.8244066-06:00   |2024-08-13 17:10:52.824406|455    |OGDEN VIA WSU |2024-08-13T00:00:00-06:00|5319032               |U OF U/DAVIS COUNTY/WSU|127027   |623423        |True     |-112.01267983333334      |41.11279583333334       |1           |32609             |14011     |NULL                      |NULL                     |NULL                       |2024-08-13 11:10:43.17 |False               |145.40            |64.44           |Ogden via Weber State     |41.11279583333334, -112.01267983333334|\n",
            "|455-1723569052|1.3         |http://www.siri.org.uk/siri|2024-08-13 17:10:52.824406|1.3                              |2024-08-13 17:10:52.824406                 |2024-08-13T11:11:02.8244066-06:00   |2024-08-13 17:10:52.824406|455    |U OF U VIA SLC|2024-08-13T00:00:00-06:00|5319059               |U OF U/DAVIS COUNTY/WSU|623202   |127027        |True     |-111.97891566666667      |41.23566050000000       |1           |32762             |14012     |NULL                      |NULL                     |NULL                       |2024-08-13 11:10:37.617|False               |2.50              |0.00            |U of U (Research Park)    |41.23566050000000, -111.97891566666667|\n",
            "|455-1723569052|1.3         |http://www.siri.org.uk/siri|2024-08-13 17:10:52.824406|1.3                              |2024-08-13 17:10:52.824406                 |2024-08-13T11:11:02.8244066-06:00   |2024-08-13 17:10:52.824406|455    |OGDEN VIA WSU |2024-08-13T00:00:00-06:00|5319026               |U OF U/DAVIS COUNTY/WSU|127027   |623423        |True     |-111.90948333333333      |41.04406050000000       |1           |32764             |14015     |NULL                      |NULL                     |NULL                       |2024-08-13 11:10:39.49 |False               |9.20              |26.93           |Ogden via Weber State     |41.04406050000000, -111.90948333333333|\n",
            "|455-1723569052|1.3         |http://www.siri.org.uk/siri|2024-08-13 17:10:52.824406|1.3                              |2024-08-13 17:10:52.824406                 |2024-08-13T11:11:02.8244066-06:00   |2024-08-13 17:10:52.824406|455    |OGDEN VIA WSU |2024-08-13T00:00:00-06:00|5319028               |U OF U/DAVIS COUNTY/WSU|127027   |623423        |True     |-111.91209483333333      |40.83714516666667       |1           |32792             |14016     |NULL                      |NULL                     |NULL                       |2024-08-13 11:10:37.413|False               |83.10             |10.70           |Ogden via Weber State     |40.83714516666667, -111.91209483333333|\n",
            "|455-1723569052|1.3         |http://www.siri.org.uk/siri|2024-08-13 17:10:52.824406|1.3                              |2024-08-13 17:10:52.824406                 |2024-08-13T11:11:02.8244066-06:00   |2024-08-13 17:10:52.824406|455    |U OF U VIA SLC|2024-08-13T00:00:00-06:00|5319053               |U OF U/DAVIS COUNTY/WSU|623202   |127027        |True     |-111.87364900000000      |40.76080350000000       |1           |36805             |15008     |NULL                      |NULL                     |NULL                       |2024-08-13 11:10:43.65 |False               |270.30            |25.55           |U of U (Research Park)    |40.76080350000000, -111.87364900000000|\n",
            "|455-1723569052|1.3         |http://www.siri.org.uk/siri|2024-08-13 17:10:52.824406|1.3                              |2024-08-13 17:10:52.824406                 |2024-08-13T11:11:02.8244066-06:00   |2024-08-13 17:10:52.824406|455    |OGDEN VIA WSU |2024-08-13T00:00:00-06:00|5319030               |U OF U/DAVIS COUNTY/WSU|127027   |623423        |True     |-111.83088433333333      |40.75609916666667       |1           |57342             |17007     |NULL                      |NULL                     |NULL                       |2024-08-13 11:10:37.413|False               |130.90            |0.00            |Ogden via Weber State     |40.75609916666667, -111.83088433333333|\n",
            "|455-1723569052|1.3         |http://www.siri.org.uk/siri|2024-08-13 17:10:52.824406|1.3                              |2024-08-13 17:10:52.824406                 |2024-08-13T11:11:02.8244066-06:00   |2024-08-13 17:10:52.824406|455    |U OF U VIA SLC|2024-08-13T00:00:00-06:00|5319057               |U OF U/DAVIS COUNTY/WSU|623202   |127027        |True     |-111.90902800000000      |41.11483066666667       |1           |57570             |17011     |NULL                      |NULL                     |NULL                       |2024-08-13 11:10:37.24 |False               |183.60            |48.79           |U of U (Research Park)    |41.11483066666667, -111.90902800000000|\n",
            "|455-1723569052|1.3         |http://www.siri.org.uk/siri|2024-08-13 17:10:52.824406|1.3                              |2024-08-13 17:10:52.824406                 |2024-08-13T11:11:02.8244066-06:00   |2024-08-13 17:10:52.824406|455    |U OF U VIA SLC|2024-08-13T00:00:00-06:00|5319055               |U OF U/DAVIS COUNTY/WSU|623202   |127027        |True     |-111.86800033333333      |40.88656616666667       |1           |65206             |18004     |NULL                      |NULL                     |NULL                       |2024-08-13 11:10:41.76 |False               |131.50            |4.60            |U of U (Research Park)    |40.88656616666667, -111.86800033333333|\n",
            "|455-1723569052|1.3         |http://www.siri.org.uk/siri|2024-08-13 17:10:52.824406|1.3                              |2024-08-13 17:10:52.824406                 |2024-08-13T11:11:02.8244066-06:00   |2024-08-13 17:10:52.824406|455    |U OF U VIA SLC|2024-08-13T00:00:00-06:00|5319058               |U OF U/DAVIS COUNTY/WSU|623202   |127027        |True     |-111.97068433333334      |41.21214466666667       |1           |62679             |18016     |NULL                      |NULL                     |NULL                       |2024-08-13 11:10:43.29 |False               |180.70            |23.94           |U of U (Research Park)    |41.21214466666667, -111.97068433333334|\n",
            "|455-1723569052|1.3         |http://www.siri.org.uk/siri|2024-08-13 17:10:52.824406|1.3                              |2024-08-13 17:10:52.824406                 |2024-08-13T11:11:02.8244066-06:00   |2024-08-13 17:10:52.824406|455    |OGDEN VIA WSU |2024-08-13T00:00:00-06:00|5319025               |U OF U/DAVIS COUNTY/WSU|127027   |623423        |True     |-111.94781483333334      |41.19309733333333       |1           |397019            |21077     |NULL                      |NULL                     |NULL                       |2024-08-13 11:10:37.9  |False               |30.60             |16.34           |Ogden via Weber State     |41.19309733333333, -111.94781483333334|\n",
            "|455-1723569052|1.3         |http://www.siri.org.uk/siri|2024-08-13 17:10:52.824406|1.3                              |2024-08-13 17:10:52.824406                 |2024-08-13T11:11:02.8244066-06:00   |2024-08-13 17:10:52.824406|455    |OGDEN VIA WSU |2024-08-13T00:00:00-06:00|5319027               |U OF U/DAVIS COUNTY/WSU|127027   |623423        |True     |-111.88589866666666      |40.98052850000000       |1           |393741            |21080     |NULL                      |NULL                     |NULL                       |2024-08-13 11:10:40.413|False               |276.20            |23.82           |Ogden via Weber State     |40.98052850000000, -111.88589866666666|\n",
            "+--------------+------------+---------------------------+--------------------------+---------------------------------+-------------------------------------------+------------------------------------+--------------------------+-------+--------------+-------------------------+----------------------+-----------------------+---------+--------------+---------+-------------------------+------------------------+------------+------------------+----------+--------------------------+-------------------------+---------------------------+-----------------------+--------------------+------------------+----------------+--------------------------+--------------------------------------+\n",
            "\n"
          ]
        }
      ]
    },
    {
      "cell_type": "code",
      "source": [
        "# Check if there are duplicates. Identify if there are duplicates for columns DatedVehicleJourneyRef, VehicleRef\n",
        "testdf.groupBy(\"VehicleRef\")\\\n",
        "    .count()\\\n",
        "    .filter(col(\"count\") > 1)\\\n",
        "    .show()\n"
      ],
      "metadata": {
        "id": "P_3FZIHfOfzq",
        "outputId": "4060ed85-9ad4-4a2a-b4b4-dfd37888ddbd",
        "colab": {
          "base_uri": "https://localhost:8080/"
        }
      },
      "execution_count": 108,
      "outputs": [
        {
          "output_type": "stream",
          "name": "stdout",
          "text": [
            "+----------+-----+\n",
            "|VehicleRef|count|\n",
            "+----------+-----+\n",
            "+----------+-----+\n",
            "\n"
          ]
        }
      ]
    },
    {
      "cell_type": "code",
      "source": [
        "\n",
        "flattened_df.filter(col(\"VehicleRef\") == \"14008\").orderBy(\"Siri_ResponseTimestamp\").show(25, False)\n",
        "# flattened_df.filter(col(\"Extensions_Scheduled\") != False).show(5)"
      ],
      "metadata": {
        "id": "I13fBpPsQyOd",
        "outputId": "fc18fab8-c1b7-4bb3-ead4-b9d54b9a960b",
        "colab": {
          "base_uri": "https://localhost:8080/"
        }
      },
      "execution_count": 109,
      "outputs": [
        {
          "output_type": "stream",
          "name": "stdout",
          "text": [
            "+--------------+------------+---------------------------+--------------------------+---------------------------------+-------------------------------------------+------------------------------------+--------------------------+-------+--------------+-------------------------+----------------------+-----------------------+---------+--------------+---------+-------------------------+------------------------+------------+------------------+----------+--------------------------+-------------------------+---------------------------+-----------------------+--------------------+------------------+----------------+--------------------------+\n",
            "|FileId        |Siri_version|Siri_xmlns                 |Siri_ResponseTimestamp    |VehicleMonitoringDelivery_version|VehicleMonitoringDelivery_ResponseTimestamp|VehicleMonitoringDelivery_ValidUntil|RecordedAtTime            |LineRef|DirectionRef  |DataFrameRef             |DatedVehicleJourneyRef|PublishedLineName      |OriginRef|DestinationRef|Monitored|VehicleLocation_Longitude|VehicleLocation_Latitude|ProgressRate|CourseOfJourneyRef|VehicleRef|MonitoredCall_StopPointRef|MonitoredCall_VisitNumber|MonitoredCall_VehicleAtStop|Extensions_LastGPSFix  |Extensions_Scheduled|Extensions_Bearing|Extensions_Speed|Extensions_DestinationName|\n",
            "+--------------+------------+---------------------------+--------------------------+---------------------------------+-------------------------------------------+------------------------------------+--------------------------+-------+--------------+-------------------------+----------------------+-----------------------+---------+--------------+---------+-------------------------+------------------------+------------+------------------+----------+--------------------------+-------------------------+---------------------------+-----------------------+--------------------+------------------+----------------+--------------------------+\n",
            "|455-1723562084|1.3         |http://www.siri.org.uk/siri|2024-08-13 15:14:44.244408|1.3                              |2024-08-13 15:14:44.244408                 |2024-08-13T09:14:54.2444084-06:00   |2024-08-13 15:14:44.244408|455    |U OF U VIA SLC|2024-08-13T00:00:00-06:00|5319054               |U OF U/DAVIS COUNTY/WSU|623202   |127027        |True     |-111.97939050000000      |41.22283850000000       |1           |32329             |14008     |NULL                      |NULL                     |NULL                       |2024-08-13 09:14:40.983|False               |288.30            |15.42           |U of U (Research Park)    |\n",
            "|455-1723562090|1.3         |http://www.siri.org.uk/siri|2024-08-13 15:14:50.258744|1.3                              |2024-08-13 15:14:50.258744                 |2024-08-13T09:15:00.2587443-06:00   |2024-08-13 15:14:50.258744|455    |U OF U VIA SLC|2024-08-13T00:00:00-06:00|5319054               |U OF U/DAVIS COUNTY/WSU|623202   |127027        |True     |-111.97939050000000      |41.22283850000000       |1           |32329             |14008     |NULL                      |NULL                     |NULL                       |2024-08-13 09:14:40.983|False               |288.30            |15.42           |U of U (Research Park)    |\n",
            "|455-1723562096|1.3         |http://www.siri.org.uk/siri|2024-08-13 15:14:56.244238|1.3                              |2024-08-13 15:14:56.244238                 |2024-08-13T09:15:06.2442388-06:00   |2024-08-13 15:14:56.244238|455    |U OF U VIA SLC|2024-08-13T00:00:00-06:00|5319054               |U OF U/DAVIS COUNTY/WSU|623202   |127027        |True     |-111.97983316666667      |41.22322533333333       |1           |32329             |14008     |NULL                      |NULL                     |NULL                       |2024-08-13 09:14:51.093|False               |350.80            |18.87           |U of U (Research Park)    |\n",
            "|455-1723562101|1.3         |http://www.siri.org.uk/siri|2024-08-13 15:15:01.965228|1.3                              |2024-08-13 15:15:01.965228                 |2024-08-13T09:15:11.9652285-06:00   |2024-08-13 15:15:01.965228|455    |U OF U VIA SLC|2024-08-13T00:00:00-06:00|5319054               |U OF U/DAVIS COUNTY/WSU|623202   |127027        |True     |-111.97983316666667      |41.22322533333333       |1           |32329             |14008     |NULL                      |NULL                     |NULL                       |2024-08-13 09:14:51.093|False               |350.80            |18.87           |U of U (Research Park)    |\n",
            "|455-1723562107|1.3         |http://www.siri.org.uk/siri|2024-08-13 15:15:07.671052|1.3                              |2024-08-13 15:15:07.671052                 |2024-08-13T09:15:17.6710527-06:00   |2024-08-13 15:15:07.671052|455    |U OF U VIA SLC|2024-08-13T00:00:00-06:00|5319054               |U OF U/DAVIS COUNTY/WSU|623202   |127027        |True     |-111.98003116666666      |41.22397100000000       |1           |32329             |14008     |NULL                      |NULL                     |NULL                       |2024-08-13 09:15:00.957|False               |347.40            |17.61           |U of U (Research Park)    |\n",
            "|455-1723562113|1.3         |http://www.siri.org.uk/siri|2024-08-13 15:15:13.522134|1.3                              |2024-08-13 15:15:13.522134                 |2024-08-13T09:15:23.5221347-06:00   |2024-08-13 15:15:13.522134|455    |U OF U VIA SLC|2024-08-13T00:00:00-06:00|5319054               |U OF U/DAVIS COUNTY/WSU|623202   |127027        |True     |-111.98003116666666      |41.22397100000000       |1           |32329             |14008     |NULL                      |NULL                     |NULL                       |2024-08-13 09:15:00.957|False               |347.40            |17.61           |U of U (Research Park)    |\n",
            "|455-1723562119|1.3         |http://www.siri.org.uk/siri|2024-08-13 15:15:19.276041|1.3                              |2024-08-13 15:15:19.276041                 |2024-08-13T09:15:29.2760416-06:00   |2024-08-13 15:15:19.276041|455    |U OF U VIA SLC|2024-08-13T00:00:00-06:00|5319054               |U OF U/DAVIS COUNTY/WSU|623202   |127027        |True     |-111.97976500000000      |41.22422666666667       |1           |32329             |14008     |NULL                      |NULL                     |NULL                       |2024-08-13 09:15:11.02 |False               |147.20            |11.74           |U of U (Research Park)    |\n",
            "|455-1723562125|1.3         |http://www.siri.org.uk/siri|2024-08-13 15:15:25.024987|1.3                              |2024-08-13 15:15:25.024987                 |2024-08-13T09:15:35.0249873-06:00   |2024-08-13 15:15:25.024987|455    |U OF U VIA SLC|2024-08-13T00:00:00-06:00|5319054               |U OF U/DAVIS COUNTY/WSU|623202   |127027        |True     |-111.97976500000000      |41.22422666666667       |1           |32329             |14008     |NULL                      |NULL                     |NULL                       |2024-08-13 09:15:11.02 |False               |147.20            |11.74           |U of U (Research Park)    |\n",
            "|455-1723562130|1.3         |http://www.siri.org.uk/siri|2024-08-13 15:15:30.779531|1.3                              |2024-08-13 15:15:30.779531                 |2024-08-13T09:15:40.7795318-06:00   |2024-08-13 15:15:30.779531|455    |U OF U VIA SLC|2024-08-13T00:00:00-06:00|5319054               |U OF U/DAVIS COUNTY/WSU|623202   |127027        |True     |-111.97972116666666      |41.22388266666667       |1           |32329             |14008     |NULL                      |NULL                     |NULL                       |2024-08-13 09:15:21.66 |False               |147.20            |2.07            |U of U (Research Park)    |\n",
            "|455-1723562136|1.3         |http://www.siri.org.uk/siri|2024-08-13 15:15:36.481118|1.3                              |2024-08-13 15:15:36.481118                 |2024-08-13T09:15:46.4811188-06:00   |2024-08-13 15:15:36.481118|455    |U OF U VIA SLC|2024-08-13T00:00:00-06:00|5319054               |U OF U/DAVIS COUNTY/WSU|623202   |127027        |True     |-111.97972116666666      |41.22388266666667       |1           |32329             |14008     |NULL                      |NULL                     |NULL                       |2024-08-13 09:15:21.66 |False               |147.20            |2.07            |U of U (Research Park)    |\n",
            "|455-1723562142|1.3         |http://www.siri.org.uk/siri|2024-08-13 15:15:42.191668|1.3                              |2024-08-13 15:15:42.191668                 |2024-08-13T09:15:52.1916681-06:00   |2024-08-13 15:15:42.191668|455    |U OF U VIA SLC|2024-08-13T00:00:00-06:00|5319054               |U OF U/DAVIS COUNTY/WSU|623202   |127027        |True     |-111.97907133333334      |41.22340466666667       |1           |32329             |14008     |NULL                      |NULL                     |NULL                       |2024-08-13 09:15:41.02 |False               |164.30            |1.27            |U of U (Research Park)    |\n",
            "|455-1723562147|1.3         |http://www.siri.org.uk/siri|2024-08-13 15:15:47.921436|1.3                              |2024-08-13 15:15:47.921436                 |2024-08-13T09:15:57.9214367-06:00   |2024-08-13 15:15:47.921436|455    |U OF U VIA SLC|2024-08-13T00:00:00-06:00|5319054               |U OF U/DAVIS COUNTY/WSU|623202   |127027        |True     |-111.97907133333334      |41.22340466666667       |1           |32329             |14008     |NULL                      |NULL                     |NULL                       |2024-08-13 09:15:41.02 |False               |164.30            |1.27            |U of U (Research Park)    |\n",
            "|455-1723562153|1.3         |http://www.siri.org.uk/siri|2024-08-13 15:15:53.607045|1.3                              |2024-08-13 15:15:53.607045                 |2024-08-13T09:16:03.6070457-06:00   |2024-08-13 15:15:53.607045|455    |U OF U VIA SLC|2024-08-13T00:00:00-06:00|5319054               |U OF U/DAVIS COUNTY/WSU|623202   |127027        |True     |-111.97892000000000      |41.22314566666667       |1           |32329             |14008     |NULL                      |NULL                     |NULL                       |2024-08-13 09:15:50.92 |False               |179.80            |20.37           |U of U (Research Park)    |\n",
            "|455-1723562159|1.3         |http://www.siri.org.uk/siri|2024-08-13 15:15:59.304614|1.3                              |2024-08-13 15:15:59.304614                 |2024-08-13T09:16:09.3046141-06:00   |2024-08-13 15:15:59.304614|455    |U OF U VIA SLC|2024-08-13T00:00:00-06:00|5319054               |U OF U/DAVIS COUNTY/WSU|623202   |127027        |True     |-111.97892000000000      |41.22314566666667       |1           |32329             |14008     |NULL                      |NULL                     |NULL                       |2024-08-13 09:15:50.92 |False               |179.80            |20.37           |U of U (Research Park)    |\n",
            "|455-1723562165|1.3         |http://www.siri.org.uk/siri|2024-08-13 15:16:05.027741|1.3                              |2024-08-13 15:16:05.027741                 |2024-08-13T09:16:15.0277413-06:00   |2024-08-13 15:16:05.027741|455    |U OF U VIA SLC|2024-08-13T00:00:00-06:00|5319054               |U OF U/DAVIS COUNTY/WSU|623202   |127027        |True     |-111.97894266666667      |41.22192883333334       |1           |32329             |14008     |NULL                      |NULL                     |NULL                       |2024-08-13 09:16:00.953|False               |180.90            |39.01           |U of U (Research Park)    |\n",
            "|455-1723562170|1.3         |http://www.siri.org.uk/siri|2024-08-13 15:16:10.791631|1.3                              |2024-08-13 15:16:10.791631                 |2024-08-13T09:16:20.7916312-06:00   |2024-08-13 15:16:10.791631|455    |U OF U VIA SLC|2024-08-13T00:00:00-06:00|5319054               |U OF U/DAVIS COUNTY/WSU|623202   |127027        |True     |-111.97894266666667      |41.22192883333334       |1           |32329             |14008     |NULL                      |NULL                     |NULL                       |2024-08-13 09:16:00.953|False               |180.90            |39.01           |U of U (Research Park)    |\n",
            "|455-1723562176|1.3         |http://www.siri.org.uk/siri|2024-08-13 15:16:16.693454|1.3                              |2024-08-13 15:16:16.693454                 |2024-08-13T09:16:26.693454-06:00    |2024-08-13 15:16:16.693454|455    |U OF U VIA SLC|2024-08-13T00:00:00-06:00|5319054               |U OF U/DAVIS COUNTY/WSU|623202   |127027        |True     |-111.97897866666666      |41.22017483333333       |1           |32329             |14008     |NULL                      |NULL                     |NULL                       |2024-08-13 09:16:11    |False               |181.40            |46.03           |U of U (Research Park)    |\n",
            "|455-1723562182|1.3         |http://www.siri.org.uk/siri|2024-08-13 15:16:22.385323|1.3                              |2024-08-13 15:16:22.385323                 |2024-08-13T09:16:32.3853236-06:00   |2024-08-13 15:16:22.385323|455    |U OF U VIA SLC|2024-08-13T00:00:00-06:00|5319054               |U OF U/DAVIS COUNTY/WSU|623202   |127027        |True     |-111.97897866666666      |41.22017483333333       |1           |32329             |14008     |NULL                      |NULL                     |NULL                       |2024-08-13 09:16:11    |False               |181.40            |46.03           |U of U (Research Park)    |\n",
            "|455-1723562188|1.3         |http://www.siri.org.uk/siri|2024-08-13 15:16:28.063398|1.3                              |2024-08-13 15:16:28.063398                 |2024-08-13T09:16:38.0633983-06:00   |2024-08-13 15:16:28.063398|455    |U OF U VIA SLC|2024-08-13T00:00:00-06:00|5319054               |U OF U/DAVIS COUNTY/WSU|623202   |127027        |True     |-111.97897483333334      |41.21835800000000       |1           |32329             |14008     |NULL                      |NULL                     |NULL                       |2024-08-13 09:16:21    |False               |181.30            |44.65           |U of U (Research Park)    |\n",
            "|455-1723562193|1.3         |http://www.siri.org.uk/siri|2024-08-13 15:16:33.883578|1.3                              |2024-08-13 15:16:33.883578                 |2024-08-13T09:16:43.8835785-06:00   |2024-08-13 15:16:33.883578|455    |U OF U VIA SLC|2024-08-13T00:00:00-06:00|5319054               |U OF U/DAVIS COUNTY/WSU|623202   |127027        |True     |-111.97897483333334      |41.21835800000000       |1           |32329             |14008     |NULL                      |NULL                     |NULL                       |2024-08-13 09:16:21    |False               |181.30            |44.65           |U of U (Research Park)    |\n",
            "|455-1723562199|1.3         |http://www.siri.org.uk/siri|2024-08-13 15:16:39.580953|1.3                              |2024-08-13 15:16:39.580953                 |2024-08-13T09:16:49.5809535-06:00   |2024-08-13 15:16:39.580953|455    |U OF U VIA SLC|2024-08-13T00:00:00-06:00|5319054               |U OF U/DAVIS COUNTY/WSU|623202   |127027        |True     |-111.97896000000000      |41.21687133333333       |1           |32329             |14008     |NULL                      |NULL                     |NULL                       |2024-08-13 09:16:31.147|False               |180.60            |20.48           |U of U (Research Park)    |\n",
            "|455-1723562205|1.3         |http://www.siri.org.uk/siri|2024-08-13 15:16:45.298903|1.3                              |2024-08-13 15:16:45.298903                 |2024-08-13T09:16:55.2989036-06:00   |2024-08-13 15:16:45.298903|455    |U OF U VIA SLC|2024-08-13T00:00:00-06:00|5319054               |U OF U/DAVIS COUNTY/WSU|623202   |127027        |True     |-111.97896000000000      |41.21687133333333       |1           |32329             |14008     |NULL                      |NULL                     |NULL                       |2024-08-13 09:16:31.147|False               |180.60            |20.48           |U of U (Research Park)    |\n",
            "|455-1723562210|1.3         |http://www.siri.org.uk/siri|2024-08-13 15:16:50.996482|1.3                              |2024-08-13 15:16:50.996482                 |2024-08-13T09:17:00.9964822-06:00   |2024-08-13 15:16:50.996482|455    |U OF U VIA SLC|2024-08-13T00:00:00-06:00|5319054               |U OF U/DAVIS COUNTY/WSU|623202   |127027        |True     |-111.97896633333333      |41.21666616666667       |1           |32329             |14008     |NULL                      |NULL                     |NULL                       |2024-08-13 09:16:41.017|False               |175.70            |3.68            |U of U (Research Park)    |\n",
            "|455-1723562216|1.3         |http://www.siri.org.uk/siri|2024-08-13 15:16:56.743329|1.3                              |2024-08-13 15:16:56.743329                 |2024-08-13T09:17:06.7433297-06:00   |2024-08-13 15:16:56.743329|455    |U OF U VIA SLC|2024-08-13T00:00:00-06:00|5319054               |U OF U/DAVIS COUNTY/WSU|623202   |127027        |True     |-111.97896633333333      |41.21666616666667       |1           |32329             |14008     |NULL                      |NULL                     |NULL                       |2024-08-13 09:16:41.017|False               |175.70            |3.68            |U of U (Research Park)    |\n",
            "|455-1723562222|1.3         |http://www.siri.org.uk/siri|2024-08-13 15:17:02.431352|1.3                              |2024-08-13 15:17:02.431352                 |2024-08-13T09:17:12.4313527-06:00   |2024-08-13 15:17:02.431352|455    |U OF U VIA SLC|2024-08-13T00:00:00-06:00|5319054               |U OF U/DAVIS COUNTY/WSU|623202   |127027        |True     |-111.97856150000000      |41.21651683333333       |1           |32329             |14008     |NULL                      |NULL                     |NULL                       |2024-08-13 09:16:50.993|False               |175.70            |1.50            |U of U (Research Park)    |\n",
            "+--------------+------------+---------------------------+--------------------------+---------------------------------+-------------------------------------------+------------------------------------+--------------------------+-------+--------------+-------------------------+----------------------+-----------------------+---------+--------------+---------+-------------------------+------------------------+------------+------------------+----------+--------------------------+-------------------------+---------------------------+-----------------------+--------------------+------------------+----------------+--------------------------+\n",
            "only showing top 25 rows\n",
            "\n"
          ]
        }
      ]
    },
    {
      "cell_type": "markdown",
      "source": [
        "## Data Cleaning"
      ],
      "metadata": {
        "id": "utk_mpbMTQDX"
      }
    },
    {
      "cell_type": "code",
      "source": [
        "select_df = flattened_df.select(\n",
        "      \"FileId\",\n",
        "      col(\"Siri_ResponseTimestamp\").alias(\"ResponseTimestamp\"),\n",
        "      col(\"LineRef\"),\n",
        "      col(\"DirectionRef\"),\n",
        "      col(\"DatedVehicleJourneyRef\"),\n",
        "      col(\"PublishedLineName\"),\n",
        "      col(\"OriginRef\"),\n",
        "      col(\"DestinationRef\"),\n",
        "      col(\"VehicleLocation_Longitude\").alias(\"Longitude\"),\n",
        "      col(\"VehicleLocation_Latitude\").alias(\"Latitude\"),\n",
        "      col(\"CourseOfJourneyRef\"),\n",
        "      col(\"VehicleRef\"),\n",
        "      col(\"Extensions_LastGPSFix\").alias(\"LastGPSFix\"),\n",
        "      col(\"Extensions_Bearing\").alias(\"Bearing\"),\n",
        "      col(\"Extensions_Speed\").alias(\"Speed\"),\n",
        "      col(\"Extensions_DestinationName\").alias(\"DestinationName\")\n",
        "    ).withColumn(\"LatLong\", concat(\"Latitude\", lit(\", \"), \"Longitude\"))\n"
      ],
      "metadata": {
        "id": "am9tfNeaTPc7"
      },
      "execution_count": 110,
      "outputs": []
    },
    {
      "cell_type": "code",
      "source": [
        "select_df.show(5)\n",
        "# select_df.groupBy(select_df.columns)\\\n",
        "#     .count() \\\n",
        "#     .filter(col(\"count\") > 1) \\\n",
        "#     .show()\n",
        "# select_df.count()\n",
        "# select_df = select_df.repartition(1)\n",
        "\n",
        "# select_df.rdd.getNumPartitions()"
      ],
      "metadata": {
        "colab": {
          "base_uri": "https://localhost:8080/"
        },
        "id": "hYmnoYL_Tt8M",
        "outputId": "a3e6be4f-465a-4caa-ef49-6879e7821e51"
      },
      "execution_count": 111,
      "outputs": [
        {
          "output_type": "stream",
          "name": "stdout",
          "text": [
            "+--------------+--------------------+-------+--------------+----------------------+--------------------+---------+--------------+-------------------+-----------------+------------------+----------+--------------------+-------+-----+--------------------+--------------------+\n",
            "|        FileId|   ResponseTimestamp|LineRef|  DirectionRef|DatedVehicleJourneyRef|   PublishedLineName|OriginRef|DestinationRef|          Longitude|         Latitude|CourseOfJourneyRef|VehicleRef|          LastGPSFix|Bearing|Speed|     DestinationName|             LatLong|\n",
            "+--------------+--------------------+-------+--------------+----------------------+--------------------+---------+--------------+-------------------+-----------------+------------------+----------+--------------------+-------+-----+--------------------+--------------------+\n",
            "|455-1723568479|2024-08-13 17:01:...|    455| OGDEN VIA WSU|               5319029|U OF U/DAVIS COUN...|   127027|        623423|-111.83105200000000|40.75620800000000|              5641|     10008|2024-08-13 11:01:...| 128.80| 0.00|Ogden via Weber S...|40.75620800000000...|\n",
            "|455-1723568479|2024-08-13 17:01:...|    455|U OF U VIA SLC|               5319056|U OF U/DAVIS COUN...|   623202|        127027|-111.90835683333333|41.00868500000000|             31806|     14006|2024-08-13 11:01:...| 154.40|36.37|U of U (Research ...|41.00868500000000...|\n",
            "|455-1723568479|2024-08-13 17:01:...|    455|U OF U VIA SLC|               5319054|U OF U/DAVIS COUN...|   623202|        127027|-111.90258616666667|40.79240216666667|             32329|     14008|2024-08-13 11:01:...| 155.60|38.90|U of U (Research ...|40.79240216666667...|\n",
            "|455-1723568479|2024-08-13 17:01:...|    455| OGDEN VIA WSU|               5319032|U OF U/DAVIS COUN...|   127027|        623423|-112.00612616666666|41.22937016666667|             32609|     14011|2024-08-13 11:01:...| 265.60| 0.00|Ogden via Weber S...|41.22937016666667...|\n",
            "|455-1723568479|2024-08-13 17:01:...|    455| OGDEN VIA WSU|               5319024|U OF U/DAVIS COUN...|   127027|        623423|-111.97865266666666|41.22915383333334|             32762|     14012|2024-08-13 11:01:...|   0.10| 5.75|Ogden via Weber S...|41.22915383333334...|\n",
            "+--------------+--------------------+-------+--------------+----------------------+--------------------+---------+--------------+-------------------+-----------------+------------------+----------+--------------------+-------+-----+--------------------+--------------------+\n",
            "only showing top 5 rows\n",
            "\n"
          ]
        }
      ]
    },
    {
      "cell_type": "markdown",
      "source": [
        "## Spark Writes\n",
        "When writing data, Spark will break down the DataFrame into partitions and distribute those partitions across the available executors. Each executor will handle multiple partitions, and within an executor, each partition is processed using a single thread. So, multithreading per se isn't explicitly used for writes in Spark; instead, Spark relies on task parallelism, where multiple partitions are written concurrently.\n",
        "\n",
        "Parquet is a columnar storage file format optimized for analytical queries and efficient data storage. Parquets are used to store large amount of data and for efficient storage, spark partitions are set such that each parquet is between 100mb and 1gb.\n",
        "\n",
        "In this use case since the volume of data is significantly less, coalescing the data to 1 single partition is more efficient than having multiple partition.\n",
        "For reference, 100 spark partitions takes 25 seconds to write data to 100 parquets of few kb's each, while writing to 1 parquet of 1mb takes about 2-3 seconds. Writing large volumes (generally in TB's) of data in a single partition takes more time, in such cases we set partition to such that each parquet is of few 100mb's."
      ],
      "metadata": {
        "id": "dDqg7D5Ot1O1"
      }
    },
    {
      "cell_type": "code",
      "source": [
        "# Check df schema\n",
        "select_df.printSchema()"
      ],
      "metadata": {
        "colab": {
          "base_uri": "https://localhost:8080/"
        },
        "id": "Vz45vikD9uMl",
        "outputId": "6a0f5edd-a5f2-4349-8838-d6131bf72049"
      },
      "execution_count": 114,
      "outputs": [
        {
          "output_type": "stream",
          "name": "stdout",
          "text": [
            "root\n",
            " |-- FileId: string (nullable = false)\n",
            " |-- ResponseTimestamp: timestamp (nullable = true)\n",
            " |-- LineRef: string (nullable = true)\n",
            " |-- DirectionRef: string (nullable = true)\n",
            " |-- DatedVehicleJourneyRef: string (nullable = true)\n",
            " |-- PublishedLineName: string (nullable = true)\n",
            " |-- OriginRef: string (nullable = true)\n",
            " |-- DestinationRef: string (nullable = true)\n",
            " |-- Longitude: decimal(17,14) (nullable = true)\n",
            " |-- Latitude: decimal(17,14) (nullable = true)\n",
            " |-- CourseOfJourneyRef: string (nullable = true)\n",
            " |-- VehicleRef: string (nullable = true)\n",
            " |-- LastGPSFix: timestamp (nullable = true)\n",
            " |-- Bearing: decimal(5,2) (nullable = true)\n",
            " |-- Speed: decimal(5,2) (nullable = true)\n",
            " |-- DestinationName: string (nullable = true)\n",
            " |-- LatLong: string (nullable = true)\n",
            "\n"
          ]
        }
      ]
    },
    {
      "cell_type": "code",
      "source": [
        "@timing_decorator\n",
        "def write_parquet():\n",
        "  select_df.coalesce(1).write.partitionBy(\"LineRef\").mode(\"overwrite\").parquet(\"/content/UtaVehicleRef\")\n",
        "\n",
        "write_parquet()\n"
      ],
      "metadata": {
        "colab": {
          "base_uri": "https://localhost:8080/"
        },
        "id": "FNlUb5mvtATp",
        "outputId": "8d903c0f-ce30-4b14-bf16-10ac82c81415"
      },
      "execution_count": 112,
      "outputs": [
        {
          "output_type": "stream",
          "name": "stdout",
          "text": [
            "Function 'write_parquet' took 5.2497 seconds to execute.\n"
          ]
        }
      ]
    },
    {
      "cell_type": "markdown",
      "source": [
        "## Duck DB Installation"
      ],
      "metadata": {
        "id": "oyUYP-1xurdl"
      }
    },
    {
      "cell_type": "markdown",
      "source": [
        "Why DuckDB ? Answer is OLAP + in-process / in-memory\n",
        "\n",
        "https://hannes.muehleisen.org/publications/SIGMOD2019-demo-duckdb.pdf"
      ],
      "metadata": {
        "id": "ncSh4QrElHDQ"
      }
    },
    {
      "cell_type": "code",
      "source": [
        "pip install duckdb"
      ],
      "metadata": {
        "id": "EzcnvL3Quqyy",
        "outputId": "0a4d9571-16ed-4dbe-dc88-0dc42954255d",
        "colab": {
          "base_uri": "https://localhost:8080/"
        }
      },
      "execution_count": 46,
      "outputs": [
        {
          "output_type": "stream",
          "name": "stdout",
          "text": [
            "Requirement already satisfied: duckdb in /usr/local/lib/python3.10/dist-packages (0.10.3)\n"
          ]
        }
      ]
    },
    {
      "cell_type": "code",
      "source": [
        "import duckdb"
      ],
      "metadata": {
        "id": "U3DV60tHxNvg"
      },
      "execution_count": 47,
      "outputs": []
    },
    {
      "cell_type": "code",
      "source": [
        "db_name = \"UtaVehicleRef\""
      ],
      "metadata": {
        "id": "Jz1fIn0Rmuk5"
      },
      "execution_count": 49,
      "outputs": []
    },
    {
      "cell_type": "code",
      "source": [
        "# Connect to DuckDB\n",
        "conn = duckdb.connect(database = \":memory:\"+db_name, read_only = False)\n",
        "\n",
        "# Drop the existing table if it exists\n",
        "conn.execute(\"DROP TABLE IF EXISTS VehicleRef\")\n",
        "\n",
        "# Create the table with the specified schema\n",
        "create_table_query = \"\"\"\n",
        "CREATE TABLE VehicleRef (\n",
        "    FileId STRING NOT NULL,\n",
        "    ResponseTimestamp TIMESTAMP,\n",
        "    DirectionRef STRING,\n",
        "    DatedVehicleJourneyRef STRING,\n",
        "    PublishedLineName STRING,\n",
        "    OriginRef STRING,\n",
        "    DestinationRef STRING,\n",
        "    Longitude DECIMAL(17, 14),\n",
        "    Latitude DECIMAL(17, 14),\n",
        "    CourseOfJourneyRef STRING,\n",
        "    VehicleRef STRING,\n",
        "    LastGPSFix TIMESTAMP,\n",
        "    Bearing DECIMAL(5, 2),\n",
        "    Speed DECIMAL(5, 2),\n",
        "    DestinationName STRING,\n",
        "    LatLong STRING,\n",
        "    LineRef STRING\n",
        ");\n",
        "\"\"\"\n",
        "conn.execute(create_table_query)\n",
        "\n",
        "# Path to the Parquet files\n",
        "parquet_paths = [\n",
        "    'UtaVehicleRef/LineRef=1/*.parquet',\n",
        "    'UtaVehicleRef/LineRef=2/*.parquet',\n",
        "    'UtaVehicleRef/LineRef=220/*.parquet',\n",
        "    'UtaVehicleRef/LineRef=4/*.parquet',\n",
        "    'UtaVehicleRef/LineRef=455/*.parquet'\n",
        "]\n",
        "\n",
        "# Read and insert data from each Parquet file path into the table\n",
        "for path in parquet_paths:\n",
        "    # Read data from Parquet\n",
        "    read_query = f\"SELECT * FROM read_parquet('{path}')\"\n",
        "\n",
        "    # Insert data into the table\n",
        "    insert_query = f\"INSERT INTO VehicleRef {read_query}\"\n",
        "    conn.execute(insert_query)\n",
        "\n",
        "\n",
        "#verify\n",
        "tables = conn.execute(\"SHOW TABLES\").fetch_df()\n",
        "print(\"Tables in database:\")\n",
        "print(tables)\n",
        "\n",
        "# Check the schema of the newly created table\n",
        "schema = conn.execute(\"DESCRIBE TABLE VehicleRef\").fetch_df()\n",
        "print(\"\\nSchema of 'VehicleRef' table:\")\n",
        "print(schema)\n",
        "\n",
        "# Fetch and display a sample of the data\n",
        "result = conn.execute(\"SELECT * FROM VehicleRef LIMIT 10\").fetch_df()\n",
        "print(\"\\nSample data from 'VehicleRef' table:\")\n",
        "print(result)"
      ],
      "metadata": {
        "colab": {
          "base_uri": "https://localhost:8080/"
        },
        "id": "CZhHLXKQnqI1",
        "outputId": "c9181f95-6a13-45dc-a2ac-4ff282a52940"
      },
      "execution_count": 134,
      "outputs": [
        {
          "output_type": "stream",
          "name": "stdout",
          "text": [
            "Tables in database:\n",
            "            name\n",
            "0  UtaVehicleRef\n",
            "1     VehicleRef\n",
            "2   parquet_view\n",
            "\n",
            "Schema of 'VehicleRef' table:\n",
            "               column_name     column_type null   key default extra\n",
            "0                   FileId         VARCHAR  YES  None    None  None\n",
            "1        ResponseTimestamp       TIMESTAMP  YES  None    None  None\n",
            "2             DirectionRef         VARCHAR  YES  None    None  None\n",
            "3   DatedVehicleJourneyRef         VARCHAR  YES  None    None  None\n",
            "4        PublishedLineName         VARCHAR  YES  None    None  None\n",
            "5                OriginRef         VARCHAR  YES  None    None  None\n",
            "6           DestinationRef         VARCHAR  YES  None    None  None\n",
            "7                Longitude  DECIMAL(17,14)  YES  None    None  None\n",
            "8                 Latitude  DECIMAL(17,14)  YES  None    None  None\n",
            "9       CourseOfJourneyRef         VARCHAR  YES  None    None  None\n",
            "10              VehicleRef         VARCHAR  YES  None    None  None\n",
            "11              LastGPSFix       TIMESTAMP  YES  None    None  None\n",
            "12                 Bearing    DECIMAL(5,2)  YES  None    None  None\n",
            "13                   Speed    DECIMAL(5,2)  YES  None    None  None\n",
            "14         DestinationName         VARCHAR  YES  None    None  None\n",
            "15                 LatLong         VARCHAR  YES  None    None  None\n",
            "16                 LineRef         VARCHAR  YES  None    None  None\n",
            "\n",
            "Sample data from 'VehicleRef' table:\n",
            "         FileId          ResponseTimestamp  ...                                  LatLong LineRef\n",
            "0  1-1723564597 2024-08-13 15:56:37.669855  ...  40.758726166666669, -111.94378683333333       1\n",
            "1  1-1723564597 2024-08-13 15:56:37.669855  ...  40.771832833333335, -111.91680833333334       1\n",
            "2  1-1723564597 2024-08-13 15:56:37.669855  ...           40.769364, -111.85660483333334       1\n",
            "3  1-1723564597 2024-08-13 15:56:37.669855  ...  40.758598166666665, -111.94404633333333       1\n",
            "4  1-1723564597 2024-08-13 15:56:37.669855  ...   40.75871433333333, -111.94419116666667       1\n",
            "5  1-1723564597 2024-08-13 15:56:37.669855  ...  40.786712666666666, -111.91675816666667       1\n",
            "6  1-1723564597 2024-08-13 15:56:37.669855  ...  40.771686333333335, -111.93904566666667       1\n",
            "7  1-1723564597 2024-08-13 15:56:37.669855  ...  40.770954333333336, -111.89394133333333       1\n",
            "8  1-1723564597 2024-08-13 15:56:37.669855  ...          40.7693425, -111.86890533333333       1\n",
            "9  1-1723573201 2024-08-13 18:20:01.289714  ...         40.760692166666665, -111.9390305       1\n",
            "\n",
            "[10 rows x 17 columns]\n"
          ]
        }
      ]
    }
  ]
}