{
  "nbformat": 4,
  "nbformat_minor": 0,
  "metadata": {
    "colab": {
      "provenance": [],
      "authorship_tag": "ABX9TyMiBuEgw1JLuIvDP3oQYTdm",
      "include_colab_link": true
    },
    "kernelspec": {
      "name": "python3",
      "display_name": "Python 3"
    },
    "language_info": {
      "name": "python"
    }
  },
  "cells": [
    {
      "cell_type": "markdown",
      "metadata": {
        "id": "view-in-github",
        "colab_type": "text"
      },
      "source": [
        "<a href=\"https://colab.research.google.com/github/sachins301/UTA-Distributed-Computing/blob/main/UTA_Spark_Processing.ipynb\" target=\"_parent\"><img src=\"https://colab.research.google.com/assets/colab-badge.svg\" alt=\"Open In Colab\"/></a>"
      ]
    },
    {
      "cell_type": "markdown",
      "source": [
        "Installing Spark and dependencies"
      ],
      "metadata": {
        "id": "hOVGMW4OUefO"
      }
    },
    {
      "cell_type": "code",
      "execution_count": 2,
      "metadata": {
        "id": "SEAKx8SJHnJ4"
      },
      "outputs": [],
      "source": [
        "!apt-get install openjdk-8-jdk-headless -qq > /dev/null\n",
        "!wget -q http://archive.apache.org/dist/spark/spark-3.5.2/spark-3.5.2-bin-hadoop3.tgz\n",
        "!tar xf spark-3.5.2-bin-hadoop3.tgz\n",
        "!pip install -q findspark"
      ]
    },
    {
      "cell_type": "code",
      "source": [
        "import os\n",
        "os.environ[\"JAVA_HOME\"] = \"/usr/lib/jvm/java-8-openjdk-amd64\"\n",
        "os.environ[\"SPARK_HOME\"] = \"/content/spark-3.5.2-bin-hadoop3\""
      ],
      "metadata": {
        "id": "EyYko10_U4FR"
      },
      "execution_count": 3,
      "outputs": []
    },
    {
      "cell_type": "code",
      "source": [
        "import findspark\n",
        "findspark.init()\n"
      ],
      "metadata": {
        "id": "Xh_EivEKWjaX"
      },
      "execution_count": 4,
      "outputs": []
    },
    {
      "cell_type": "code",
      "source": [
        "import json\n",
        "from pyspark.sql import SparkSession\n",
        "from pyspark.sql.types import StructType, StructField, StringType, DoubleType, ArrayType, BooleanType\n",
        "from pyspark.sql.functions import col, explode, input_file_name, regexp_extract\n"
      ],
      "metadata": {
        "id": "md6EahXIr4Ds"
      },
      "execution_count": 5,
      "outputs": []
    },
    {
      "cell_type": "code",
      "source": [
        "# spark = SparkSession.builder.master(\"local[*]\").getOrCreate()\n",
        "# spark.conf.set(\"spark.sql.repl.eagerEval.enabled\", True) # Property used to format output tables better\n",
        "# spark"
      ],
      "metadata": {
        "id": "1GECEtoIrkMP",
        "colab": {
          "base_uri": "https://localhost:8080/",
          "height": 219
        },
        "outputId": "a22e82f3-0efb-4c6f-92a9-fedc822548d9"
      },
      "execution_count": null,
      "outputs": [
        {
          "output_type": "execute_result",
          "data": {
            "text/plain": [
              "<pyspark.sql.session.SparkSession at 0x787b8cf28f70>"
            ],
            "text/html": [
              "\n",
              "            <div>\n",
              "                <p><b>SparkSession - in-memory</b></p>\n",
              "                \n",
              "        <div>\n",
              "            <p><b>SparkContext</b></p>\n",
              "\n",
              "            <p><a href=\"http://ea87bca1fd5a:4040\">Spark UI</a></p>\n",
              "\n",
              "            <dl>\n",
              "              <dt>Version</dt>\n",
              "                <dd><code>v3.5.2</code></dd>\n",
              "              <dt>Master</dt>\n",
              "                <dd><code>local[*]</code></dd>\n",
              "              <dt>AppName</dt>\n",
              "                <dd><code>pyspark-shell</code></dd>\n",
              "            </dl>\n",
              "        </div>\n",
              "        \n",
              "            </div>\n",
              "        "
            ]
          },
          "metadata": {},
          "execution_count": 4
        }
      ]
    },
    {
      "cell_type": "code",
      "source": [
        "# Unpack the json dump\n",
        "import shutil\n",
        "shutil.unpack_archive('/content/json_dumps.zip', '/content/json_dumps/')"
      ],
      "metadata": {
        "id": "RYzMbOAGhEol"
      },
      "execution_count": 6,
      "outputs": []
    },
    {
      "cell_type": "code",
      "source": [
        "import time\n",
        "def timing_decorator(func):\n",
        "    def wrapper(*args, **kwargs):\n",
        "        start_time = time.time()  # Start time\n",
        "        result = func(*args, **kwargs)\n",
        "        end_time = time.time()  # End time\n",
        "        elapsed_time = end_time - start_time\n",
        "        print(f\"Function '{func.__name__}' took {elapsed_time:.4f} seconds to execute.\")\n",
        "        return result\n",
        "    return wrapper"
      ],
      "metadata": {
        "id": "-j1yVQkPqS0R"
      },
      "execution_count": 7,
      "outputs": []
    },
    {
      "cell_type": "code",
      "source": [
        "@timing_decorator\n",
        "# def read_json():\n",
        "#   df = spark.read.json(\"/content/json_dumps/*.json\")\n",
        "#   return df\n",
        "\n",
        "# df = read_json()\n",
        "# df.show(5)"
      ],
      "metadata": {
        "id": "tb0U2okvh86L",
        "outputId": "bf4908c2-8ce1-490e-8fba-f7b085deca4e",
        "colab": {
          "base_uri": "https://localhost:8080/"
        }
      },
      "execution_count": null,
      "outputs": [
        {
          "output_type": "stream",
          "name": "stdout",
          "text": [
            "Function 'read_json' took 144.7838 seconds to execute.\n",
            "+--------------------+\n",
            "|                Siri|\n",
            "+--------------------+\n",
            "|{1.3, http://www....|\n",
            "|{1.3, http://www....|\n",
            "|{1.3, http://www....|\n",
            "|{1.3, http://www....|\n",
            "|{1.3, http://www....|\n",
            "+--------------------+\n",
            "only showing top 5 rows\n",
            "\n"
          ]
        }
      ]
    },
    {
      "cell_type": "code",
      "source": [
        "@timing_decorator\n",
        "# def read_json():\n",
        "#   df = spark.read.json(\"/content/json_dumps/*.json\").repartition(100)\n",
        "#   return df\n",
        "\n",
        "# df = read_json()\n",
        "# df.show(5)\n"
      ],
      "metadata": {
        "id": "2cmfvEhdpCEB",
        "outputId": "c8707e23-9a11-4979-d2b2-9e32b902db4b",
        "colab": {
          "base_uri": "https://localhost:8080/"
        }
      },
      "execution_count": null,
      "outputs": [
        {
          "output_type": "stream",
          "name": "stdout",
          "text": [
            "Function 'read_json' took 144.8710 seconds to execute.\n",
            "+--------------------+\n",
            "|                Siri|\n",
            "+--------------------+\n",
            "|{1.3, http://www....|\n",
            "|{1.3, http://www....|\n",
            "|{1.3, http://www....|\n",
            "|{1.3, http://www....|\n",
            "|{1.3, http://www....|\n",
            "+--------------------+\n",
            "only showing top 5 rows\n",
            "\n"
          ]
        }
      ]
    },
    {
      "cell_type": "code",
      "source": [
        "@timing_decorator\n",
        "# def read_json():\n",
        "#   df = spark.read.option(\"wholeFile\", True).json(\"/content/json_dumps/*.json\").repartition(100)\n",
        "#   return df\n",
        "\n",
        "# df = read_json()\n",
        "# df.show(5)"
      ],
      "metadata": {
        "id": "F2Ygm8iJwDro",
        "outputId": "24e71d50-9dfb-4091-d512-cea3d210cc48",
        "colab": {
          "base_uri": "https://localhost:8080/"
        }
      },
      "execution_count": null,
      "outputs": [
        {
          "output_type": "stream",
          "name": "stdout",
          "text": [
            "Function 'read_json' took 138.6985 seconds to execute.\n",
            "+--------------------+\n",
            "|                Siri|\n",
            "+--------------------+\n",
            "|{1.3, http://www....|\n",
            "|{1.3, http://www....|\n",
            "|{1.3, http://www....|\n",
            "|{1.3, http://www....|\n",
            "|{1.3, http://www....|\n",
            "+--------------------+\n",
            "only showing top 5 rows\n",
            "\n"
          ]
        }
      ]
    },
    {
      "cell_type": "code",
      "source": [
        "@timing_decorator\n",
        "def read_json():\n",
        "  df = spark.read \\\n",
        "            .option(\"wholeFile\", True) \\\n",
        "            .json(\"/content/json_dumps/*.json\").repartition(100) \\\n",
        "            .coalesce(10)\n",
        "  return df\n",
        "\n",
        "df = read_json()\n",
        "df.show(5)"
      ],
      "metadata": {
        "id": "BYBHyxVjwNTB"
      },
      "execution_count": null,
      "outputs": []
    },
    {
      "cell_type": "code",
      "source": [
        "# spark.stop()\n",
        "spark = SparkSession.builder \\\n",
        "    .master(\"local[*]\") \\\n",
        "    .config(\"spark.executor.memory\", \"8g\") \\\n",
        "    .config(\"spark.driver.memory\", \"4g\") \\\n",
        "    .config(\"spark.sql.shuffle.partitions\", \"4\") \\\n",
        "    .getOrCreate()\n",
        "spark"
      ],
      "metadata": {
        "id": "xyZ254OqyNvs",
        "outputId": "0d2a24b5-c16c-47b6-c4f4-6b0c95b9bc67",
        "colab": {
          "base_uri": "https://localhost:8080/",
          "height": 219
        }
      },
      "execution_count": 11,
      "outputs": [
        {
          "output_type": "execute_result",
          "data": {
            "text/plain": [
              "<pyspark.sql.session.SparkSession at 0x7b7cec29e770>"
            ],
            "text/html": [
              "\n",
              "            <div>\n",
              "                <p><b>SparkSession - in-memory</b></p>\n",
              "                \n",
              "        <div>\n",
              "            <p><b>SparkContext</b></p>\n",
              "\n",
              "            <p><a href=\"http://5f93477c8e30:4040\">Spark UI</a></p>\n",
              "\n",
              "            <dl>\n",
              "              <dt>Version</dt>\n",
              "                <dd><code>v3.5.2</code></dd>\n",
              "              <dt>Master</dt>\n",
              "                <dd><code>local[*]</code></dd>\n",
              "              <dt>AppName</dt>\n",
              "                <dd><code>pyspark-shell</code></dd>\n",
              "            </dl>\n",
              "        </div>\n",
              "        \n",
              "            </div>\n",
              "        "
            ]
          },
          "metadata": {},
          "execution_count": 11
        }
      ]
    },
    {
      "cell_type": "code",
      "source": [
        "# Define the schema for the nested JSON structure\n",
        "schema = StructType([\n",
        "    StructField(\"Siri\", StructType([\n",
        "        StructField(\"@version\", StringType(), True),\n",
        "        StructField(\"@xmlns\", StringType(), True),\n",
        "        StructField(\"ResponseTimestamp\", StringType(), True),\n",
        "        StructField(\"VehicleMonitoringDelivery\", StructType([\n",
        "            StructField(\"@version\", StringType(), True),\n",
        "            StructField(\"ResponseTimestamp\", StringType(), True),\n",
        "            StructField(\"ValidUntil\", StringType(), True),\n",
        "            StructField(\"VehicleActivity\", StructType([\n",
        "                StructField(\"RecordedAtTime\", StringType(), True),\n",
        "                StructField(\"MonitoredVehicleJourney\", ArrayType(StructType([\n",
        "                    StructField(\"LineRef\", StringType(), True),\n",
        "                    StructField(\"DirectionRef\", StringType(), True),\n",
        "                    StructField(\"FramedVehicleJourneyRef\", StructType([\n",
        "                        StructField(\"DataFrameRef\", StringType(), True),\n",
        "                        StructField(\"DatedVehicleJourneyRef\", StringType(), True)\n",
        "                    ]), True),\n",
        "                    StructField(\"PublishedLineName\", StringType(), True),\n",
        "                    StructField(\"OriginRef\", StringType(), True),\n",
        "                    StructField(\"DestinationRef\", StringType(), True),\n",
        "                    StructField(\"Monitored\", StringType(), True),\n",
        "                    StructField(\"VehicleLocation\", StructType([\n",
        "                        StructField(\"Longitude\", StringType(), True),\n",
        "                        StructField(\"Latitude\", StringType(), True)\n",
        "                    ]), True),\n",
        "                    StructField(\"ProgressRate\", StringType(), True),\n",
        "                    StructField(\"CourseOfJourneyRef\", StringType(), True),\n",
        "                    StructField(\"VehicleRef\", StringType(), True),\n",
        "                    StructField(\"MonitoredCall\", StructType([\n",
        "                        StructField(\"StopPointRef\", StringType(), True),\n",
        "                        StructField(\"VisitNumber\", StringType(), True),\n",
        "                        StructField(\"VehicleAtStop\", StringType(), True)\n",
        "                    ]), True),\n",
        "                    StructField(\"Extensions\", StructType([\n",
        "                        StructField(\"LastGPSFix\", StringType(), True),\n",
        "                        StructField(\"Scheduled\", StringType(), True),\n",
        "                        StructField(\"Bearing\", StringType(), True),\n",
        "                        StructField(\"Speed\", StringType(), True),\n",
        "                        StructField(\"DestinationName\", StringType(), True)\n",
        "                    ]), True)\n",
        "                ])), True)\n",
        "            ]), True)\n",
        "        ]), True)\n",
        "    ]), True)\n",
        "])"
      ],
      "metadata": {
        "id": "oBQezSWuzjT-"
      },
      "execution_count": 12,
      "outputs": []
    },
    {
      "cell_type": "code",
      "source": [
        "@timing_decorator\n",
        "def read_json():\n",
        "    df = spark.read.option(\"wholeFile\", True) \\\n",
        "        .schema(schema) \\\n",
        "        .json(\"/content/json_dumps/*.json\") \\\n",
        "        .withColumn(\"file_id\", input_file_name()) \\\n",
        "        .repartition(100)\n",
        "    return df\n",
        "\n",
        "df = read_json().persist()\n",
        "df.show(5)"
      ],
      "metadata": {
        "id": "CuJRPFQBzVnC",
        "outputId": "643c981f-d24b-42d4-ed09-f673cef4e66a",
        "colab": {
          "base_uri": "https://localhost:8080/"
        }
      },
      "execution_count": 13,
      "outputs": [
        {
          "output_type": "stream",
          "name": "stdout",
          "text": [
            "Function 'read_json' took 89.3516 seconds to execute.\n",
            "+--------------------+--------------------+\n",
            "|                Siri|             file_id|\n",
            "+--------------------+--------------------+\n",
            "|{1.3, http://www....|file:///content/j...|\n",
            "|{1.3, http://www....|file:///content/j...|\n",
            "|{1.3, http://www....|file:///content/j...|\n",
            "|{1.3, http://www....|file:///content/j...|\n",
            "|{1.3, http://www....|file:///content/j...|\n",
            "+--------------------+--------------------+\n",
            "only showing top 5 rows\n",
            "\n"
          ]
        }
      ]
    },
    {
      "cell_type": "code",
      "source": [
        "df.select(\"Siri.VehicleMonitoringDelivery.VehicleActivity.MonitoredVehicleJourney.Extensions\").show(5, False)"
      ],
      "metadata": {
        "colab": {
          "base_uri": "https://localhost:8080/"
        },
        "id": "2autZFX7xre5",
        "outputId": "ecefcbc3-b5e5-4baa-b306-b1aae8872cc6"
      },
      "execution_count": null,
      "outputs": [
        {
          "output_type": "stream",
          "name": "stdout",
          "text": [
            "+--------------------------------------------------------------------------------------------------------------------------------------------------------------------------------------------------------------------------------------------------------------------------------------------------------------------------------------------------------------------------------------------------------------------------------------------------------------------------------------------------------------------------------------------------------------------------------------------------------------------------------------------------------------------------------------------------------------------------------------------------------------------------------------------------------------------------------------------------------------------------------------------------------------------------------------------------------------------------------------------------------------------------------------------------------------------------------------------------------+\n",
            "|Extensions                                                                                                                                                                                                                                                                                                                                                                                                                                                                                                                                                                                                                                                                                                                                                                                                                                                                                                                                                                                                                                                                                              |\n",
            "+--------------------------------------------------------------------------------------------------------------------------------------------------------------------------------------------------------------------------------------------------------------------------------------------------------------------------------------------------------------------------------------------------------------------------------------------------------------------------------------------------------------------------------------------------------------------------------------------------------------------------------------------------------------------------------------------------------------------------------------------------------------------------------------------------------------------------------------------------------------------------------------------------------------------------------------------------------------------------------------------------------------------------------------------------------------------------------------------------------+\n",
            "|[{2024-08-13T11:00:40.4, False, 128.8, 0, Ogden via Weber State}, {2024-08-13T11:00:39.66, False, 210.6, 8.5159200000000013, U of U (Research Park)}, {2024-08-13T11:00:42.277, False, 137.9, 42.809760000000004, U of U (Research Park)}, {2024-08-13T11:00:42.92, False, 265.6, 16.22628, Ogden via Weber State}, {2024-08-13T11:00:37.41, False, 358.8, 16.22628, Ogden via Weber State}, {2024-08-13T11:00:39.25, False, 297, 15.996120000000001, Ogden via Weber State}, {2024-08-13T11:00:46.973, False, 270.5, 17.37708, Ogden via Weber State}, {2024-08-13T11:00:43.51, False, 100.4, 8.74608, U of U (Research Park)}, {2024-08-13T11:00:47.193, False, 130.9, 0.11508000000000002, Ogden via Weber State}, {2024-08-13T11:00:46.973, False, 179.8, 29.3454, U of U (Research Park)}, {2024-08-13T11:00:41.683, False, 88.7, 0, U of U (Research Park)}, {2024-08-13T11:00:33.107, False, 173.7, 3.33732, U of U (Research Park)}, {2024-08-13T11:00:37.753, False, 303.5, 30.72636, Ogden via Weber State}, {2024-08-13T11:00:39.787, False, 1.2, 34.063680000000005, Ogden via Weber State}]|\n",
            "|[{2024-08-13T11:05:41.123, False, 128.8, 0, Ogden via Weber State}, {2024-08-13T11:05:39.743, False, 153.9, 29.80572, U of U (Research Park)}, {2024-08-13T11:05:42.35, False, 89.5, 0.11508000000000002, U of U (Research Park)}, {2024-08-13T11:05:43.813, False, 224.2, 64.32972, Ogden via Weber State}, {2024-08-13T11:05:37.557, False, 2.5, 0, U of U (Research Park)}, {2024-08-13T11:05:39.493, False, 323, 28.42476, Ogden via Weber State}, {2024-08-13T11:05:37.043, False, 335.9, 40.393080000000005, Ogden via Weber State}, {2024-08-13T11:05:43.627, False, 310.5, 12.083400000000001, U of U (Research Park)}, {2024-08-13T11:05:37.37, False, 130.9, 0, Ogden via Weber State}, {2024-08-13T11:05:37.213, False, 259.6, 19.5636, U of U (Research Park)}, {2024-08-13T11:05:41.83, False, 180.3, 20.139, U of U (Research Park)}, {2024-08-13T11:05:43.147, False, 110.1, 0, U of U (Research Park)}, {2024-08-13T11:05:37.777, False, 345.9, 26.92872, Ogden via Weber State}, {2024-08-13T11:05:39.837, False, 349.8, 35.674800000000005, Ogden via Weber State}]                   |\n",
            "|[{2024-08-13T11:01:40.377, False, 128.8, 0, Ogden via Weber State}, {2024-08-13T11:01:39.72, False, 141, 37.63116, U of U (Research Park)}, {2024-08-13T11:01:42.313, False, 180.1, 36.13512, U of U (Research Park)}, {2024-08-13T11:01:43.003, False, 264.5, 38.43672, Ogden via Weber State}, {2024-08-13T11:01:37.447, False, 1.3, 27.6192, Ogden via Weber State}, {2024-08-13T11:01:39.36, False, 17.9, 33.25812, Ogden via Weber State}, {2024-08-13T11:01:36.9, False, 270.1, 4.48812, Ogden via Weber State}, {2024-08-13T11:01:43.753, False, 323.2, 29.80572, U of U (Research Park)}, {2024-08-13T11:01:37.133, False, 130.9, 0, Ogden via Weber State}, {2024-08-13T11:01:37.167, False, 136.8, 13.46436, U of U (Research Park)}, {2024-08-13T11:01:41.72, False, 90.2, 22.78584, U of U (Research Park)}, {2024-08-13T11:01:43.173, False, 181.1, 35.55972, U of U (Research Park)}, {2024-08-13T11:01:38.827, False, 286.4, 29.00016, Ogden via Weber State}, {2024-08-13T11:01:40.767, False, 0.1, 30.611280000000004, Ogden via Weber State}]                                         |\n",
            "|[{2024-08-13T11:15:20.57, False, 357.9, 33.60336, Ogden via Weber State}, {2024-08-13T11:15:20.227, False, 302.3, 16.22628, U of U (Research Park)}, {2024-08-13T11:15:12.507, False, 89.7, 21.51996, U of U (Research Park)}, {2024-08-13T11:15:13.193, False, 182.7, 64.32972, Ogden via Weber State}, {2024-08-13T11:15:17.697, False, 2.5, 0, U of U (Research Park)}, {2024-08-13T11:15:19.54, False, 0.3, 0, Ogden via Weber State}, {2024-08-13T11:15:18.41, False, 52.2, 12.77388, Ogden via Weber State}, {2024-08-13T11:15:13.753, False, 270.7, 19.44852, U of U (Research Park)}, {2024-08-13T11:15:17.43, False, 130.9, 0, Ogden via Weber State}, {2024-08-13T11:15:17.337, False, 188.7, 47.412960000000005, U of U (Research Park)}, {2024-08-13T11:15:11.893, False, 203.7, 28.07952, U of U (Research Park)}, {2024-08-13T11:15:13.347, False, 186.3, 6.2143200000000007, U of U (Research Park)}, {2024-08-13T11:15:17.93, False, 272.7, 10.9326, Ogden via Weber State}, {2024-08-13T11:15:20.227, False, 269.9, 33.14304, Ogden via Weber State}]                                  |\n",
            "|[{2024-08-13T10:47:50.23, False, 128.8, 0.11508000000000002, Ogden via Weber State}, {2024-08-13T10:47:49.533, False, 171.7, 38.321639999999995, U of U (Research Park)}, {2024-08-13T10:47:52.077, False, 195.2, 27.734280000000002, U of U (Research Park)}, {2024-08-13T10:47:47.153, False, 2.3, 38.091480000000004, Ogden via Weber State}, {2024-08-13T10:47:49.01, False, 41, 22.555680000000002, Ogden via Weber State}, {2024-08-13T10:47:46.653, False, 269.5, 24.857280000000003, Ogden via Weber State}, {2024-08-13T10:47:53.313, False, 90.2, 0.11508000000000002, U of U (Research Park)}, {2024-08-13T10:47:47.027, False, 130.9, 0.11508000000000002, Ogden via Weber State}, {2024-08-13T10:47:46.777, False, 91.4, 21.8652, U of U (Research Park)}, {2024-08-13T10:47:51.607, False, 220, 33.48828, U of U (Research Park)}, {2024-08-13T10:47:52.73, False, 1.2, 0, U of U (Research Park)}, {2024-08-13T10:47:47.497, False, 282, 13.11912, Ogden via Weber State}, {2024-08-13T10:47:49.533, False, 53.8, 0, Ogden via Weber State}]                                             |\n",
            "+--------------------------------------------------------------------------------------------------------------------------------------------------------------------------------------------------------------------------------------------------------------------------------------------------------------------------------------------------------------------------------------------------------------------------------------------------------------------------------------------------------------------------------------------------------------------------------------------------------------------------------------------------------------------------------------------------------------------------------------------------------------------------------------------------------------------------------------------------------------------------------------------------------------------------------------------------------------------------------------------------------------------------------------------------------------------------------------------------------+\n",
            "only showing top 5 rows\n",
            "\n"
          ]
        }
      ]
    },
    {
      "cell_type": "code",
      "source": [
        "flattened_df = df.select(\n",
        "    \"file_id\",\n",
        "    col(\"Siri.@version\").alias(\"Siri_version\"),\n",
        "    col(\"Siri.@xmlns\").alias(\"Siri_xmlns\"),\n",
        "    col(\"Siri.ResponseTimestamp\").alias(\"Siri_ResponseTimestamp\"),\n",
        "    col(\"Siri.VehicleMonitoringDelivery.@version\").alias(\"VehicleMonitoringDelivery_version\"),\n",
        "    col(\"Siri.VehicleMonitoringDelivery.ResponseTimestamp\").alias(\"VehicleMonitoringDelivery_ResponseTimestamp\"),\n",
        "    col(\"Siri.VehicleMonitoringDelivery.ValidUntil\").alias(\"VehicleMonitoringDelivery_ValidUntil\"),\n",
        "    col(\"Siri.VehicleMonitoringDelivery.VehicleActivity.RecordedAtTime\").alias(\"RecordedAtTime\"),\n",
        "    explode(\"Siri.VehicleMonitoringDelivery.VehicleActivity.MonitoredVehicleJourney\").alias(\"MonitoredVehicleJourney\")\n",
        ")"
      ],
      "metadata": {
        "id": "ms5qPw71oyMr"
      },
      "execution_count": 14,
      "outputs": []
    },
    {
      "cell_type": "code",
      "source": [
        "final_df = flattened_df.select(\n",
        "    \"file_id\",\n",
        "    \"Siri_version\", \"Siri_xmlns\", \"Siri_ResponseTimestamp\",\n",
        "    \"VehicleMonitoringDelivery_version\", \"VehicleMonitoringDelivery_ResponseTimestamp\",\n",
        "    \"VehicleMonitoringDelivery_ValidUntil\", \"RecordedAtTime\",\n",
        "    col(\"MonitoredVehicleJourney.LineRef\").alias(\"LineRef\"),\n",
        "    col(\"MonitoredVehicleJourney.DirectionRef\").alias(\"DirectionRef\"),\n",
        "    col(\"MonitoredVehicleJourney.FramedVehicleJourneyRef.DataFrameRef\").alias(\"DataFrameRef\"),\n",
        "    col(\"MonitoredVehicleJourney.FramedVehicleJourneyRef.DatedVehicleJourneyRef\").alias(\"DatedVehicleJourneyRef\"),\n",
        "    col(\"MonitoredVehicleJourney.PublishedLineName\").alias(\"PublishedLineName\"),\n",
        "    col(\"MonitoredVehicleJourney.OriginRef\").alias(\"OriginRef\"),\n",
        "    col(\"MonitoredVehicleJourney.DestinationRef\").alias(\"DestinationRef\"),\n",
        "    col(\"MonitoredVehicleJourney.Monitored\").alias(\"Monitored\"),\n",
        "    col(\"MonitoredVehicleJourney.VehicleLocation.Longitude\").alias(\"VehicleLocation_Longitude\"),\n",
        "    col(\"MonitoredVehicleJourney.VehicleLocation.Latitude\").alias(\"VehicleLocation_Latitude\"),\n",
        "    col(\"MonitoredVehicleJourney.ProgressRate\").alias(\"ProgressRate\"),\n",
        "    col(\"MonitoredVehicleJourney.CourseOfJourneyRef\").alias(\"CourseOfJourneyRef\"),\n",
        "    col(\"MonitoredVehicleJourney.VehicleRef\").alias(\"VehicleRef\"),\n",
        "    col(\"MonitoredVehicleJourney.MonitoredCall.StopPointRef\").alias(\"MonitoredCall_StopPointRef\"),\n",
        "    col(\"MonitoredVehicleJourney.MonitoredCall.VisitNumber\").alias(\"MonitoredCall_VisitNumber\"),\n",
        "    col(\"MonitoredVehicleJourney.MonitoredCall.VehicleAtStop\").alias(\"MonitoredCall_VehicleAtStop\"),\n",
        "    col(\"MonitoredVehicleJourney.Extensions.LastGPSFix\").alias(\"Extensions_LastGPSFix\"),\n",
        "    col(\"MonitoredVehicleJourney.Extensions.Scheduled\").alias(\"Extensions_Scheduled\"),\n",
        "    col(\"MonitoredVehicleJourney.Extensions.Bearing\").alias(\"Extensions_Bearing\"),\n",
        "    col(\"MonitoredVehicleJourney.Extensions.Speed\").alias(\"Extensions_Speed\"),\n",
        "    col(\"MonitoredVehicleJourney.Extensions.DestinationName\").alias(\"Extensions_DestinationName\")\n",
        ")"
      ],
      "metadata": {
        "id": "-lNGx1Pbo3uo"
      },
      "execution_count": 15,
      "outputs": []
    },
    {
      "cell_type": "code",
      "source": [
        "final_df = final_df.withColumn(\"file_id\", regexp_extract(\"file_id\", r\"([^/]+)(?=\\.json$)\", 1))\n",
        "final_df.show(5)"
      ],
      "metadata": {
        "colab": {
          "base_uri": "https://localhost:8080/"
        },
        "id": "kovEhPZXs8Oq",
        "outputId": "04b06da4-ce6d-4363-f375-0e7cef2f0972"
      },
      "execution_count": 16,
      "outputs": [
        {
          "output_type": "stream",
          "name": "stdout",
          "text": [
            "+--------------+------------+--------------------+----------------------+---------------------------------+-------------------------------------------+------------------------------------+--------------------+-------+--------------+--------------------+----------------------+--------------------+---------+--------------+---------+-------------------------+------------------------+------------+------------------+----------+--------------------------+-------------------------+---------------------------+---------------------+--------------------+------------------+-------------------+--------------------------+\n",
            "|       file_id|Siri_version|          Siri_xmlns|Siri_ResponseTimestamp|VehicleMonitoringDelivery_version|VehicleMonitoringDelivery_ResponseTimestamp|VehicleMonitoringDelivery_ValidUntil|      RecordedAtTime|LineRef|  DirectionRef|        DataFrameRef|DatedVehicleJourneyRef|   PublishedLineName|OriginRef|DestinationRef|Monitored|VehicleLocation_Longitude|VehicleLocation_Latitude|ProgressRate|CourseOfJourneyRef|VehicleRef|MonitoredCall_StopPointRef|MonitoredCall_VisitNumber|MonitoredCall_VehicleAtStop|Extensions_LastGPSFix|Extensions_Scheduled|Extensions_Bearing|   Extensions_Speed|Extensions_DestinationName|\n",
            "+--------------+------------+--------------------+----------------------+---------------------------------+-------------------------------------------+------------------------------------+--------------------+-------+--------------+--------------------+----------------------+--------------------+---------+--------------+---------+-------------------------+------------------------+------------+------------------+----------+--------------------------+-------------------------+---------------------------+---------------------+--------------------+------------------+-------------------+--------------------------+\n",
            "|455-1723569052|         1.3|http://www.siri.o...|  2024-08-13T11:10:...|                              1.3|                       2024-08-13T11:10:...|                2024-08-13T11:11:...|2024-08-13T11:10:...|    455| OGDEN VIA WSU|2024-08-13T00:00:...|               5319029|U OF U/DAVIS COUN...|   127027|        623423|     True|      -111.82733033333334|              40.7560765|           1|              5641|     10008|                      NULL|                     NULL|                       NULL| 2024-08-13T11:10:...|               False|             121.9|           10.81752|      Ogden via Weber S...|\n",
            "|455-1723569052|         1.3|http://www.siri.o...|  2024-08-13T11:10:...|                              1.3|                       2024-08-13T11:10:...|                2024-08-13T11:11:...|2024-08-13T11:10:...|    455|U OF U VIA SLC|2024-08-13T00:00:...|               5319056|U OF U/DAVIS COUN...|   623202|        127027|     True|      -111.89228133333333|              40.9805315|           1|             31806|     14006|                      NULL|                     NULL|                       NULL| 2024-08-13T11:10:...|               False|             266.4|           24.05172|      U of U (Research ...|\n",
            "|455-1723569052|         1.3|http://www.siri.o...|  2024-08-13T11:10:...|                              1.3|                       2024-08-13T11:10:...|                2024-08-13T11:11:...|2024-08-13T11:10:...|    455|U OF U VIA SLC|2024-08-13T00:00:...|               5319054|U OF U/DAVIS COUN...|   623202|        127027|     True|      -111.88829316666667|      40.763855833333331|           1|             32329|     14008|                      NULL|                     NULL|                       NULL| 2024-08-13T11:10:...|               False|             179.8|0.11508000000000002|      U of U (Research ...|\n",
            "|455-1723569052|         1.3|http://www.siri.o...|  2024-08-13T11:10:...|                              1.3|                       2024-08-13T11:10:...|                2024-08-13T11:11:...|2024-08-13T11:10:...|    455| OGDEN VIA WSU|2024-08-13T00:00:...|               5319032|U OF U/DAVIS COUN...|   127027|        623423|     True|      -112.01267983333334|      41.112795833333337|           1|             32609|     14011|                      NULL|                     NULL|                       NULL| 2024-08-13T11:10:...|               False|             145.4|            64.4448|      Ogden via Weber S...|\n",
            "|455-1723569052|         1.3|http://www.siri.o...|  2024-08-13T11:10:...|                              1.3|                       2024-08-13T11:10:...|                2024-08-13T11:11:...|2024-08-13T11:10:...|    455|U OF U VIA SLC|2024-08-13T00:00:...|               5319059|U OF U/DAVIS COUN...|   623202|        127027|     True|      -111.97891566666667|              41.2356605|           1|             32762|     14012|                      NULL|                     NULL|                       NULL| 2024-08-13T11:10:...|               False|               2.5|                  0|      U of U (Research ...|\n",
            "+--------------+------------+--------------------+----------------------+---------------------------------+-------------------------------------------+------------------------------------+--------------------+-------+--------------+--------------------+----------------------+--------------------+---------+--------------+---------+-------------------------+------------------------+------------+------------------+----------+--------------------------+-------------------------+---------------------------+---------------------+--------------------+------------------+-------------------+--------------------------+\n",
            "only showing top 5 rows\n",
            "\n"
          ]
        }
      ]
    },
    {
      "cell_type": "code",
      "source": [
        "final_df.filter(col(\"file_id\") == \"455-1723569052\").show(100, False)"
      ],
      "metadata": {
        "colab": {
          "base_uri": "https://localhost:8080/"
        },
        "id": "sNtBsPBM0tWc",
        "outputId": "937bdd4f-ac1c-4169-a2eb-f808aba82c17"
      },
      "execution_count": 17,
      "outputs": [
        {
          "output_type": "stream",
          "name": "stdout",
          "text": [
            "+--------------+------------+---------------------------+---------------------------------+---------------------------------+-------------------------------------------+------------------------------------+---------------------------------+-------+--------------+-------------------------+----------------------+-----------------------+---------+--------------+---------+-------------------------+------------------------+------------+------------------+----------+--------------------------+-------------------------+---------------------------+-----------------------+--------------------+------------------+-------------------+--------------------------+\n",
            "|file_id       |Siri_version|Siri_xmlns                 |Siri_ResponseTimestamp           |VehicleMonitoringDelivery_version|VehicleMonitoringDelivery_ResponseTimestamp|VehicleMonitoringDelivery_ValidUntil|RecordedAtTime                   |LineRef|DirectionRef  |DataFrameRef             |DatedVehicleJourneyRef|PublishedLineName      |OriginRef|DestinationRef|Monitored|VehicleLocation_Longitude|VehicleLocation_Latitude|ProgressRate|CourseOfJourneyRef|VehicleRef|MonitoredCall_StopPointRef|MonitoredCall_VisitNumber|MonitoredCall_VehicleAtStop|Extensions_LastGPSFix  |Extensions_Scheduled|Extensions_Bearing|Extensions_Speed   |Extensions_DestinationName|\n",
            "+--------------+------------+---------------------------+---------------------------------+---------------------------------+-------------------------------------------+------------------------------------+---------------------------------+-------+--------------+-------------------------+----------------------+-----------------------+---------+--------------+---------+-------------------------+------------------------+------------+------------------+----------+--------------------------+-------------------------+---------------------------+-----------------------+--------------------+------------------+-------------------+--------------------------+\n",
            "|455-1723569052|1.3         |http://www.siri.org.uk/siri|2024-08-13T11:10:52.8244066-06:00|1.3                              |2024-08-13T11:10:52.8244066-06:00          |2024-08-13T11:11:02.8244066-06:00   |2024-08-13T11:10:52.8244066-06:00|455    |OGDEN VIA WSU |2024-08-13T00:00:00-06:00|5319029               |U OF U/DAVIS COUNTY/WSU|127027   |623423        |True     |-111.82733033333334      |40.7560765              |1           |5641              |10008     |NULL                      |NULL                     |NULL                       |2024-08-13T11:10:40.773|False               |121.9             |10.81752           |Ogden via Weber State     |\n",
            "|455-1723569052|1.3         |http://www.siri.org.uk/siri|2024-08-13T11:10:52.8244066-06:00|1.3                              |2024-08-13T11:10:52.8244066-06:00          |2024-08-13T11:11:02.8244066-06:00   |2024-08-13T11:10:52.8244066-06:00|455    |U OF U VIA SLC|2024-08-13T00:00:00-06:00|5319056               |U OF U/DAVIS COUNTY/WSU|623202   |127027        |True     |-111.89228133333333      |40.9805315              |1           |31806             |14006     |NULL                      |NULL                     |NULL                       |2024-08-13T11:10:39.913|False               |266.4             |24.05172           |U of U (Research Park)    |\n",
            "|455-1723569052|1.3         |http://www.siri.org.uk/siri|2024-08-13T11:10:52.8244066-06:00|1.3                              |2024-08-13T11:10:52.8244066-06:00          |2024-08-13T11:11:02.8244066-06:00   |2024-08-13T11:10:52.8244066-06:00|455    |U OF U VIA SLC|2024-08-13T00:00:00-06:00|5319054               |U OF U/DAVIS COUNTY/WSU|623202   |127027        |True     |-111.88829316666667      |40.763855833333331      |1           |32329             |14008     |NULL                      |NULL                     |NULL                       |2024-08-13T11:10:42.4  |False               |179.8             |0.11508000000000002|U of U (Research Park)    |\n",
            "|455-1723569052|1.3         |http://www.siri.org.uk/siri|2024-08-13T11:10:52.8244066-06:00|1.3                              |2024-08-13T11:10:52.8244066-06:00          |2024-08-13T11:11:02.8244066-06:00   |2024-08-13T11:10:52.8244066-06:00|455    |OGDEN VIA WSU |2024-08-13T00:00:00-06:00|5319032               |U OF U/DAVIS COUNTY/WSU|127027   |623423        |True     |-112.01267983333334      |41.112795833333337      |1           |32609             |14011     |NULL                      |NULL                     |NULL                       |2024-08-13T11:10:43.17 |False               |145.4             |64.4448            |Ogden via Weber State     |\n",
            "|455-1723569052|1.3         |http://www.siri.org.uk/siri|2024-08-13T11:10:52.8244066-06:00|1.3                              |2024-08-13T11:10:52.8244066-06:00          |2024-08-13T11:11:02.8244066-06:00   |2024-08-13T11:10:52.8244066-06:00|455    |U OF U VIA SLC|2024-08-13T00:00:00-06:00|5319059               |U OF U/DAVIS COUNTY/WSU|623202   |127027        |True     |-111.97891566666667      |41.2356605              |1           |32762             |14012     |NULL                      |NULL                     |NULL                       |2024-08-13T11:10:37.617|False               |2.5               |0                  |U of U (Research Park)    |\n",
            "|455-1723569052|1.3         |http://www.siri.org.uk/siri|2024-08-13T11:10:52.8244066-06:00|1.3                              |2024-08-13T11:10:52.8244066-06:00          |2024-08-13T11:11:02.8244066-06:00   |2024-08-13T11:10:52.8244066-06:00|455    |OGDEN VIA WSU |2024-08-13T00:00:00-06:00|5319026               |U OF U/DAVIS COUNTY/WSU|127027   |623423        |True     |-111.90948333333333      |41.0440605              |1           |32764             |14015     |NULL                      |NULL                     |NULL                       |2024-08-13T11:10:39.49 |False               |9.2               |26.92872           |Ogden via Weber State     |\n",
            "|455-1723569052|1.3         |http://www.siri.org.uk/siri|2024-08-13T11:10:52.8244066-06:00|1.3                              |2024-08-13T11:10:52.8244066-06:00          |2024-08-13T11:11:02.8244066-06:00   |2024-08-13T11:10:52.8244066-06:00|455    |OGDEN VIA WSU |2024-08-13T00:00:00-06:00|5319028               |U OF U/DAVIS COUNTY/WSU|127027   |623423        |True     |-111.91209483333333      |40.837145166666666      |1           |32792             |14016     |NULL                      |NULL                     |NULL                       |2024-08-13T11:10:37.413|False               |83.1              |10.702440000000001 |Ogden via Weber State     |\n",
            "|455-1723569052|1.3         |http://www.siri.org.uk/siri|2024-08-13T11:10:52.8244066-06:00|1.3                              |2024-08-13T11:10:52.8244066-06:00          |2024-08-13T11:11:02.8244066-06:00   |2024-08-13T11:10:52.8244066-06:00|455    |U OF U VIA SLC|2024-08-13T00:00:00-06:00|5319053               |U OF U/DAVIS COUNTY/WSU|623202   |127027        |True     |-111.873649              |40.7608035              |1           |36805             |15008     |NULL                      |NULL                     |NULL                       |2024-08-13T11:10:43.65 |False               |270.3             |25.54776           |U of U (Research Park)    |\n",
            "|455-1723569052|1.3         |http://www.siri.org.uk/siri|2024-08-13T11:10:52.8244066-06:00|1.3                              |2024-08-13T11:10:52.8244066-06:00          |2024-08-13T11:11:02.8244066-06:00   |2024-08-13T11:10:52.8244066-06:00|455    |OGDEN VIA WSU |2024-08-13T00:00:00-06:00|5319030               |U OF U/DAVIS COUNTY/WSU|127027   |623423        |True     |-111.83088433333333      |40.756099166666665      |1           |57342             |17007     |NULL                      |NULL                     |NULL                       |2024-08-13T11:10:37.413|False               |130.9             |0                  |Ogden via Weber State     |\n",
            "|455-1723569052|1.3         |http://www.siri.org.uk/siri|2024-08-13T11:10:52.8244066-06:00|1.3                              |2024-08-13T11:10:52.8244066-06:00          |2024-08-13T11:11:02.8244066-06:00   |2024-08-13T11:10:52.8244066-06:00|455    |U OF U VIA SLC|2024-08-13T00:00:00-06:00|5319057               |U OF U/DAVIS COUNTY/WSU|623202   |127027        |True     |-111.909028              |41.11483066666667       |1           |57570             |17011     |NULL                      |NULL                     |NULL                       |2024-08-13T11:10:37.24 |False               |183.6             |48.79392           |U of U (Research Park)    |\n",
            "|455-1723569052|1.3         |http://www.siri.org.uk/siri|2024-08-13T11:10:52.8244066-06:00|1.3                              |2024-08-13T11:10:52.8244066-06:00          |2024-08-13T11:11:02.8244066-06:00   |2024-08-13T11:10:52.8244066-06:00|455    |U OF U VIA SLC|2024-08-13T00:00:00-06:00|5319055               |U OF U/DAVIS COUNTY/WSU|623202   |127027        |True     |-111.86800033333333      |40.886566166666668      |1           |65206             |18004     |NULL                      |NULL                     |NULL                       |2024-08-13T11:10:41.76 |False               |131.5             |4.6032             |U of U (Research Park)    |\n",
            "|455-1723569052|1.3         |http://www.siri.org.uk/siri|2024-08-13T11:10:52.8244066-06:00|1.3                              |2024-08-13T11:10:52.8244066-06:00          |2024-08-13T11:11:02.8244066-06:00   |2024-08-13T11:10:52.8244066-06:00|455    |U OF U VIA SLC|2024-08-13T00:00:00-06:00|5319058               |U OF U/DAVIS COUNTY/WSU|623202   |127027        |True     |-111.97068433333334      |41.212144666666667      |1           |62679             |18016     |NULL                      |NULL                     |NULL                       |2024-08-13T11:10:43.29 |False               |180.7             |23.93664           |U of U (Research Park)    |\n",
            "|455-1723569052|1.3         |http://www.siri.org.uk/siri|2024-08-13T11:10:52.8244066-06:00|1.3                              |2024-08-13T11:10:52.8244066-06:00          |2024-08-13T11:11:02.8244066-06:00   |2024-08-13T11:10:52.8244066-06:00|455    |OGDEN VIA WSU |2024-08-13T00:00:00-06:00|5319025               |U OF U/DAVIS COUNTY/WSU|127027   |623423        |True     |-111.94781483333334      |41.193097333333334      |1           |397019            |21077     |NULL                      |NULL                     |NULL                       |2024-08-13T11:10:37.9  |False               |30.6              |16.341359999999998 |Ogden via Weber State     |\n",
            "|455-1723569052|1.3         |http://www.siri.org.uk/siri|2024-08-13T11:10:52.8244066-06:00|1.3                              |2024-08-13T11:10:52.8244066-06:00          |2024-08-13T11:11:02.8244066-06:00   |2024-08-13T11:10:52.8244066-06:00|455    |OGDEN VIA WSU |2024-08-13T00:00:00-06:00|5319027               |U OF U/DAVIS COUNTY/WSU|127027   |623423        |True     |-111.88589866666666      |40.9805285              |1           |393741            |21080     |NULL                      |NULL                     |NULL                       |2024-08-13T11:10:40.413|False               |276.2             |23.82156           |Ogden via Weber State     |\n",
            "+--------------+------------+---------------------------+---------------------------------+---------------------------------+-------------------------------------------+------------------------------------+---------------------------------+-------+--------------+-------------------------+----------------------+-----------------------+---------+--------------+---------+-------------------------+------------------------+------------+------------------+----------+--------------------------+-------------------------+---------------------------+-----------------------+--------------------+------------------+-------------------+--------------------------+\n",
            "\n"
          ]
        }
      ]
    },
    {
      "cell_type": "markdown",
      "source": [
        "## Duck DB Installation"
      ],
      "metadata": {
        "id": "oyUYP-1xurdl"
      }
    },
    {
      "cell_type": "code",
      "source": [
        "pip install duckdb"
      ],
      "metadata": {
        "id": "EzcnvL3Quqyy",
        "outputId": "1a4d2827-349f-4455-d531-d3d7b943a43e",
        "colab": {
          "base_uri": "https://localhost:8080/"
        }
      },
      "execution_count": 1,
      "outputs": [
        {
          "output_type": "stream",
          "name": "stdout",
          "text": [
            "Requirement already satisfied: duckdb in /usr/local/lib/python3.10/dist-packages (0.10.3)\n"
          ]
        }
      ]
    },
    {
      "cell_type": "code",
      "source": [
        "import duckdb"
      ],
      "metadata": {
        "id": "U3DV60tHxNvg"
      },
      "execution_count": null,
      "outputs": []
    }
  ]
}