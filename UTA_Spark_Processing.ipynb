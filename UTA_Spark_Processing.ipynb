{
  "nbformat": 4,
  "nbformat_minor": 0,
  "metadata": {
    "colab": {
      "provenance": [],
      "authorship_tag": "ABX9TyPvQziAlWYTXI7dZx9emBX/",
      "include_colab_link": true
    },
    "kernelspec": {
      "name": "python3",
      "display_name": "Python 3"
    },
    "language_info": {
      "name": "python"
    }
  },
  "cells": [
    {
      "cell_type": "markdown",
      "metadata": {
        "id": "view-in-github",
        "colab_type": "text"
      },
      "source": [
        "<a href=\"https://colab.research.google.com/github/sachins301/UTA-Distributed-Computing/blob/main/UTA_Spark_Processing.ipynb\" target=\"_parent\"><img src=\"https://colab.research.google.com/assets/colab-badge.svg\" alt=\"Open In Colab\"/></a>"
      ]
    },
    {
      "cell_type": "markdown",
      "source": [
        "Installing Spark and dependencies"
      ],
      "metadata": {
        "id": "hOVGMW4OUefO"
      }
    },
    {
      "cell_type": "code",
      "execution_count": 1,
      "metadata": {
        "id": "SEAKx8SJHnJ4"
      },
      "outputs": [],
      "source": [
        "!apt-get install openjdk-8-jdk-headless -qq > /dev/null\n",
        "!wget -q http://archive.apache.org/dist/spark/spark-3.5.2/spark-3.5.2-bin-hadoop3.tgz\n",
        "!tar xf spark-3.5.2-bin-hadoop3.tgz\n",
        "!pip install -q findspark"
      ]
    },
    {
      "cell_type": "code",
      "source": [
        "import os\n",
        "os.environ[\"JAVA_HOME\"] = \"/usr/lib/jvm/java-8-openjdk-amd64\"\n",
        "os.environ[\"SPARK_HOME\"] = \"/content/spark-3.5.2-bin-hadoop3\""
      ],
      "metadata": {
        "id": "EyYko10_U4FR"
      },
      "execution_count": 2,
      "outputs": []
    },
    {
      "cell_type": "code",
      "source": [
        "import findspark\n",
        "findspark.init()\n",
        "from pyspark.sql import SparkSession\n",
        "spark = SparkSession.builder.master(\"local[*]\").getOrCreate()\n",
        "spark.conf.set(\"spark.sql.repl.eagerEval.enabled\", True) # Property used to format output tables better\n",
        "spark"
      ],
      "metadata": {
        "id": "Xh_EivEKWjaX",
        "outputId": "e22ca12d-7bc0-4d46-ca9f-e6fcc034d4a3",
        "colab": {
          "base_uri": "https://localhost:8080/",
          "height": 219
        }
      },
      "execution_count": 3,
      "outputs": [
        {
          "output_type": "execute_result",
          "data": {
            "text/plain": [
              "<pyspark.sql.session.SparkSession at 0x78268fd67e20>"
            ],
            "text/html": [
              "\n",
              "            <div>\n",
              "                <p><b>SparkSession - in-memory</b></p>\n",
              "                \n",
              "        <div>\n",
              "            <p><b>SparkContext</b></p>\n",
              "\n",
              "            <p><a href=\"http://7267d323d287:4040\">Spark UI</a></p>\n",
              "\n",
              "            <dl>\n",
              "              <dt>Version</dt>\n",
              "                <dd><code>v3.5.2</code></dd>\n",
              "              <dt>Master</dt>\n",
              "                <dd><code>local[*]</code></dd>\n",
              "              <dt>AppName</dt>\n",
              "                <dd><code>pyspark-shell</code></dd>\n",
              "            </dl>\n",
              "        </div>\n",
              "        \n",
              "            </div>\n",
              "        "
            ]
          },
          "metadata": {},
          "execution_count": 3
        }
      ]
    },
    {
      "cell_type": "code",
      "source": [
        "# Unpack the json dump\n",
        "import shutil\n",
        "shutil.unpack_archive('/content/json_dumps.zip', '/content/json_dumps/')"
      ],
      "metadata": {
        "id": "RYzMbOAGhEol"
      },
      "execution_count": 4,
      "outputs": []
    },
    {
      "cell_type": "code",
      "source": [
        "# prompt: write a spark code to read jsons into a dataframe\n",
        "\n",
        "df = spark.read.json(\"/content/json_dumps/*.json\")\n",
        "df.show()\n"
      ],
      "metadata": {
        "id": "tb0U2okvh86L",
        "outputId": "00013e4e-5a1b-42a5-9f4e-0239fe5bcb8e",
        "colab": {
          "base_uri": "https://localhost:8080/"
        }
      },
      "execution_count": 5,
      "outputs": [
        {
          "output_type": "stream",
          "name": "stdout",
          "text": [
            "+--------------------+\n",
            "|                Siri|\n",
            "+--------------------+\n",
            "|{1.3, http://www....|\n",
            "|{1.3, http://www....|\n",
            "|{1.3, http://www....|\n",
            "|{1.3, http://www....|\n",
            "|{1.3, http://www....|\n",
            "|{1.3, http://www....|\n",
            "|{1.3, http://www....|\n",
            "|{1.3, http://www....|\n",
            "|{1.3, http://www....|\n",
            "|{1.3, http://www....|\n",
            "|{1.3, http://www....|\n",
            "|{1.3, http://www....|\n",
            "|{1.3, http://www....|\n",
            "|{1.3, http://www....|\n",
            "|{1.3, http://www....|\n",
            "|{1.3, http://www....|\n",
            "|{1.3, http://www....|\n",
            "|{1.3, http://www....|\n",
            "|{1.3, http://www....|\n",
            "|{1.3, http://www....|\n",
            "+--------------------+\n",
            "only showing top 20 rows\n",
            "\n"
          ]
        }
      ]
    },
    {
      "cell_type": "code",
      "source": [
        "df.count()"
      ],
      "metadata": {
        "id": "2cmfvEhdpCEB",
        "outputId": "6eacdc19-ae52-44a1-ca88-08c600d03980",
        "colab": {
          "base_uri": "https://localhost:8080/"
        }
      },
      "execution_count": 6,
      "outputs": [
        {
          "output_type": "execute_result",
          "data": {
            "text/plain": [
              "247"
            ]
          },
          "metadata": {},
          "execution_count": 6
        }
      ]
    }
  ]
}