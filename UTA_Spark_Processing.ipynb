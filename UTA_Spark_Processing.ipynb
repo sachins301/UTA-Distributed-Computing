{
  "nbformat": 4,
  "nbformat_minor": 0,
  "metadata": {
    "colab": {
      "provenance": [],
      "authorship_tag": "ABX9TyOyhHm5EtlY4N4i1s7aiy6U",
      "include_colab_link": true
    },
    "kernelspec": {
      "name": "python3",
      "display_name": "Python 3"
    },
    "language_info": {
      "name": "python"
    }
  },
  "cells": [
    {
      "cell_type": "markdown",
      "metadata": {
        "id": "view-in-github",
        "colab_type": "text"
      },
      "source": [
        "<a href=\"https://colab.research.google.com/github/sachins301/UTA-Distributed-Computing/blob/main/UTA_Spark_Processing.ipynb\" target=\"_parent\"><img src=\"https://colab.research.google.com/assets/colab-badge.svg\" alt=\"Open In Colab\"/></a>"
      ]
    },
    {
      "cell_type": "markdown",
      "source": [
        "Installing Spark and dependencies"
      ],
      "metadata": {
        "id": "hOVGMW4OUefO"
      }
    },
    {
      "cell_type": "code",
      "execution_count": 1,
      "metadata": {
        "id": "SEAKx8SJHnJ4"
      },
      "outputs": [],
      "source": [
        "!apt-get install openjdk-8-jdk-headless -qq > /dev/null\n",
        "!wget -q http://archive.apache.org/dist/spark/spark-3.5.2/spark-3.5.2-bin-hadoop3.tgz\n",
        "!tar xf spark-3.5.2-bin-hadoop3.tgz\n",
        "!pip install -q findspark"
      ]
    },
    {
      "cell_type": "code",
      "source": [
        "import os\n",
        "os.environ[\"JAVA_HOME\"] = \"/usr/lib/jvm/java-8-openjdk-amd64\"\n",
        "os.environ[\"SPARK_HOME\"] = \"/content/spark-3.5.2-bin-hadoop3\""
      ],
      "metadata": {
        "id": "EyYko10_U4FR"
      },
      "execution_count": 3,
      "outputs": []
    },
    {
      "cell_type": "code",
      "source": [
        "import findspark\n",
        "findspark.init()\n",
        "from pyspark.sql import SparkSession\n"
      ],
      "metadata": {
        "id": "Xh_EivEKWjaX"
      },
      "execution_count": 4,
      "outputs": []
    },
    {
      "cell_type": "code",
      "source": [
        "spark = SparkSession.builder.master(\"local[*]\").getOrCreate()\n",
        "spark.conf.set(\"spark.sql.repl.eagerEval.enabled\", True) # Property used to format output tables better\n",
        "spark"
      ],
      "metadata": {
        "id": "1GECEtoIrkMP"
      },
      "execution_count": null,
      "outputs": []
    },
    {
      "cell_type": "code",
      "source": [
        "# Unpack the json dump\n",
        "import shutil\n",
        "shutil.unpack_archive('/content/json_dumps.zip', '/content/json_dumps/')"
      ],
      "metadata": {
        "id": "RYzMbOAGhEol"
      },
      "execution_count": 5,
      "outputs": []
    },
    {
      "cell_type": "code",
      "source": [
        "import time\n",
        "def timing_decorator(func):\n",
        "    def wrapper(*args, **kwargs):\n",
        "        start_time = time.time()  # Start time\n",
        "        result = func(*args, **kwargs)\n",
        "        end_time = time.time()  # End time\n",
        "        elapsed_time = end_time - start_time\n",
        "        print(f\"Function '{func.__name__}' took {elapsed_time:.4f} seconds to execute.\")\n",
        "        return result\n",
        "    return wrapper"
      ],
      "metadata": {
        "id": "-j1yVQkPqS0R"
      },
      "execution_count": 6,
      "outputs": []
    },
    {
      "cell_type": "code",
      "source": [
        "# prompt: write a spark code to read jsons into a dataframe\n",
        "@timing_decorator\n",
        "def read_json():\n",
        "  df = spark.read.json(\"/content/json_dumps/*.json\")\n",
        "  return df\n",
        "\n",
        "df = read_json()\n",
        "df.show(5)"
      ],
      "metadata": {
        "id": "tb0U2okvh86L",
        "outputId": "bf4908c2-8ce1-490e-8fba-f7b085deca4e",
        "colab": {
          "base_uri": "https://localhost:8080/"
        }
      },
      "execution_count": null,
      "outputs": [
        {
          "output_type": "stream",
          "name": "stdout",
          "text": [
            "Function 'read_json' took 144.7838 seconds to execute.\n",
            "+--------------------+\n",
            "|                Siri|\n",
            "+--------------------+\n",
            "|{1.3, http://www....|\n",
            "|{1.3, http://www....|\n",
            "|{1.3, http://www....|\n",
            "|{1.3, http://www....|\n",
            "|{1.3, http://www....|\n",
            "+--------------------+\n",
            "only showing top 5 rows\n",
            "\n"
          ]
        }
      ]
    },
    {
      "cell_type": "code",
      "source": [
        "@timing_decorator\n",
        "def read_json():\n",
        "  df = spark.read.json(\"/content/json_dumps/*.json\").repartition(100)\n",
        "  return df\n",
        "\n",
        "df = read_json()\n",
        "df.show(5)\n"
      ],
      "metadata": {
        "id": "2cmfvEhdpCEB",
        "outputId": "c8707e23-9a11-4979-d2b2-9e32b902db4b",
        "colab": {
          "base_uri": "https://localhost:8080/"
        }
      },
      "execution_count": null,
      "outputs": [
        {
          "output_type": "stream",
          "name": "stdout",
          "text": [
            "Function 'read_json' took 144.8710 seconds to execute.\n",
            "+--------------------+\n",
            "|                Siri|\n",
            "+--------------------+\n",
            "|{1.3, http://www....|\n",
            "|{1.3, http://www....|\n",
            "|{1.3, http://www....|\n",
            "|{1.3, http://www....|\n",
            "|{1.3, http://www....|\n",
            "+--------------------+\n",
            "only showing top 5 rows\n",
            "\n"
          ]
        }
      ]
    },
    {
      "cell_type": "code",
      "source": [
        "@timing_decorator\n",
        "def read_json():\n",
        "  df = spark.read.option(\"wholeFile\", True).json(\"/content/json_dumps/*.json\").repartition(100)\n",
        "  return df\n",
        "\n",
        "df = read_json()\n",
        "df.show(5)"
      ],
      "metadata": {
        "id": "F2Ygm8iJwDro",
        "outputId": "24e71d50-9dfb-4091-d512-cea3d210cc48",
        "colab": {
          "base_uri": "https://localhost:8080/"
        }
      },
      "execution_count": null,
      "outputs": [
        {
          "output_type": "stream",
          "name": "stdout",
          "text": [
            "Function 'read_json' took 138.6985 seconds to execute.\n",
            "+--------------------+\n",
            "|                Siri|\n",
            "+--------------------+\n",
            "|{1.3, http://www....|\n",
            "|{1.3, http://www....|\n",
            "|{1.3, http://www....|\n",
            "|{1.3, http://www....|\n",
            "|{1.3, http://www....|\n",
            "+--------------------+\n",
            "only showing top 5 rows\n",
            "\n"
          ]
        }
      ]
    },
    {
      "cell_type": "code",
      "source": [
        "@timing_decorator\n",
        "def read_json():\n",
        "  df = spark.read \\\n",
        "            .option(\"wholeFile\", True) \\\n",
        "            .json(\"/content/json_dumps/*.json\").repartition(100) \\\n",
        "            .coalesce(10)\n",
        "  return df\n",
        "\n",
        "df = read_json()\n",
        "df.show(5)"
      ],
      "metadata": {
        "id": "BYBHyxVjwNTB",
        "outputId": "dbffeec2-02e2-46da-82c5-bdf4bb04ce5b",
        "colab": {
          "base_uri": "https://localhost:8080/"
        }
      },
      "execution_count": null,
      "outputs": [
        {
          "output_type": "stream",
          "name": "stdout",
          "text": [
            "Function 'read_json' took 140.0999 seconds to execute.\n",
            "+--------------------+\n",
            "|                Siri|\n",
            "+--------------------+\n",
            "|{1.3, http://www....|\n",
            "|{1.3, http://www....|\n",
            "|{1.3, http://www....|\n",
            "|{1.3, http://www....|\n",
            "|{1.3, http://www....|\n",
            "+--------------------+\n",
            "only showing top 5 rows\n",
            "\n"
          ]
        }
      ]
    },
    {
      "cell_type": "code",
      "source": [
        "spark.stop()\n",
        "spark = SparkSession.builder \\\n",
        "    .master(\"local[*]\") \\\n",
        "    .config(\"spark.executor.memory\", \"8g\") \\\n",
        "    .config(\"spark.driver.memory\", \"4g\") \\\n",
        "    .config(\"spark.sql.shuffle.partitions\", \"4\") \\\n",
        "    .getOrCreate()\n",
        "spark"
      ],
      "metadata": {
        "id": "xyZ254OqyNvs",
        "outputId": "3549672f-bd04-441c-a1e3-3fd0cc4dc021",
        "colab": {
          "base_uri": "https://localhost:8080/",
          "height": 219
        }
      },
      "execution_count": 10,
      "outputs": [
        {
          "output_type": "execute_result",
          "data": {
            "text/plain": [
              "<pyspark.sql.session.SparkSession at 0x7dea50095d80>"
            ],
            "text/html": [
              "\n",
              "            <div>\n",
              "                <p><b>SparkSession - in-memory</b></p>\n",
              "                \n",
              "        <div>\n",
              "            <p><b>SparkContext</b></p>\n",
              "\n",
              "            <p><a href=\"http://c14d4f3907bb:4040\">Spark UI</a></p>\n",
              "\n",
              "            <dl>\n",
              "              <dt>Version</dt>\n",
              "                <dd><code>v3.5.2</code></dd>\n",
              "              <dt>Master</dt>\n",
              "                <dd><code>local[*]</code></dd>\n",
              "              <dt>AppName</dt>\n",
              "                <dd><code>pyspark-shell</code></dd>\n",
              "            </dl>\n",
              "        </div>\n",
              "        \n",
              "            </div>\n",
              "        "
            ]
          },
          "metadata": {},
          "execution_count": 10
        }
      ]
    },
    {
      "cell_type": "code",
      "source": [
        "@timing_decorator\n",
        "def read_json():\n",
        "  df = spark.read.option(\"wholeFile\", True) \\\n",
        "  .json(\"/content/json_dumps/*.json\") \\\n",
        "  .repartition(100)\n",
        "  return df\n",
        "\n",
        "df = read_json().persist()\n",
        "df.show(5)"
      ],
      "metadata": {
        "id": "CuJRPFQBzVnC",
        "outputId": "675b35c2-4c5a-4943-b955-ade5008b4046",
        "colab": {
          "base_uri": "https://localhost:8080/"
        }
      },
      "execution_count": 12,
      "outputs": [
        {
          "output_type": "stream",
          "name": "stdout",
          "text": [
            "Function 'read_json' took 127.0669 seconds to execute.\n",
            "+--------------------+\n",
            "|                Siri|\n",
            "+--------------------+\n",
            "|{1.3, http://www....|\n",
            "|{1.3, http://www....|\n",
            "|{1.3, http://www....|\n",
            "|{1.3, http://www....|\n",
            "|{1.3, http://www....|\n",
            "+--------------------+\n",
            "only showing top 5 rows\n",
            "\n"
          ]
        }
      ]
    }
  ]
}