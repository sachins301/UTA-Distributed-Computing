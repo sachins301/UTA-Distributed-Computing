{
  "nbformat": 4,
  "nbformat_minor": 0,
  "metadata": {
    "colab": {
      "provenance": [],
      "authorship_tag": "ABX9TyOisRd1vqmQ8KWTDn1h6ldR",
      "include_colab_link": true
    },
    "kernelspec": {
      "name": "python3",
      "display_name": "Python 3"
    },
    "language_info": {
      "name": "python"
    }
  },
  "cells": [
    {
      "cell_type": "markdown",
      "metadata": {
        "id": "view-in-github",
        "colab_type": "text"
      },
      "source": [
        "<a href=\"https://colab.research.google.com/github/sachins301/UTA-Distributed-Computing/blob/main/UTA_Spark_Processing.ipynb\" target=\"_parent\"><img src=\"https://colab.research.google.com/assets/colab-badge.svg\" alt=\"Open In Colab\"/></a>"
      ]
    },
    {
      "cell_type": "markdown",
      "source": [
        "Installing Spark and dependencies"
      ],
      "metadata": {
        "id": "hOVGMW4OUefO"
      }
    },
    {
      "cell_type": "code",
      "execution_count": null,
      "metadata": {
        "id": "SEAKx8SJHnJ4"
      },
      "outputs": [],
      "source": [
        "!apt-get install openjdk-8-jdk-headless -qq > /dev/null\n",
        "!wget -q http://archive.apache.org/dist/spark/spark-3.5.2/spark-3.5.2-bin-hadoop3.tgz\n",
        "!tar xf spark-3.5.2-bin-hadoop3.tgz\n",
        "!pip install -q findspark"
      ]
    },
    {
      "cell_type": "code",
      "source": [
        "import os\n",
        "os.environ[\"JAVA_HOME\"] = \"/usr/lib/jvm/java-8-openjdk-amd64\"\n",
        "os.environ[\"SPARK_HOME\"] = \"/content/spark-3.5.2-bin-hadoop3\""
      ],
      "metadata": {
        "id": "EyYko10_U4FR"
      },
      "execution_count": null,
      "outputs": []
    },
    {
      "cell_type": "code",
      "source": [
        "import findspark\n",
        "findspark.init()\n"
      ],
      "metadata": {
        "id": "Xh_EivEKWjaX"
      },
      "execution_count": null,
      "outputs": []
    },
    {
      "cell_type": "code",
      "source": [
        "import json\n",
        "from pyspark.sql import SparkSession\n",
        "from pyspark.sql.types import StructType, StructField, StringType, DoubleType, ArrayType, BooleanType, IntegerType, TimestampType, DecimalType\n",
        "from pyspark.sql.functions import col, explode, input_file_name, regexp_extract, concat, lit\n"
      ],
      "metadata": {
        "id": "md6EahXIr4Ds"
      },
      "execution_count": null,
      "outputs": []
    },
    {
      "cell_type": "code",
      "source": [
        "# spark = SparkSession.builder.master(\"local[*]\").getOrCreate()\n",
        "# spark.conf.set(\"spark.sql.repl.eagerEval.enabled\", True) # Property used to format output tables better\n",
        "# spark"
      ],
      "metadata": {
        "id": "1GECEtoIrkMP",
        "colab": {
          "base_uri": "https://localhost:8080/",
          "height": 219
        },
        "outputId": "a22e82f3-0efb-4c6f-92a9-fedc822548d9"
      },
      "execution_count": null,
      "outputs": [
        {
          "output_type": "execute_result",
          "data": {
            "text/plain": [
              "<pyspark.sql.session.SparkSession at 0x787b8cf28f70>"
            ],
            "text/html": [
              "\n",
              "            <div>\n",
              "                <p><b>SparkSession - in-memory</b></p>\n",
              "                \n",
              "        <div>\n",
              "            <p><b>SparkContext</b></p>\n",
              "\n",
              "            <p><a href=\"http://ea87bca1fd5a:4040\">Spark UI</a></p>\n",
              "\n",
              "            <dl>\n",
              "              <dt>Version</dt>\n",
              "                <dd><code>v3.5.2</code></dd>\n",
              "              <dt>Master</dt>\n",
              "                <dd><code>local[*]</code></dd>\n",
              "              <dt>AppName</dt>\n",
              "                <dd><code>pyspark-shell</code></dd>\n",
              "            </dl>\n",
              "        </div>\n",
              "        \n",
              "            </div>\n",
              "        "
            ]
          },
          "metadata": {},
          "execution_count": 4
        }
      ]
    },
    {
      "cell_type": "code",
      "source": [
        "# Unpack the json dump\n",
        "import shutil\n",
        "shutil.unpack_archive('/content/json_dumps.zip', '/content/json_dumps/')"
      ],
      "metadata": {
        "id": "RYzMbOAGhEol"
      },
      "execution_count": null,
      "outputs": []
    },
    {
      "cell_type": "code",
      "source": [
        "import time\n",
        "def timing_decorator(func):\n",
        "    def wrapper(*args, **kwargs):\n",
        "        start_time = time.time()  # Start time\n",
        "        result = func(*args, **kwargs)\n",
        "        end_time = time.time()  # End time\n",
        "        elapsed_time = end_time - start_time\n",
        "        print(f\"Function '{func.__name__}' took {elapsed_time:.4f} seconds to execute.\")\n",
        "        return result\n",
        "    return wrapper"
      ],
      "metadata": {
        "id": "-j1yVQkPqS0R"
      },
      "execution_count": null,
      "outputs": []
    },
    {
      "cell_type": "code",
      "source": [
        "@timing_decorator\n",
        "# def read_json():\n",
        "#   df = spark.read.json(\"/content/json_dumps/*.json\")\n",
        "#   return df\n",
        "\n",
        "# df = read_json()\n",
        "# df.show(5)"
      ],
      "metadata": {
        "id": "tb0U2okvh86L",
        "outputId": "bf4908c2-8ce1-490e-8fba-f7b085deca4e",
        "colab": {
          "base_uri": "https://localhost:8080/"
        }
      },
      "execution_count": null,
      "outputs": [
        {
          "output_type": "stream",
          "name": "stdout",
          "text": [
            "Function 'read_json' took 144.7838 seconds to execute.\n",
            "+--------------------+\n",
            "|                Siri|\n",
            "+--------------------+\n",
            "|{1.3, http://www....|\n",
            "|{1.3, http://www....|\n",
            "|{1.3, http://www....|\n",
            "|{1.3, http://www....|\n",
            "|{1.3, http://www....|\n",
            "+--------------------+\n",
            "only showing top 5 rows\n",
            "\n"
          ]
        }
      ]
    },
    {
      "cell_type": "code",
      "source": [
        "@timing_decorator\n",
        "# def read_json():\n",
        "#   df = spark.read.json(\"/content/json_dumps/*.json\").repartition(100)\n",
        "#   return df\n",
        "\n",
        "# df = read_json()\n",
        "# df.show(5)\n"
      ],
      "metadata": {
        "id": "2cmfvEhdpCEB",
        "outputId": "c8707e23-9a11-4979-d2b2-9e32b902db4b",
        "colab": {
          "base_uri": "https://localhost:8080/"
        }
      },
      "execution_count": null,
      "outputs": [
        {
          "output_type": "stream",
          "name": "stdout",
          "text": [
            "Function 'read_json' took 144.8710 seconds to execute.\n",
            "+--------------------+\n",
            "|                Siri|\n",
            "+--------------------+\n",
            "|{1.3, http://www....|\n",
            "|{1.3, http://www....|\n",
            "|{1.3, http://www....|\n",
            "|{1.3, http://www....|\n",
            "|{1.3, http://www....|\n",
            "+--------------------+\n",
            "only showing top 5 rows\n",
            "\n"
          ]
        }
      ]
    },
    {
      "cell_type": "code",
      "source": [
        "@timing_decorator\n",
        "# def read_json():\n",
        "#   df = spark.read.option(\"wholeFile\", True).json(\"/content/json_dumps/*.json\").repartition(100)\n",
        "#   return df\n",
        "\n",
        "# df = read_json()\n",
        "# df.show(5)"
      ],
      "metadata": {
        "id": "F2Ygm8iJwDro",
        "outputId": "24e71d50-9dfb-4091-d512-cea3d210cc48",
        "colab": {
          "base_uri": "https://localhost:8080/"
        }
      },
      "execution_count": null,
      "outputs": [
        {
          "output_type": "stream",
          "name": "stdout",
          "text": [
            "Function 'read_json' took 138.6985 seconds to execute.\n",
            "+--------------------+\n",
            "|                Siri|\n",
            "+--------------------+\n",
            "|{1.3, http://www....|\n",
            "|{1.3, http://www....|\n",
            "|{1.3, http://www....|\n",
            "|{1.3, http://www....|\n",
            "|{1.3, http://www....|\n",
            "+--------------------+\n",
            "only showing top 5 rows\n",
            "\n"
          ]
        }
      ]
    },
    {
      "cell_type": "code",
      "source": [
        "@timing_decorator\n",
        "# def read_json():\n",
        "#   df = spark.read \\\n",
        "#             .option(\"wholeFile\", True) \\\n",
        "#             .json(\"/content/json_dumps/*.json\").repartition(100) \\\n",
        "#             .coalesce(10)\n",
        "#   return df\n",
        "\n",
        "# df = read_json()\n",
        "# df.show(5)"
      ],
      "metadata": {
        "id": "BYBHyxVjwNTB"
      },
      "execution_count": null,
      "outputs": []
    },
    {
      "cell_type": "code",
      "source": [
        "# spark.stop()\n",
        "spark = SparkSession.builder \\\n",
        "    .master(\"local[*]\") \\\n",
        "    .config(\"spark.executor.memory\", \"8g\") \\\n",
        "    .config(\"spark.driver.memory\", \"4g\") \\\n",
        "    .config(\"spark.sql.shuffle.partitions\", \"4\") \\\n",
        "    .getOrCreate()\n",
        "spark"
      ],
      "metadata": {
        "id": "xyZ254OqyNvs",
        "outputId": "68587975-15da-436a-86c7-711424ab9e82",
        "colab": {
          "base_uri": "https://localhost:8080/",
          "height": 219
        }
      },
      "execution_count": null,
      "outputs": [
        {
          "output_type": "execute_result",
          "data": {
            "text/plain": [
              "<pyspark.sql.session.SparkSession at 0x7b945c2c4a60>"
            ],
            "text/html": [
              "\n",
              "            <div>\n",
              "                <p><b>SparkSession - in-memory</b></p>\n",
              "                \n",
              "        <div>\n",
              "            <p><b>SparkContext</b></p>\n",
              "\n",
              "            <p><a href=\"http://093d6993bc3a:4040\">Spark UI</a></p>\n",
              "\n",
              "            <dl>\n",
              "              <dt>Version</dt>\n",
              "                <dd><code>v3.5.2</code></dd>\n",
              "              <dt>Master</dt>\n",
              "                <dd><code>local[*]</code></dd>\n",
              "              <dt>AppName</dt>\n",
              "                <dd><code>pyspark-shell</code></dd>\n",
              "            </dl>\n",
              "        </div>\n",
              "        \n",
              "            </div>\n",
              "        "
            ]
          },
          "metadata": {},
          "execution_count": 7
        }
      ]
    },
    {
      "cell_type": "code",
      "source": [
        "# Define the schema for the nested JSON structure\n",
        "schema = StructType([\n",
        "    StructField(\"Siri\", StructType([\n",
        "        StructField(\"@version\", StringType(), True),\n",
        "        StructField(\"@xmlns\", StringType(), True),\n",
        "        StructField(\"ResponseTimestamp\", TimestampType(), True),\n",
        "        StructField(\"VehicleMonitoringDelivery\", StructType([\n",
        "            StructField(\"@version\", StringType(), True),\n",
        "            StructField(\"ResponseTimestamp\", TimestampType(), True),\n",
        "            StructField(\"ValidUntil\", StringType(), True),\n",
        "            StructField(\"VehicleActivity\", StructType([\n",
        "                StructField(\"RecordedAtTime\", TimestampType(), True),\n",
        "                StructField(\"MonitoredVehicleJourney\", ArrayType(StructType([\n",
        "                    StructField(\"LineRef\", StringType(), True),\n",
        "                    StructField(\"DirectionRef\", StringType(), True),\n",
        "                    StructField(\"FramedVehicleJourneyRef\", StructType([\n",
        "                        StructField(\"DataFrameRef\", StringType(), True),\n",
        "                        StructField(\"DatedVehicleJourneyRef\", StringType(), True)\n",
        "                    ]), True),\n",
        "                    StructField(\"PublishedLineName\", StringType(), True),\n",
        "                    StructField(\"OriginRef\", StringType(), True),\n",
        "                    StructField(\"DestinationRef\", StringType(), True),\n",
        "                    StructField(\"Monitored\", StringType(), True),\n",
        "                    StructField(\"VehicleLocation\", StructType([\n",
        "                        StructField(\"Longitude\", DecimalType(17, 14), True),\n",
        "                        StructField(\"Latitude\", DecimalType(17, 14), True)\n",
        "                    ]), True),\n",
        "                    StructField(\"ProgressRate\", StringType(), True),\n",
        "                    StructField(\"CourseOfJourneyRef\", StringType(), True),\n",
        "                    StructField(\"VehicleRef\", StringType(), True),\n",
        "                    StructField(\"MonitoredCall\", StructType([\n",
        "                        StructField(\"StopPointRef\", StringType(), True),\n",
        "                        StructField(\"VisitNumber\", StringType(), True),\n",
        "                        StructField(\"VehicleAtStop\", StringType(), True)\n",
        "                    ]), True),\n",
        "                    StructField(\"Extensions\", StructType([\n",
        "                        StructField(\"LastGPSFix\", TimestampType(), True),\n",
        "                        StructField(\"Scheduled\", StringType(), True),\n",
        "                        StructField(\"Bearing\", DecimalType(5, 2), True),\n",
        "                        StructField(\"Speed\", DecimalType(5, 2), True),\n",
        "                        StructField(\"DestinationName\", StringType(), True)\n",
        "                    ]), True)\n",
        "                ])), True)\n",
        "            ]), True)\n",
        "        ]), True)\n",
        "    ]), True)\n",
        "])"
      ],
      "metadata": {
        "id": "oBQezSWuzjT-"
      },
      "execution_count": null,
      "outputs": []
    },
    {
      "cell_type": "code",
      "source": [
        "@timing_decorator\n",
        "def read_json():\n",
        "    df = spark.read.option(\"wholeFile\", True) \\\n",
        "        .schema(schema) \\\n",
        "        .json(\"/content/json_dumps/*.json\") \\\n",
        "        .withColumn(\"FileId\", input_file_name()) \\\n",
        "        .repartition(100)\n",
        "    return df\n",
        "\n",
        "df = read_json().persist()\n",
        "df.show(5)"
      ],
      "metadata": {
        "id": "CuJRPFQBzVnC",
        "outputId": "edf7557f-aa88-42e0-8fe3-fc654e017fec",
        "colab": {
          "base_uri": "https://localhost:8080/"
        }
      },
      "execution_count": null,
      "outputs": [
        {
          "output_type": "stream",
          "name": "stdout",
          "text": [
            "Function 'read_json' took 87.2871 seconds to execute.\n",
            "+--------------------+--------------------+\n",
            "|                Siri|              FileId|\n",
            "+--------------------+--------------------+\n",
            "|{1.3, http://www....|file:///content/j...|\n",
            "|{1.3, http://www....|file:///content/j...|\n",
            "|{1.3, http://www....|file:///content/j...|\n",
            "|{1.3, http://www....|file:///content/j...|\n",
            "|{1.3, http://www....|file:///content/j...|\n",
            "+--------------------+--------------------+\n",
            "only showing top 5 rows\n",
            "\n"
          ]
        }
      ]
    },
    {
      "cell_type": "code",
      "source": [
        "df.select(\"Siri.VehicleMonitoringDelivery.VehicleActivity.MonitoredVehicleJourney.Extensions\").show(5, False)"
      ],
      "metadata": {
        "colab": {
          "base_uri": "https://localhost:8080/"
        },
        "id": "2autZFX7xre5",
        "outputId": "b9654882-9daf-42c4-ff3d-a7634e0587bf"
      },
      "execution_count": null,
      "outputs": [
        {
          "output_type": "stream",
          "name": "stdout",
          "text": [
            "+------------------------------------------------------------------------------------------------------------------------------------------------------------------------------------------------------------------------------------------------------------------------------------------------------------------------------------------------------------------------------------------------------------------------------------------------------------------------------------------------------------------------------------------------------------------------------------------------------------------------------------------------------------------------------------------------------------------------------------------------------------------------------------------------------------------------------------------------------------------------------------------------------------------------------------------------------------------------------------------------------------------------------------+\n",
            "|Extensions                                                                                                                                                                                                                                                                                                                                                                                                                                                                                                                                                                                                                                                                                                                                                                                                                                                                                                                                                                                                                          |\n",
            "+------------------------------------------------------------------------------------------------------------------------------------------------------------------------------------------------------------------------------------------------------------------------------------------------------------------------------------------------------------------------------------------------------------------------------------------------------------------------------------------------------------------------------------------------------------------------------------------------------------------------------------------------------------------------------------------------------------------------------------------------------------------------------------------------------------------------------------------------------------------------------------------------------------------------------------------------------------------------------------------------------------------------------------+\n",
            "|[{2024-08-13 11:01:10.397, False, 128.80, 0.00, Ogden via Weber State}, {2024-08-13 11:01:09.693, False, 154.40, 36.37, U of U (Research Park)}, {2024-08-13 11:01:03.497, False, 155.60, 38.90, U of U (Research Park)}, {2024-08-13 11:01:03.047, False, 265.60, 0.00, Ogden via Weber State}, {2024-08-13 11:01:07.393, False, 0.10, 5.75, Ogden via Weber State}, {2024-08-13 11:01:09.35, False, 21.00, 34.64, Ogden via Weber State}, {2024-08-13 11:01:06.817, False, 266.90, 18.30, Ogden via Weber State}, {2024-08-13 11:01:03.62, False, 53.30, 25.66, U of U (Research Park)}, {2024-08-13 11:01:07.177, False, 130.90, 0.12, Ogden via Weber State}, {2024-08-13 11:01:07.033, False, 138.50, 18.99, U of U (Research Park)}, {2024-08-13 11:01:01.64, False, 88.70, 0.00, U of U (Research Park)}, {2024-08-13 11:01:03.73, False, 180.40, 35.56, U of U (Research Park)}, {2024-08-13 11:01:07.69, False, 282.30, 27.39, Ogden via Weber State}, {2024-08-13 11:01:09.757, False, 4.00, 0.12, Ogden via Weber State}]|\n",
            "|[{2024-08-13 11:16:00.553, False, 346.20, 0.00, Ogden via Weber State}, {2024-08-13 11:16:00.21, False, 148.30, 0.00, U of U (Research Park)}, {2024-08-13 11:16:02.557, False, 90.50, 19.91, U of U (Research Park)}, {2024-08-13 11:16:03.443, False, 142.60, 64.33, Ogden via Weber State}, {2024-08-13 11:15:57.73, False, 2.50, 0.00, U of U (Research Park)}, {2024-08-13 11:15:59.583, False, 353.50, 9.32, Ogden via Weber State}, {2024-08-13 11:15:57.29, False, 52.20, 0.00, Ogden via Weber State}, {2024-08-13 11:16:03.71, False, 270.10, 0.12, U of U (Research Park)}, {2024-08-13 11:15:57.51, False, 130.90, 0.00, Ogden via Weber State}, {2024-08-13 11:15:57.29, False, 88.20, 18.18, U of U (Research Park)}, {2024-08-13 11:16:01.79, False, 210.20, 26.24, U of U (Research Park)}, {2024-08-13 11:16:03.443, False, 180.30, 33.37, U of U (Research Park)}, {2024-08-13 11:15:57.947, False, 1.10, 24.05, Ogden via Weber State}, {2024-08-13 11:16:00.023, False, 331.40, 16.80, Ogden via Weber State}]  |\n",
            "|[{2024-08-13 11:18:01.413, False, 236.70, 0.12, Ogden via Weber State}, {2024-08-13 11:18:00.267, False, 148.30, 0.00, U of U (Research Park)}, {2024-08-13 11:17:52.59, False, 90.20, 40.39, U of U (Research Park)}, {2024-08-13 11:17:53.3, False, 160.50, 64.44, Ogden via Weber State}, {2024-08-13 11:17:57.707, False, 2.50, 0.00, U of U (Research Park)}, {2024-08-13 11:17:59.547, False, 355.20, 39.70, Ogden via Weber State}, {2024-08-13 11:17:57.253, False, 48.20, 8.75, Ogden via Weber State}, {2024-08-13 11:17:53.753, False, 95.60, 5.52, U of U (Research Park)}, {2024-08-13 11:17:57.473, False, 130.90, 0.00, Ogden via Weber State}, {2024-08-13 11:17:47.25, False, 178.20, 31.07, U of U (Research Park)}, {2024-08-13 11:17:51.887, False, 233.40, 19.79, U of U (Research Park)}, {2024-08-13 11:17:53.44, False, 181.20, 0.00, U of U (Research Park)}, {2024-08-13 11:17:58.067, False, 1.00, 18.18, Ogden via Weber State}, {2024-08-13 11:18:01.193, False, 39.10, 12.31, Ogden via Weber State}] |\n",
            "|[{2024-08-13 10:57:50.19, False, 128.80, 0.00, Ogden via Weber State}, {2024-08-13 10:57:49.63, False, 215.80, 27.62, U of U (Research Park)}, {2024-08-13 10:57:52.243, False, 198.60, 63.75, U of U (Research Park)}, {2024-08-13 10:57:52.9, False, 91.70, 1.04, Ogden via Weber State}, {2024-08-13 10:57:47.383, False, 1.60, 0.00, Ogden via Weber State}, {2024-08-13 10:57:49.19, False, 330.70, 38.09, Ogden via Weber State}, {2024-08-13 10:57:47.007, False, 359.60, 24.97, Ogden via Weber State}, {2024-08-13 10:57:53.513, False, 149.10, 0.00, U of U (Research Park)}, {2024-08-13 10:57:57.057, False, 130.90, 0.00, Ogden via Weber State}, {2024-08-13 10:57:56.853, False, 181.00, 34.41, U of U (Research Park)}, {2024-08-13 10:57:51.553, False, 180.20, 34.41, U of U (Research Park)}, {2024-08-13 10:57:53.01, False, 93.10, 2.19, U of U (Research Park)}, {2024-08-13 10:57:47.68, False, 183.60, 21.17, Ogden via Weber State}, {2024-08-13 10:57:49.677, False, 0.40, 29.69, Ogden via Weber State}] |\n",
            "|[{2024-08-13 10:56:10.3, False, 128.80, 0.00, Ogden via Weber State}, {2024-08-13 10:56:09.597, False, 151.70, 28.54, U of U (Research Park)}, {2024-08-13 10:56:12.317, False, 201.00, 20.71, U of U (Research Park)}, {2024-08-13 10:56:12.957, False, 73.90, 8.63, Ogden via Weber State}, {2024-08-13 10:56:07.327, False, 1.20, 0.00, Ogden via Weber State}, {2024-08-13 10:56:09.267, False, 358.90, 32.34, Ogden via Weber State}, {2024-08-13 10:56:06.73, False, 1.60, 5.29, Ogden via Weber State}, {2024-08-13 10:56:13.687, False, 213.10, 1.73, U of U (Research Park)}, {2024-08-13 10:56:07.06, False, 130.90, 0.00, Ogden via Weber State}, {2024-08-13 10:56:06.857, False, 161.70, 18.18, U of U (Research Park)}, {2024-08-13 10:56:11.66, False, 165.60, 34.75, U of U (Research Park)}, {2024-08-13 10:56:12.987, False, 1.20, 0.00, U of U (Research Park)}, {2024-08-13 10:56:07.577, False, 205.90, 9.44, Ogden via Weber State}, {2024-08-13 10:56:09.72, False, 291.20, 23.25, Ogden via Weber State}]   |\n",
            "+------------------------------------------------------------------------------------------------------------------------------------------------------------------------------------------------------------------------------------------------------------------------------------------------------------------------------------------------------------------------------------------------------------------------------------------------------------------------------------------------------------------------------------------------------------------------------------------------------------------------------------------------------------------------------------------------------------------------------------------------------------------------------------------------------------------------------------------------------------------------------------------------------------------------------------------------------------------------------------------------------------------------------------+\n",
            "only showing top 5 rows\n",
            "\n"
          ]
        }
      ]
    },
    {
      "cell_type": "code",
      "source": [
        "flattened_df = df.select(\n",
        "    \"FileId\",\n",
        "    col(\"Siri.@version\").alias(\"Siri_version\"),\n",
        "    col(\"Siri.@xmlns\").alias(\"Siri_xmlns\"),\n",
        "    col(\"Siri.ResponseTimestamp\").alias(\"Siri_ResponseTimestamp\"),\n",
        "    col(\"Siri.VehicleMonitoringDelivery.@version\").alias(\"VehicleMonitoringDelivery_version\"),\n",
        "    col(\"Siri.VehicleMonitoringDelivery.ResponseTimestamp\").alias(\"VehicleMonitoringDelivery_ResponseTimestamp\"),\n",
        "    col(\"Siri.VehicleMonitoringDelivery.ValidUntil\").alias(\"VehicleMonitoringDelivery_ValidUntil\"),\n",
        "    col(\"Siri.VehicleMonitoringDelivery.VehicleActivity.RecordedAtTime\").alias(\"RecordedAtTime\"),\n",
        "    explode(\"Siri.VehicleMonitoringDelivery.VehicleActivity.MonitoredVehicleJourney\").alias(\"MonitoredVehicleJourney\")\n",
        ")"
      ],
      "metadata": {
        "id": "ms5qPw71oyMr"
      },
      "execution_count": null,
      "outputs": []
    },
    {
      "cell_type": "code",
      "source": [
        "flattened_df = flattened_df.select(\n",
        "    \"FileId\",\n",
        "    \"Siri_version\", \"Siri_xmlns\", \"Siri_ResponseTimestamp\",\n",
        "    \"VehicleMonitoringDelivery_version\", \"VehicleMonitoringDelivery_ResponseTimestamp\",\n",
        "    \"VehicleMonitoringDelivery_ValidUntil\", \"RecordedAtTime\",\n",
        "    col(\"MonitoredVehicleJourney.LineRef\").alias(\"LineRef\"),\n",
        "    col(\"MonitoredVehicleJourney.DirectionRef\").alias(\"DirectionRef\"),\n",
        "    col(\"MonitoredVehicleJourney.FramedVehicleJourneyRef.DataFrameRef\").alias(\"DataFrameRef\"),\n",
        "    col(\"MonitoredVehicleJourney.FramedVehicleJourneyRef.DatedVehicleJourneyRef\").alias(\"DatedVehicleJourneyRef\"),\n",
        "    col(\"MonitoredVehicleJourney.PublishedLineName\").alias(\"PublishedLineName\"),\n",
        "    col(\"MonitoredVehicleJourney.OriginRef\").alias(\"OriginRef\"),\n",
        "    col(\"MonitoredVehicleJourney.DestinationRef\").alias(\"DestinationRef\"),\n",
        "    col(\"MonitoredVehicleJourney.Monitored\").alias(\"Monitored\"),\n",
        "    col(\"MonitoredVehicleJourney.VehicleLocation.Longitude\").alias(\"VehicleLocation_Longitude\"),\n",
        "    col(\"MonitoredVehicleJourney.VehicleLocation.Latitude\").alias(\"VehicleLocation_Latitude\"),\n",
        "    col(\"MonitoredVehicleJourney.ProgressRate\").alias(\"ProgressRate\"),\n",
        "    col(\"MonitoredVehicleJourney.CourseOfJourneyRef\").alias(\"CourseOfJourneyRef\"),\n",
        "    col(\"MonitoredVehicleJourney.VehicleRef\").alias(\"VehicleRef\"),\n",
        "    col(\"MonitoredVehicleJourney.MonitoredCall.StopPointRef\").alias(\"MonitoredCall_StopPointRef\"),\n",
        "    col(\"MonitoredVehicleJourney.MonitoredCall.VisitNumber\").alias(\"MonitoredCall_VisitNumber\"),\n",
        "    col(\"MonitoredVehicleJourney.MonitoredCall.VehicleAtStop\").alias(\"MonitoredCall_VehicleAtStop\"),\n",
        "    col(\"MonitoredVehicleJourney.Extensions.LastGPSFix\").alias(\"Extensions_LastGPSFix\"),\n",
        "    col(\"MonitoredVehicleJourney.Extensions.Scheduled\").alias(\"Extensions_Scheduled\"),\n",
        "    col(\"MonitoredVehicleJourney.Extensions.Bearing\").alias(\"Extensions_Bearing\"),\n",
        "    col(\"MonitoredVehicleJourney.Extensions.Speed\").alias(\"Extensions_Speed\"),\n",
        "    col(\"MonitoredVehicleJourney.Extensions.DestinationName\").alias(\"Extensions_DestinationName\")\n",
        ")"
      ],
      "metadata": {
        "id": "-lNGx1Pbo3uo"
      },
      "execution_count": null,
      "outputs": []
    },
    {
      "cell_type": "code",
      "source": [
        "flattened_df = flattened_df.withColumn(\"FileId\", regexp_extract(\"FileId\", r\"([^/]+)(?=\\.json$)\", 1))\n",
        "flattened_df.show(5)"
      ],
      "metadata": {
        "colab": {
          "base_uri": "https://localhost:8080/"
        },
        "id": "kovEhPZXs8Oq",
        "outputId": "fa930b18-eb5f-4401-99bf-1c42ebeff005"
      },
      "execution_count": null,
      "outputs": [
        {
          "output_type": "stream",
          "name": "stdout",
          "text": [
            "+--------------+------------+--------------------+----------------------+---------------------------------+-------------------------------------------+------------------------------------+--------------------+-------+--------------+--------------------+----------------------+--------------------+---------+--------------+---------+-------------------------+------------------------+------------+------------------+----------+--------------------------+-------------------------+---------------------------+---------------------+--------------------+------------------+----------------+--------------------------+\n",
            "|        FileId|Siri_version|          Siri_xmlns|Siri_ResponseTimestamp|VehicleMonitoringDelivery_version|VehicleMonitoringDelivery_ResponseTimestamp|VehicleMonitoringDelivery_ValidUntil|      RecordedAtTime|LineRef|  DirectionRef|        DataFrameRef|DatedVehicleJourneyRef|   PublishedLineName|OriginRef|DestinationRef|Monitored|VehicleLocation_Longitude|VehicleLocation_Latitude|ProgressRate|CourseOfJourneyRef|VehicleRef|MonitoredCall_StopPointRef|MonitoredCall_VisitNumber|MonitoredCall_VehicleAtStop|Extensions_LastGPSFix|Extensions_Scheduled|Extensions_Bearing|Extensions_Speed|Extensions_DestinationName|\n",
            "+--------------+------------+--------------------+----------------------+---------------------------------+-------------------------------------------+------------------------------------+--------------------+-------+--------------+--------------------+----------------------+--------------------+---------+--------------+---------+-------------------------+------------------------+------------+------------------+----------+--------------------------+-------------------------+---------------------------+---------------------+--------------------+------------------+----------------+--------------------------+\n",
            "|455-1723568479|         1.3|http://www.siri.o...|  2024-08-13 17:01:...|                              1.3|                       2024-08-13 17:01:...|                2024-08-13T11:01:...|2024-08-13 17:01:...|    455| OGDEN VIA WSU|2024-08-13T00:00:...|               5319029|U OF U/DAVIS COUN...|   127027|        623423|     True|      -111.83105200000000|       40.75620800000000|           1|              5641|     10008|                      NULL|                     NULL|                       NULL| 2024-08-13 11:01:...|               False|            128.80|            0.00|      Ogden via Weber S...|\n",
            "|455-1723568479|         1.3|http://www.siri.o...|  2024-08-13 17:01:...|                              1.3|                       2024-08-13 17:01:...|                2024-08-13T11:01:...|2024-08-13 17:01:...|    455|U OF U VIA SLC|2024-08-13T00:00:...|               5319056|U OF U/DAVIS COUN...|   623202|        127027|     True|      -111.90835683333333|       41.00868500000000|           1|             31806|     14006|                      NULL|                     NULL|                       NULL| 2024-08-13 11:01:...|               False|            154.40|           36.37|      U of U (Research ...|\n",
            "|455-1723568479|         1.3|http://www.siri.o...|  2024-08-13 17:01:...|                              1.3|                       2024-08-13 17:01:...|                2024-08-13T11:01:...|2024-08-13 17:01:...|    455|U OF U VIA SLC|2024-08-13T00:00:...|               5319054|U OF U/DAVIS COUN...|   623202|        127027|     True|      -111.90258616666667|       40.79240216666667|           1|             32329|     14008|                      NULL|                     NULL|                       NULL| 2024-08-13 11:01:...|               False|            155.60|           38.90|      U of U (Research ...|\n",
            "|455-1723568479|         1.3|http://www.siri.o...|  2024-08-13 17:01:...|                              1.3|                       2024-08-13 17:01:...|                2024-08-13T11:01:...|2024-08-13 17:01:...|    455| OGDEN VIA WSU|2024-08-13T00:00:...|               5319032|U OF U/DAVIS COUN...|   127027|        623423|     True|      -112.00612616666666|       41.22937016666667|           1|             32609|     14011|                      NULL|                     NULL|                       NULL| 2024-08-13 11:01:...|               False|            265.60|            0.00|      Ogden via Weber S...|\n",
            "|455-1723568479|         1.3|http://www.siri.o...|  2024-08-13 17:01:...|                              1.3|                       2024-08-13 17:01:...|                2024-08-13T11:01:...|2024-08-13 17:01:...|    455| OGDEN VIA WSU|2024-08-13T00:00:...|               5319024|U OF U/DAVIS COUN...|   127027|        623423|     True|      -111.97865266666666|       41.22915383333334|           1|             32762|     14012|                      NULL|                     NULL|                       NULL| 2024-08-13 11:01:...|               False|              0.10|            5.75|      Ogden via Weber S...|\n",
            "+--------------+------------+--------------------+----------------------+---------------------------------+-------------------------------------------+------------------------------------+--------------------+-------+--------------+--------------------+----------------------+--------------------+---------+--------------+---------+-------------------------+------------------------+------------+------------------+----------+--------------------------+-------------------------+---------------------------+---------------------+--------------------+------------------+----------------+--------------------------+\n",
            "only showing top 5 rows\n",
            "\n"
          ]
        }
      ]
    },
    {
      "cell_type": "markdown",
      "source": [
        "## Exploratory Data Analysis"
      ],
      "metadata": {
        "id": "ZWAEBgwuOUab"
      }
    },
    {
      "cell_type": "code",
      "source": [
        "testdf = flattened_df.filter(col(\"FileId\") == \"455-1723569052\")\n",
        "testdf.withColumn(\"Lat_Long\", concat(\"VehicleLocation_Latitude\", lit(\", \"), \"VehicleLocation_Longitude\") ).show(100, False)"
      ],
      "metadata": {
        "colab": {
          "base_uri": "https://localhost:8080/"
        },
        "id": "sNtBsPBM0tWc",
        "outputId": "716f8e0f-e44b-448a-99d8-8d17b450e06e"
      },
      "execution_count": null,
      "outputs": [
        {
          "output_type": "stream",
          "name": "stdout",
          "text": [
            "+--------------+------------+---------------------------+--------------------------+---------------------------------+-------------------------------------------+------------------------------------+--------------------------+-------+--------------+-------------------------+----------------------+-----------------------+---------+--------------+---------+-------------------------+------------------------+------------+------------------+----------+--------------------------+-------------------------+---------------------------+-----------------------+--------------------+------------------+----------------+--------------------------+--------------------------------------+\n",
            "|FileId        |Siri_version|Siri_xmlns                 |Siri_ResponseTimestamp    |VehicleMonitoringDelivery_version|VehicleMonitoringDelivery_ResponseTimestamp|VehicleMonitoringDelivery_ValidUntil|RecordedAtTime            |LineRef|DirectionRef  |DataFrameRef             |DatedVehicleJourneyRef|PublishedLineName      |OriginRef|DestinationRef|Monitored|VehicleLocation_Longitude|VehicleLocation_Latitude|ProgressRate|CourseOfJourneyRef|VehicleRef|MonitoredCall_StopPointRef|MonitoredCall_VisitNumber|MonitoredCall_VehicleAtStop|Extensions_LastGPSFix  |Extensions_Scheduled|Extensions_Bearing|Extensions_Speed|Extensions_DestinationName|Lat_Long                              |\n",
            "+--------------+------------+---------------------------+--------------------------+---------------------------------+-------------------------------------------+------------------------------------+--------------------------+-------+--------------+-------------------------+----------------------+-----------------------+---------+--------------+---------+-------------------------+------------------------+------------+------------------+----------+--------------------------+-------------------------+---------------------------+-----------------------+--------------------+------------------+----------------+--------------------------+--------------------------------------+\n",
            "|455-1723569052|1.3         |http://www.siri.org.uk/siri|2024-08-13 17:10:52.824406|1.3                              |2024-08-13 17:10:52.824406                 |2024-08-13T11:11:02.8244066-06:00   |2024-08-13 17:10:52.824406|455    |OGDEN VIA WSU |2024-08-13T00:00:00-06:00|5319029               |U OF U/DAVIS COUNTY/WSU|127027   |623423        |True     |-111.82733033333334      |40.75607650000000       |1           |5641              |10008     |NULL                      |NULL                     |NULL                       |2024-08-13 11:10:40.773|False               |121.90            |10.82           |Ogden via Weber State     |40.75607650000000, -111.82733033333334|\n",
            "|455-1723569052|1.3         |http://www.siri.org.uk/siri|2024-08-13 17:10:52.824406|1.3                              |2024-08-13 17:10:52.824406                 |2024-08-13T11:11:02.8244066-06:00   |2024-08-13 17:10:52.824406|455    |U OF U VIA SLC|2024-08-13T00:00:00-06:00|5319056               |U OF U/DAVIS COUNTY/WSU|623202   |127027        |True     |-111.89228133333333      |40.98053150000000       |1           |31806             |14006     |NULL                      |NULL                     |NULL                       |2024-08-13 11:10:39.913|False               |266.40            |24.05           |U of U (Research Park)    |40.98053150000000, -111.89228133333333|\n",
            "|455-1723569052|1.3         |http://www.siri.org.uk/siri|2024-08-13 17:10:52.824406|1.3                              |2024-08-13 17:10:52.824406                 |2024-08-13T11:11:02.8244066-06:00   |2024-08-13 17:10:52.824406|455    |U OF U VIA SLC|2024-08-13T00:00:00-06:00|5319054               |U OF U/DAVIS COUNTY/WSU|623202   |127027        |True     |-111.88829316666667      |40.76385583333333       |1           |32329             |14008     |NULL                      |NULL                     |NULL                       |2024-08-13 11:10:42.4  |False               |179.80            |0.12            |U of U (Research Park)    |40.76385583333333, -111.88829316666667|\n",
            "|455-1723569052|1.3         |http://www.siri.org.uk/siri|2024-08-13 17:10:52.824406|1.3                              |2024-08-13 17:10:52.824406                 |2024-08-13T11:11:02.8244066-06:00   |2024-08-13 17:10:52.824406|455    |OGDEN VIA WSU |2024-08-13T00:00:00-06:00|5319032               |U OF U/DAVIS COUNTY/WSU|127027   |623423        |True     |-112.01267983333334      |41.11279583333334       |1           |32609             |14011     |NULL                      |NULL                     |NULL                       |2024-08-13 11:10:43.17 |False               |145.40            |64.44           |Ogden via Weber State     |41.11279583333334, -112.01267983333334|\n",
            "|455-1723569052|1.3         |http://www.siri.org.uk/siri|2024-08-13 17:10:52.824406|1.3                              |2024-08-13 17:10:52.824406                 |2024-08-13T11:11:02.8244066-06:00   |2024-08-13 17:10:52.824406|455    |U OF U VIA SLC|2024-08-13T00:00:00-06:00|5319059               |U OF U/DAVIS COUNTY/WSU|623202   |127027        |True     |-111.97891566666667      |41.23566050000000       |1           |32762             |14012     |NULL                      |NULL                     |NULL                       |2024-08-13 11:10:37.617|False               |2.50              |0.00            |U of U (Research Park)    |41.23566050000000, -111.97891566666667|\n",
            "|455-1723569052|1.3         |http://www.siri.org.uk/siri|2024-08-13 17:10:52.824406|1.3                              |2024-08-13 17:10:52.824406                 |2024-08-13T11:11:02.8244066-06:00   |2024-08-13 17:10:52.824406|455    |OGDEN VIA WSU |2024-08-13T00:00:00-06:00|5319026               |U OF U/DAVIS COUNTY/WSU|127027   |623423        |True     |-111.90948333333333      |41.04406050000000       |1           |32764             |14015     |NULL                      |NULL                     |NULL                       |2024-08-13 11:10:39.49 |False               |9.20              |26.93           |Ogden via Weber State     |41.04406050000000, -111.90948333333333|\n",
            "|455-1723569052|1.3         |http://www.siri.org.uk/siri|2024-08-13 17:10:52.824406|1.3                              |2024-08-13 17:10:52.824406                 |2024-08-13T11:11:02.8244066-06:00   |2024-08-13 17:10:52.824406|455    |OGDEN VIA WSU |2024-08-13T00:00:00-06:00|5319028               |U OF U/DAVIS COUNTY/WSU|127027   |623423        |True     |-111.91209483333333      |40.83714516666667       |1           |32792             |14016     |NULL                      |NULL                     |NULL                       |2024-08-13 11:10:37.413|False               |83.10             |10.70           |Ogden via Weber State     |40.83714516666667, -111.91209483333333|\n",
            "|455-1723569052|1.3         |http://www.siri.org.uk/siri|2024-08-13 17:10:52.824406|1.3                              |2024-08-13 17:10:52.824406                 |2024-08-13T11:11:02.8244066-06:00   |2024-08-13 17:10:52.824406|455    |U OF U VIA SLC|2024-08-13T00:00:00-06:00|5319053               |U OF U/DAVIS COUNTY/WSU|623202   |127027        |True     |-111.87364900000000      |40.76080350000000       |1           |36805             |15008     |NULL                      |NULL                     |NULL                       |2024-08-13 11:10:43.65 |False               |270.30            |25.55           |U of U (Research Park)    |40.76080350000000, -111.87364900000000|\n",
            "|455-1723569052|1.3         |http://www.siri.org.uk/siri|2024-08-13 17:10:52.824406|1.3                              |2024-08-13 17:10:52.824406                 |2024-08-13T11:11:02.8244066-06:00   |2024-08-13 17:10:52.824406|455    |OGDEN VIA WSU |2024-08-13T00:00:00-06:00|5319030               |U OF U/DAVIS COUNTY/WSU|127027   |623423        |True     |-111.83088433333333      |40.75609916666667       |1           |57342             |17007     |NULL                      |NULL                     |NULL                       |2024-08-13 11:10:37.413|False               |130.90            |0.00            |Ogden via Weber State     |40.75609916666667, -111.83088433333333|\n",
            "|455-1723569052|1.3         |http://www.siri.org.uk/siri|2024-08-13 17:10:52.824406|1.3                              |2024-08-13 17:10:52.824406                 |2024-08-13T11:11:02.8244066-06:00   |2024-08-13 17:10:52.824406|455    |U OF U VIA SLC|2024-08-13T00:00:00-06:00|5319057               |U OF U/DAVIS COUNTY/WSU|623202   |127027        |True     |-111.90902800000000      |41.11483066666667       |1           |57570             |17011     |NULL                      |NULL                     |NULL                       |2024-08-13 11:10:37.24 |False               |183.60            |48.79           |U of U (Research Park)    |41.11483066666667, -111.90902800000000|\n",
            "|455-1723569052|1.3         |http://www.siri.org.uk/siri|2024-08-13 17:10:52.824406|1.3                              |2024-08-13 17:10:52.824406                 |2024-08-13T11:11:02.8244066-06:00   |2024-08-13 17:10:52.824406|455    |U OF U VIA SLC|2024-08-13T00:00:00-06:00|5319055               |U OF U/DAVIS COUNTY/WSU|623202   |127027        |True     |-111.86800033333333      |40.88656616666667       |1           |65206             |18004     |NULL                      |NULL                     |NULL                       |2024-08-13 11:10:41.76 |False               |131.50            |4.60            |U of U (Research Park)    |40.88656616666667, -111.86800033333333|\n",
            "|455-1723569052|1.3         |http://www.siri.org.uk/siri|2024-08-13 17:10:52.824406|1.3                              |2024-08-13 17:10:52.824406                 |2024-08-13T11:11:02.8244066-06:00   |2024-08-13 17:10:52.824406|455    |U OF U VIA SLC|2024-08-13T00:00:00-06:00|5319058               |U OF U/DAVIS COUNTY/WSU|623202   |127027        |True     |-111.97068433333334      |41.21214466666667       |1           |62679             |18016     |NULL                      |NULL                     |NULL                       |2024-08-13 11:10:43.29 |False               |180.70            |23.94           |U of U (Research Park)    |41.21214466666667, -111.97068433333334|\n",
            "|455-1723569052|1.3         |http://www.siri.org.uk/siri|2024-08-13 17:10:52.824406|1.3                              |2024-08-13 17:10:52.824406                 |2024-08-13T11:11:02.8244066-06:00   |2024-08-13 17:10:52.824406|455    |OGDEN VIA WSU |2024-08-13T00:00:00-06:00|5319025               |U OF U/DAVIS COUNTY/WSU|127027   |623423        |True     |-111.94781483333334      |41.19309733333333       |1           |397019            |21077     |NULL                      |NULL                     |NULL                       |2024-08-13 11:10:37.9  |False               |30.60             |16.34           |Ogden via Weber State     |41.19309733333333, -111.94781483333334|\n",
            "|455-1723569052|1.3         |http://www.siri.org.uk/siri|2024-08-13 17:10:52.824406|1.3                              |2024-08-13 17:10:52.824406                 |2024-08-13T11:11:02.8244066-06:00   |2024-08-13 17:10:52.824406|455    |OGDEN VIA WSU |2024-08-13T00:00:00-06:00|5319027               |U OF U/DAVIS COUNTY/WSU|127027   |623423        |True     |-111.88589866666666      |40.98052850000000       |1           |393741            |21080     |NULL                      |NULL                     |NULL                       |2024-08-13 11:10:40.413|False               |276.20            |23.82           |Ogden via Weber State     |40.98052850000000, -111.88589866666666|\n",
            "+--------------+------------+---------------------------+--------------------------+---------------------------------+-------------------------------------------+------------------------------------+--------------------------+-------+--------------+-------------------------+----------------------+-----------------------+---------+--------------+---------+-------------------------+------------------------+------------+------------------+----------+--------------------------+-------------------------+---------------------------+-----------------------+--------------------+------------------+----------------+--------------------------+--------------------------------------+\n",
            "\n"
          ]
        }
      ]
    },
    {
      "cell_type": "code",
      "source": [
        "# Check if there are duplicates. Identify if there are duplicates for columns DatedVehicleJourneyRef, VehicleRef\n",
        "testdf.groupBy(\"VehicleRef\")\\\n",
        "    .count()\\\n",
        "    .filter(col(\"count\") > 1)\\\n",
        "    .show()\n"
      ],
      "metadata": {
        "id": "P_3FZIHfOfzq",
        "outputId": "4060ed85-9ad4-4a2a-b4b4-dfd37888ddbd",
        "colab": {
          "base_uri": "https://localhost:8080/"
        }
      },
      "execution_count": null,
      "outputs": [
        {
          "output_type": "stream",
          "name": "stdout",
          "text": [
            "+----------+-----+\n",
            "|VehicleRef|count|\n",
            "+----------+-----+\n",
            "+----------+-----+\n",
            "\n"
          ]
        }
      ]
    },
    {
      "cell_type": "code",
      "source": [
        "\n",
        "flattened_df.filter(col(\"VehicleRef\") == \"14008\").orderBy(\"Siri_ResponseTimestamp\").show(25, False)\n",
        "# flattened_df.filter(col(\"Extensions_Scheduled\") != False).show(5)"
      ],
      "metadata": {
        "id": "I13fBpPsQyOd",
        "outputId": "44d329db-ad92-461f-82ea-3c1c68245468",
        "colab": {
          "base_uri": "https://localhost:8080/"
        }
      },
      "execution_count": null,
      "outputs": [
        {
          "output_type": "stream",
          "name": "stdout",
          "text": [
            "+--------------+------------+---------------------------+--------------------------+---------------------------------+-------------------------------------------+------------------------------------+--------------------------+-------+--------------+-------------------------+----------------------+-----------------------+---------+--------------+---------+-------------------------+------------------------+------------+------------------+----------+--------------------------+-------------------------+---------------------------+-----------------------+--------------------+------------------+----------------+--------------------------+\n",
            "|FileId        |Siri_version|Siri_xmlns                 |Siri_ResponseTimestamp    |VehicleMonitoringDelivery_version|VehicleMonitoringDelivery_ResponseTimestamp|VehicleMonitoringDelivery_ValidUntil|RecordedAtTime            |LineRef|DirectionRef  |DataFrameRef             |DatedVehicleJourneyRef|PublishedLineName      |OriginRef|DestinationRef|Monitored|VehicleLocation_Longitude|VehicleLocation_Latitude|ProgressRate|CourseOfJourneyRef|VehicleRef|MonitoredCall_StopPointRef|MonitoredCall_VisitNumber|MonitoredCall_VehicleAtStop|Extensions_LastGPSFix  |Extensions_Scheduled|Extensions_Bearing|Extensions_Speed|Extensions_DestinationName|\n",
            "+--------------+------------+---------------------------+--------------------------+---------------------------------+-------------------------------------------+------------------------------------+--------------------------+-------+--------------+-------------------------+----------------------+-----------------------+---------+--------------+---------+-------------------------+------------------------+------------+------------------+----------+--------------------------+-------------------------+---------------------------+-----------------------+--------------------+------------------+----------------+--------------------------+\n",
            "|455-1723562084|1.3         |http://www.siri.org.uk/siri|2024-08-13 15:14:44.244408|1.3                              |2024-08-13 15:14:44.244408                 |2024-08-13T09:14:54.2444084-06:00   |2024-08-13 15:14:44.244408|455    |U OF U VIA SLC|2024-08-13T00:00:00-06:00|5319054               |U OF U/DAVIS COUNTY/WSU|623202   |127027        |True     |-111.97939050000000      |41.22283850000000       |1           |32329             |14008     |NULL                      |NULL                     |NULL                       |2024-08-13 09:14:40.983|False               |288.30            |15.42           |U of U (Research Park)    |\n",
            "|455-1723562090|1.3         |http://www.siri.org.uk/siri|2024-08-13 15:14:50.258744|1.3                              |2024-08-13 15:14:50.258744                 |2024-08-13T09:15:00.2587443-06:00   |2024-08-13 15:14:50.258744|455    |U OF U VIA SLC|2024-08-13T00:00:00-06:00|5319054               |U OF U/DAVIS COUNTY/WSU|623202   |127027        |True     |-111.97939050000000      |41.22283850000000       |1           |32329             |14008     |NULL                      |NULL                     |NULL                       |2024-08-13 09:14:40.983|False               |288.30            |15.42           |U of U (Research Park)    |\n",
            "|455-1723562096|1.3         |http://www.siri.org.uk/siri|2024-08-13 15:14:56.244238|1.3                              |2024-08-13 15:14:56.244238                 |2024-08-13T09:15:06.2442388-06:00   |2024-08-13 15:14:56.244238|455    |U OF U VIA SLC|2024-08-13T00:00:00-06:00|5319054               |U OF U/DAVIS COUNTY/WSU|623202   |127027        |True     |-111.97983316666667      |41.22322533333333       |1           |32329             |14008     |NULL                      |NULL                     |NULL                       |2024-08-13 09:14:51.093|False               |350.80            |18.87           |U of U (Research Park)    |\n",
            "|455-1723562101|1.3         |http://www.siri.org.uk/siri|2024-08-13 15:15:01.965228|1.3                              |2024-08-13 15:15:01.965228                 |2024-08-13T09:15:11.9652285-06:00   |2024-08-13 15:15:01.965228|455    |U OF U VIA SLC|2024-08-13T00:00:00-06:00|5319054               |U OF U/DAVIS COUNTY/WSU|623202   |127027        |True     |-111.97983316666667      |41.22322533333333       |1           |32329             |14008     |NULL                      |NULL                     |NULL                       |2024-08-13 09:14:51.093|False               |350.80            |18.87           |U of U (Research Park)    |\n",
            "|455-1723562107|1.3         |http://www.siri.org.uk/siri|2024-08-13 15:15:07.671052|1.3                              |2024-08-13 15:15:07.671052                 |2024-08-13T09:15:17.6710527-06:00   |2024-08-13 15:15:07.671052|455    |U OF U VIA SLC|2024-08-13T00:00:00-06:00|5319054               |U OF U/DAVIS COUNTY/WSU|623202   |127027        |True     |-111.98003116666666      |41.22397100000000       |1           |32329             |14008     |NULL                      |NULL                     |NULL                       |2024-08-13 09:15:00.957|False               |347.40            |17.61           |U of U (Research Park)    |\n",
            "|455-1723562113|1.3         |http://www.siri.org.uk/siri|2024-08-13 15:15:13.522134|1.3                              |2024-08-13 15:15:13.522134                 |2024-08-13T09:15:23.5221347-06:00   |2024-08-13 15:15:13.522134|455    |U OF U VIA SLC|2024-08-13T00:00:00-06:00|5319054               |U OF U/DAVIS COUNTY/WSU|623202   |127027        |True     |-111.98003116666666      |41.22397100000000       |1           |32329             |14008     |NULL                      |NULL                     |NULL                       |2024-08-13 09:15:00.957|False               |347.40            |17.61           |U of U (Research Park)    |\n",
            "|455-1723562119|1.3         |http://www.siri.org.uk/siri|2024-08-13 15:15:19.276041|1.3                              |2024-08-13 15:15:19.276041                 |2024-08-13T09:15:29.2760416-06:00   |2024-08-13 15:15:19.276041|455    |U OF U VIA SLC|2024-08-13T00:00:00-06:00|5319054               |U OF U/DAVIS COUNTY/WSU|623202   |127027        |True     |-111.97976500000000      |41.22422666666667       |1           |32329             |14008     |NULL                      |NULL                     |NULL                       |2024-08-13 09:15:11.02 |False               |147.20            |11.74           |U of U (Research Park)    |\n",
            "|455-1723562125|1.3         |http://www.siri.org.uk/siri|2024-08-13 15:15:25.024987|1.3                              |2024-08-13 15:15:25.024987                 |2024-08-13T09:15:35.0249873-06:00   |2024-08-13 15:15:25.024987|455    |U OF U VIA SLC|2024-08-13T00:00:00-06:00|5319054               |U OF U/DAVIS COUNTY/WSU|623202   |127027        |True     |-111.97976500000000      |41.22422666666667       |1           |32329             |14008     |NULL                      |NULL                     |NULL                       |2024-08-13 09:15:11.02 |False               |147.20            |11.74           |U of U (Research Park)    |\n",
            "|455-1723562130|1.3         |http://www.siri.org.uk/siri|2024-08-13 15:15:30.779531|1.3                              |2024-08-13 15:15:30.779531                 |2024-08-13T09:15:40.7795318-06:00   |2024-08-13 15:15:30.779531|455    |U OF U VIA SLC|2024-08-13T00:00:00-06:00|5319054               |U OF U/DAVIS COUNTY/WSU|623202   |127027        |True     |-111.97972116666666      |41.22388266666667       |1           |32329             |14008     |NULL                      |NULL                     |NULL                       |2024-08-13 09:15:21.66 |False               |147.20            |2.07            |U of U (Research Park)    |\n",
            "|455-1723562136|1.3         |http://www.siri.org.uk/siri|2024-08-13 15:15:36.481118|1.3                              |2024-08-13 15:15:36.481118                 |2024-08-13T09:15:46.4811188-06:00   |2024-08-13 15:15:36.481118|455    |U OF U VIA SLC|2024-08-13T00:00:00-06:00|5319054               |U OF U/DAVIS COUNTY/WSU|623202   |127027        |True     |-111.97972116666666      |41.22388266666667       |1           |32329             |14008     |NULL                      |NULL                     |NULL                       |2024-08-13 09:15:21.66 |False               |147.20            |2.07            |U of U (Research Park)    |\n",
            "|455-1723562142|1.3         |http://www.siri.org.uk/siri|2024-08-13 15:15:42.191668|1.3                              |2024-08-13 15:15:42.191668                 |2024-08-13T09:15:52.1916681-06:00   |2024-08-13 15:15:42.191668|455    |U OF U VIA SLC|2024-08-13T00:00:00-06:00|5319054               |U OF U/DAVIS COUNTY/WSU|623202   |127027        |True     |-111.97907133333334      |41.22340466666667       |1           |32329             |14008     |NULL                      |NULL                     |NULL                       |2024-08-13 09:15:41.02 |False               |164.30            |1.27            |U of U (Research Park)    |\n",
            "|455-1723562147|1.3         |http://www.siri.org.uk/siri|2024-08-13 15:15:47.921436|1.3                              |2024-08-13 15:15:47.921436                 |2024-08-13T09:15:57.9214367-06:00   |2024-08-13 15:15:47.921436|455    |U OF U VIA SLC|2024-08-13T00:00:00-06:00|5319054               |U OF U/DAVIS COUNTY/WSU|623202   |127027        |True     |-111.97907133333334      |41.22340466666667       |1           |32329             |14008     |NULL                      |NULL                     |NULL                       |2024-08-13 09:15:41.02 |False               |164.30            |1.27            |U of U (Research Park)    |\n",
            "|455-1723562153|1.3         |http://www.siri.org.uk/siri|2024-08-13 15:15:53.607045|1.3                              |2024-08-13 15:15:53.607045                 |2024-08-13T09:16:03.6070457-06:00   |2024-08-13 15:15:53.607045|455    |U OF U VIA SLC|2024-08-13T00:00:00-06:00|5319054               |U OF U/DAVIS COUNTY/WSU|623202   |127027        |True     |-111.97892000000000      |41.22314566666667       |1           |32329             |14008     |NULL                      |NULL                     |NULL                       |2024-08-13 09:15:50.92 |False               |179.80            |20.37           |U of U (Research Park)    |\n",
            "|455-1723562159|1.3         |http://www.siri.org.uk/siri|2024-08-13 15:15:59.304614|1.3                              |2024-08-13 15:15:59.304614                 |2024-08-13T09:16:09.3046141-06:00   |2024-08-13 15:15:59.304614|455    |U OF U VIA SLC|2024-08-13T00:00:00-06:00|5319054               |U OF U/DAVIS COUNTY/WSU|623202   |127027        |True     |-111.97892000000000      |41.22314566666667       |1           |32329             |14008     |NULL                      |NULL                     |NULL                       |2024-08-13 09:15:50.92 |False               |179.80            |20.37           |U of U (Research Park)    |\n",
            "|455-1723562165|1.3         |http://www.siri.org.uk/siri|2024-08-13 15:16:05.027741|1.3                              |2024-08-13 15:16:05.027741                 |2024-08-13T09:16:15.0277413-06:00   |2024-08-13 15:16:05.027741|455    |U OF U VIA SLC|2024-08-13T00:00:00-06:00|5319054               |U OF U/DAVIS COUNTY/WSU|623202   |127027        |True     |-111.97894266666667      |41.22192883333334       |1           |32329             |14008     |NULL                      |NULL                     |NULL                       |2024-08-13 09:16:00.953|False               |180.90            |39.01           |U of U (Research Park)    |\n",
            "|455-1723562170|1.3         |http://www.siri.org.uk/siri|2024-08-13 15:16:10.791631|1.3                              |2024-08-13 15:16:10.791631                 |2024-08-13T09:16:20.7916312-06:00   |2024-08-13 15:16:10.791631|455    |U OF U VIA SLC|2024-08-13T00:00:00-06:00|5319054               |U OF U/DAVIS COUNTY/WSU|623202   |127027        |True     |-111.97894266666667      |41.22192883333334       |1           |32329             |14008     |NULL                      |NULL                     |NULL                       |2024-08-13 09:16:00.953|False               |180.90            |39.01           |U of U (Research Park)    |\n",
            "|455-1723562176|1.3         |http://www.siri.org.uk/siri|2024-08-13 15:16:16.693454|1.3                              |2024-08-13 15:16:16.693454                 |2024-08-13T09:16:26.693454-06:00    |2024-08-13 15:16:16.693454|455    |U OF U VIA SLC|2024-08-13T00:00:00-06:00|5319054               |U OF U/DAVIS COUNTY/WSU|623202   |127027        |True     |-111.97897866666666      |41.22017483333333       |1           |32329             |14008     |NULL                      |NULL                     |NULL                       |2024-08-13 09:16:11    |False               |181.40            |46.03           |U of U (Research Park)    |\n",
            "|455-1723562182|1.3         |http://www.siri.org.uk/siri|2024-08-13 15:16:22.385323|1.3                              |2024-08-13 15:16:22.385323                 |2024-08-13T09:16:32.3853236-06:00   |2024-08-13 15:16:22.385323|455    |U OF U VIA SLC|2024-08-13T00:00:00-06:00|5319054               |U OF U/DAVIS COUNTY/WSU|623202   |127027        |True     |-111.97897866666666      |41.22017483333333       |1           |32329             |14008     |NULL                      |NULL                     |NULL                       |2024-08-13 09:16:11    |False               |181.40            |46.03           |U of U (Research Park)    |\n",
            "|455-1723562188|1.3         |http://www.siri.org.uk/siri|2024-08-13 15:16:28.063398|1.3                              |2024-08-13 15:16:28.063398                 |2024-08-13T09:16:38.0633983-06:00   |2024-08-13 15:16:28.063398|455    |U OF U VIA SLC|2024-08-13T00:00:00-06:00|5319054               |U OF U/DAVIS COUNTY/WSU|623202   |127027        |True     |-111.97897483333334      |41.21835800000000       |1           |32329             |14008     |NULL                      |NULL                     |NULL                       |2024-08-13 09:16:21    |False               |181.30            |44.65           |U of U (Research Park)    |\n",
            "|455-1723562193|1.3         |http://www.siri.org.uk/siri|2024-08-13 15:16:33.883578|1.3                              |2024-08-13 15:16:33.883578                 |2024-08-13T09:16:43.8835785-06:00   |2024-08-13 15:16:33.883578|455    |U OF U VIA SLC|2024-08-13T00:00:00-06:00|5319054               |U OF U/DAVIS COUNTY/WSU|623202   |127027        |True     |-111.97897483333334      |41.21835800000000       |1           |32329             |14008     |NULL                      |NULL                     |NULL                       |2024-08-13 09:16:21    |False               |181.30            |44.65           |U of U (Research Park)    |\n",
            "|455-1723562199|1.3         |http://www.siri.org.uk/siri|2024-08-13 15:16:39.580953|1.3                              |2024-08-13 15:16:39.580953                 |2024-08-13T09:16:49.5809535-06:00   |2024-08-13 15:16:39.580953|455    |U OF U VIA SLC|2024-08-13T00:00:00-06:00|5319054               |U OF U/DAVIS COUNTY/WSU|623202   |127027        |True     |-111.97896000000000      |41.21687133333333       |1           |32329             |14008     |NULL                      |NULL                     |NULL                       |2024-08-13 09:16:31.147|False               |180.60            |20.48           |U of U (Research Park)    |\n",
            "|455-1723562205|1.3         |http://www.siri.org.uk/siri|2024-08-13 15:16:45.298903|1.3                              |2024-08-13 15:16:45.298903                 |2024-08-13T09:16:55.2989036-06:00   |2024-08-13 15:16:45.298903|455    |U OF U VIA SLC|2024-08-13T00:00:00-06:00|5319054               |U OF U/DAVIS COUNTY/WSU|623202   |127027        |True     |-111.97896000000000      |41.21687133333333       |1           |32329             |14008     |NULL                      |NULL                     |NULL                       |2024-08-13 09:16:31.147|False               |180.60            |20.48           |U of U (Research Park)    |\n",
            "|455-1723562210|1.3         |http://www.siri.org.uk/siri|2024-08-13 15:16:50.996482|1.3                              |2024-08-13 15:16:50.996482                 |2024-08-13T09:17:00.9964822-06:00   |2024-08-13 15:16:50.996482|455    |U OF U VIA SLC|2024-08-13T00:00:00-06:00|5319054               |U OF U/DAVIS COUNTY/WSU|623202   |127027        |True     |-111.97896633333333      |41.21666616666667       |1           |32329             |14008     |NULL                      |NULL                     |NULL                       |2024-08-13 09:16:41.017|False               |175.70            |3.68            |U of U (Research Park)    |\n",
            "|455-1723562216|1.3         |http://www.siri.org.uk/siri|2024-08-13 15:16:56.743329|1.3                              |2024-08-13 15:16:56.743329                 |2024-08-13T09:17:06.7433297-06:00   |2024-08-13 15:16:56.743329|455    |U OF U VIA SLC|2024-08-13T00:00:00-06:00|5319054               |U OF U/DAVIS COUNTY/WSU|623202   |127027        |True     |-111.97896633333333      |41.21666616666667       |1           |32329             |14008     |NULL                      |NULL                     |NULL                       |2024-08-13 09:16:41.017|False               |175.70            |3.68            |U of U (Research Park)    |\n",
            "|455-1723562222|1.3         |http://www.siri.org.uk/siri|2024-08-13 15:17:02.431352|1.3                              |2024-08-13 15:17:02.431352                 |2024-08-13T09:17:12.4313527-06:00   |2024-08-13 15:17:02.431352|455    |U OF U VIA SLC|2024-08-13T00:00:00-06:00|5319054               |U OF U/DAVIS COUNTY/WSU|623202   |127027        |True     |-111.97856150000000      |41.21651683333333       |1           |32329             |14008     |NULL                      |NULL                     |NULL                       |2024-08-13 09:16:50.993|False               |175.70            |1.50            |U of U (Research Park)    |\n",
            "+--------------+------------+---------------------------+--------------------------+---------------------------------+-------------------------------------------+------------------------------------+--------------------------+-------+--------------+-------------------------+----------------------+-----------------------+---------+--------------+---------+-------------------------+------------------------+------------+------------------+----------+--------------------------+-------------------------+---------------------------+-----------------------+--------------------+------------------+----------------+--------------------------+\n",
            "only showing top 25 rows\n",
            "\n"
          ]
        }
      ]
    },
    {
      "cell_type": "markdown",
      "source": [
        "## Data Cleaning"
      ],
      "metadata": {
        "id": "utk_mpbMTQDX"
      }
    },
    {
      "cell_type": "code",
      "source": [
        "select_df = flattened_df.select(\n",
        "      \"FileId\",\n",
        "      col(\"Siri_ResponseTimestamp\").alias(\"ResponseTimestamp\"),\n",
        "      col(\"LineRef\"),\n",
        "      col(\"DirectionRef\"),\n",
        "      col(\"DatedVehicleJourneyRef\"),\n",
        "      col(\"PublishedLineName\"),\n",
        "      col(\"OriginRef\"),\n",
        "      col(\"DestinationRef\"),\n",
        "      col(\"VehicleLocation_Longitude\").alias(\"Longitude\"),\n",
        "      col(\"VehicleLocation_Latitude\").alias(\"Latitude\"),\n",
        "      col(\"CourseOfJourneyRef\"),\n",
        "      col(\"VehicleRef\"),\n",
        "      col(\"Extensions_LastGPSFix\").alias(\"LastGPSFix\"),\n",
        "      col(\"Extensions_Bearing\").alias(\"Bearing\"),\n",
        "      col(\"Extensions_Speed\").alias(\"Speed\"),\n",
        "      col(\"Extensions_DestinationName\").alias(\"DestinationName\")\n",
        "    ).withColumn(\"LatLong\", concat(\"Latitude\", lit(\", \"), \"Longitude\"))\n"
      ],
      "metadata": {
        "id": "am9tfNeaTPc7"
      },
      "execution_count": null,
      "outputs": []
    },
    {
      "cell_type": "code",
      "source": [
        "select_df.show(5)\n",
        "# select_df.groupBy(select_df.columns)\\\n",
        "#     .count() \\\n",
        "#     .filter(col(\"count\") > 1) \\\n",
        "#     .show()\n",
        "# select_df.count()\n",
        "# select_df = select_df.repartition(1)\n",
        "\n",
        "# select_df.rdd.getNumPartitions()"
      ],
      "metadata": {
        "colab": {
          "base_uri": "https://localhost:8080/"
        },
        "id": "hYmnoYL_Tt8M",
        "outputId": "2980e153-cd62-4ff2-ca00-344521ea3a61"
      },
      "execution_count": null,
      "outputs": [
        {
          "output_type": "stream",
          "name": "stdout",
          "text": [
            "+--------------+--------------------+-------+--------------+----------------------+--------------------+---------+--------------+-------------------+-----------------+------------------+----------+--------------------+-------+-----+--------------------+--------------------+\n",
            "|        FileId|   ResponseTimestamp|LineRef|  DirectionRef|DatedVehicleJourneyRef|   PublishedLineName|OriginRef|DestinationRef|          Longitude|         Latitude|CourseOfJourneyRef|VehicleRef|          LastGPSFix|Bearing|Speed|     DestinationName|             LatLong|\n",
            "+--------------+--------------------+-------+--------------+----------------------+--------------------+---------+--------------+-------------------+-----------------+------------------+----------+--------------------+-------+-----+--------------------+--------------------+\n",
            "|455-1723568479|2024-08-13 17:01:...|    455| OGDEN VIA WSU|               5319029|U OF U/DAVIS COUN...|   127027|        623423|-111.83105200000000|40.75620800000000|              5641|     10008|2024-08-13 11:01:...| 128.80| 0.00|Ogden via Weber S...|40.75620800000000...|\n",
            "|455-1723568479|2024-08-13 17:01:...|    455|U OF U VIA SLC|               5319056|U OF U/DAVIS COUN...|   623202|        127027|-111.90835683333333|41.00868500000000|             31806|     14006|2024-08-13 11:01:...| 154.40|36.37|U of U (Research ...|41.00868500000000...|\n",
            "|455-1723568479|2024-08-13 17:01:...|    455|U OF U VIA SLC|               5319054|U OF U/DAVIS COUN...|   623202|        127027|-111.90258616666667|40.79240216666667|             32329|     14008|2024-08-13 11:01:...| 155.60|38.90|U of U (Research ...|40.79240216666667...|\n",
            "|455-1723568479|2024-08-13 17:01:...|    455| OGDEN VIA WSU|               5319032|U OF U/DAVIS COUN...|   127027|        623423|-112.00612616666666|41.22937016666667|             32609|     14011|2024-08-13 11:01:...| 265.60| 0.00|Ogden via Weber S...|41.22937016666667...|\n",
            "|455-1723568479|2024-08-13 17:01:...|    455| OGDEN VIA WSU|               5319024|U OF U/DAVIS COUN...|   127027|        623423|-111.97865266666666|41.22915383333334|             32762|     14012|2024-08-13 11:01:...|   0.10| 5.75|Ogden via Weber S...|41.22915383333334...|\n",
            "+--------------+--------------------+-------+--------------+----------------------+--------------------+---------+--------------+-------------------+-----------------+------------------+----------+--------------------+-------+-----+--------------------+--------------------+\n",
            "only showing top 5 rows\n",
            "\n"
          ]
        }
      ]
    },
    {
      "cell_type": "markdown",
      "source": [
        "## Spark Writes\n",
        "When writing data, Spark will break down the DataFrame into partitions and distribute those partitions across the available executors. Each executor will handle multiple partitions, and within an executor, each partition is processed using a single thread. So, multithreading per se isn't explicitly used for writes in Spark; instead, Spark relies on task parallelism, where multiple partitions are written concurrently.\n",
        "\n",
        "Parquet is a columnar storage file format optimized for analytical queries and efficient data storage. Parquets are used to store large amount of data and for efficient storage, spark partitions are set such that each parquet is between 100mb and 1gb.\n",
        "\n",
        "In this use case since the volume of data is significantly less, coalescing the data to 1 single partition is more efficient than having multiple partition.\n",
        "For reference, 100 spark partitions takes 25 seconds to write data to 100 parquets of few kb's each, while writing to 1 parquet of 1mb takes about 2-3 seconds. Writing large volumes (generally in TB's) of data in a single partition takes more time, in such cases we set partition to such that each parquet is of few 100mb's."
      ],
      "metadata": {
        "id": "dDqg7D5Ot1O1"
      }
    },
    {
      "cell_type": "code",
      "source": [
        "# Check df schema\n",
        "select_df.printSchema()"
      ],
      "metadata": {
        "colab": {
          "base_uri": "https://localhost:8080/"
        },
        "id": "Vz45vikD9uMl",
        "outputId": "6a0f5edd-a5f2-4349-8838-d6131bf72049"
      },
      "execution_count": null,
      "outputs": [
        {
          "output_type": "stream",
          "name": "stdout",
          "text": [
            "root\n",
            " |-- FileId: string (nullable = false)\n",
            " |-- ResponseTimestamp: timestamp (nullable = true)\n",
            " |-- LineRef: string (nullable = true)\n",
            " |-- DirectionRef: string (nullable = true)\n",
            " |-- DatedVehicleJourneyRef: string (nullable = true)\n",
            " |-- PublishedLineName: string (nullable = true)\n",
            " |-- OriginRef: string (nullable = true)\n",
            " |-- DestinationRef: string (nullable = true)\n",
            " |-- Longitude: decimal(17,14) (nullable = true)\n",
            " |-- Latitude: decimal(17,14) (nullable = true)\n",
            " |-- CourseOfJourneyRef: string (nullable = true)\n",
            " |-- VehicleRef: string (nullable = true)\n",
            " |-- LastGPSFix: timestamp (nullable = true)\n",
            " |-- Bearing: decimal(5,2) (nullable = true)\n",
            " |-- Speed: decimal(5,2) (nullable = true)\n",
            " |-- DestinationName: string (nullable = true)\n",
            " |-- LatLong: string (nullable = true)\n",
            "\n"
          ]
        }
      ]
    },
    {
      "cell_type": "markdown",
      "source": [
        "Parquets use run length encoding to store the data in a comressed format. To make the most of this technique, it is important to sort the data in such a way that adjacent rows has minimal differences.\n",
        "\n",
        "Example:\n",
        "Without sorting\n",
        "```\n",
        "Row\tUserID\n",
        "1\t1002\n",
        "2\t2001\n",
        "3\t1002         =====>    [1, 1002], [1, 2001], [1, 1002], [1, 2001], [1, 1002], [1, 2001]\n",
        "4\t2001\n",
        "5\t1002\n",
        "6\t2001\n",
        "```\n",
        "With Sorting\n",
        "```\n",
        "Row\tUserID\n",
        "1\t1002\n",
        "2\t1002\n",
        "3\t1002        =====>    [3, 1002], [3, 2001]\n",
        "4\t2001\n",
        "5\t2001\n",
        "6\t2001\n",
        "```"
      ],
      "metadata": {
        "id": "70oQr2a5oos0"
      }
    },
    {
      "cell_type": "code",
      "source": [
        "@timing_decorator\n",
        "def write_parquet():\n",
        "  select_df.coalesce(1).write.partitionBy(\"LineRef\").mode(\"overwrite\").parquet(\"/content/UtaVehicleRef\")\n",
        "\n",
        "write_parquet()\n"
      ],
      "metadata": {
        "colab": {
          "base_uri": "https://localhost:8080/"
        },
        "id": "FNlUb5mvtATp",
        "outputId": "1865fffe-7be0-4dd8-fa57-4e2602770a89"
      },
      "execution_count": null,
      "outputs": [
        {
          "output_type": "stream",
          "name": "stdout",
          "text": [
            "Function 'write_parquet' took 6.7596 seconds to execute.\n"
          ]
        }
      ]
    },
    {
      "cell_type": "markdown",
      "source": [
        "## Duck DB Installation"
      ],
      "metadata": {
        "id": "oyUYP-1xurdl"
      }
    },
    {
      "cell_type": "markdown",
      "source": [
        "Why DuckDB ? Answer is OLAP + in-process / in-memory\n",
        "\n",
        "https://hannes.muehleisen.org/publications/SIGMOD2019-demo-duckdb.pdf"
      ],
      "metadata": {
        "id": "ncSh4QrElHDQ"
      }
    },
    {
      "cell_type": "code",
      "source": [
        "pip install duckdb"
      ],
      "metadata": {
        "id": "EzcnvL3Quqyy",
        "outputId": "f5e07de8-0087-4dbd-cbda-7c5109a71f28",
        "colab": {
          "base_uri": "https://localhost:8080/"
        }
      },
      "execution_count": null,
      "outputs": [
        {
          "output_type": "stream",
          "name": "stdout",
          "text": [
            "Requirement already satisfied: duckdb in /usr/local/lib/python3.10/dist-packages (0.10.3)\n"
          ]
        }
      ]
    },
    {
      "cell_type": "code",
      "source": [
        "import duckdb"
      ],
      "metadata": {
        "id": "U3DV60tHxNvg"
      },
      "execution_count": null,
      "outputs": []
    },
    {
      "cell_type": "code",
      "source": [
        "db_name = \"UtaVehicleRef\""
      ],
      "metadata": {
        "id": "Jz1fIn0Rmuk5"
      },
      "execution_count": null,
      "outputs": []
    },
    {
      "cell_type": "code",
      "source": [
        "# Connect to DuckDB\n",
        "conn = duckdb.connect(database = \":memory:\"+db_name, read_only = False)\n",
        "\n",
        "# Drop the existing table if it exists\n",
        "conn.execute(\"DROP TABLE IF EXISTS VehicleRef\")\n",
        "\n",
        "# Create the table with the specified schema\n",
        "create_table_query = \"\"\"\n",
        "CREATE TABLE VehicleRef (\n",
        "    FileId STRING NOT NULL,\n",
        "    ResponseTimestamp TIMESTAMP,\n",
        "    DirectionRef STRING,\n",
        "    DatedVehicleJourneyRef STRING,\n",
        "    PublishedLineName STRING,\n",
        "    OriginRef STRING,\n",
        "    DestinationRef STRING,\n",
        "    Longitude DECIMAL(17, 14),\n",
        "    Latitude DECIMAL(17, 14),\n",
        "    CourseOfJourneyRef STRING,\n",
        "    VehicleRef STRING,\n",
        "    LastGPSFix TIMESTAMP,\n",
        "    Bearing DECIMAL(5, 2),\n",
        "    Speed DECIMAL(5, 2),\n",
        "    DestinationName STRING,\n",
        "    LatLong STRING,\n",
        "    LineRef STRING\n",
        ");\n",
        "\"\"\"\n",
        "conn.execute(create_table_query)\n",
        "\n",
        "# Path to the Parquet files\n",
        "parquet_paths = [\n",
        "    'UtaVehicleRef/LineRef=1/*.parquet',\n",
        "    'UtaVehicleRef/LineRef=2/*.parquet',\n",
        "    'UtaVehicleRef/LineRef=220/*.parquet',\n",
        "    'UtaVehicleRef/LineRef=4/*.parquet',\n",
        "    'UtaVehicleRef/LineRef=455/*.parquet'\n",
        "]\n",
        "\n",
        "# Read and insert data from each Parquet file path into the table\n",
        "for path in parquet_paths:\n",
        "    # Read data from Parquet\n",
        "    read_query = f\"SELECT * FROM read_parquet('{path}')\"\n",
        "\n",
        "    # Insert data into the table\n",
        "    insert_query = f\"INSERT INTO VehicleRef {read_query}\"\n",
        "    conn.execute(insert_query)\n",
        "\n",
        "\n",
        "#verify\n",
        "tables = conn.execute(\"SHOW TABLES\").fetch_df()\n",
        "print(\"Tables in database:\")\n",
        "print(tables)\n",
        "\n",
        "# Check the schema of the newly created table\n",
        "schema = conn.execute(\"DESCRIBE TABLE VehicleRef\").fetch_df()\n",
        "print(\"\\nSchema of 'VehicleRef' table:\")\n",
        "print(schema)\n",
        "\n",
        "# Fetch and display a sample of the data\n",
        "result = conn.execute(\"SELECT * FROM VehicleRef LIMIT 10\").fetch_df()\n",
        "print(\"\\nSample data from 'VehicleRef' table:\")\n",
        "print(result)"
      ],
      "metadata": {
        "colab": {
          "base_uri": "https://localhost:8080/"
        },
        "id": "CZhHLXKQnqI1",
        "outputId": "3d2113a3-e2fb-4e5b-f114-15d58353b4ab"
      },
      "execution_count": null,
      "outputs": [
        {
          "output_type": "stream",
          "name": "stdout",
          "text": [
            "Tables in database:\n",
            "         name\n",
            "0  VehicleRef\n",
            "\n",
            "Schema of 'VehicleRef' table:\n",
            "               column_name     column_type null   key default extra\n",
            "0                   FileId         VARCHAR  YES  None    None  None\n",
            "1        ResponseTimestamp       TIMESTAMP  YES  None    None  None\n",
            "2             DirectionRef         VARCHAR  YES  None    None  None\n",
            "3   DatedVehicleJourneyRef         VARCHAR  YES  None    None  None\n",
            "4        PublishedLineName         VARCHAR  YES  None    None  None\n",
            "5                OriginRef         VARCHAR  YES  None    None  None\n",
            "6           DestinationRef         VARCHAR  YES  None    None  None\n",
            "7                Longitude  DECIMAL(17,14)  YES  None    None  None\n",
            "8                 Latitude  DECIMAL(17,14)  YES  None    None  None\n",
            "9       CourseOfJourneyRef         VARCHAR  YES  None    None  None\n",
            "10              VehicleRef         VARCHAR  YES  None    None  None\n",
            "11              LastGPSFix       TIMESTAMP  YES  None    None  None\n",
            "12                 Bearing    DECIMAL(5,2)  YES  None    None  None\n",
            "13                   Speed    DECIMAL(5,2)  YES  None    None  None\n",
            "14         DestinationName         VARCHAR  YES  None    None  None\n",
            "15                 LatLong         VARCHAR  YES  None    None  None\n",
            "16                 LineRef         VARCHAR  YES  None    None  None\n",
            "\n",
            "Sample data from 'VehicleRef' table:\n",
            "         FileId          ResponseTimestamp     DirectionRef  \\\n",
            "0  1-1723568767 2024-08-13 17:06:07.766088  TO POPLAR GROVE   \n",
            "1  1-1723568767 2024-08-13 17:06:07.766088  TO POPLAR GROVE   \n",
            "2  1-1723568767 2024-08-13 17:06:07.766088    TO U HOSPITAL   \n",
            "3  1-1723568767 2024-08-13 17:06:07.766088    TO U HOSPITAL   \n",
            "4  1-1723568767 2024-08-13 17:06:07.766088  TO POPLAR GROVE   \n",
            "5  1-1723568767 2024-08-13 17:06:07.766088    TO U HOSPITAL   \n",
            "6  1-1723568767 2024-08-13 17:06:07.766088  TO POPLAR GROVE   \n",
            "7  1-1723568767 2024-08-13 17:06:07.766088    TO U HOSPITAL   \n",
            "8  1-1723568767 2024-08-13 17:06:07.766088    TO U HOSPITAL   \n",
            "9  1-1723573030 2024-08-13 18:17:10.503409    TO U HOSPITAL   \n",
            "\n",
            "  DatedVehicleJourneyRef PublishedLineName OriginRef DestinationRef  \\\n",
            "0                5308395      South Temple    118161         125474   \n",
            "1                5308393      South Temple    118161         125474   \n",
            "2                5308332      South Temple    125474         118161   \n",
            "3                5308329      South Temple    125474         118161   \n",
            "4                5308396      South Temple    118161         125474   \n",
            "5                5308330      South Temple    125474         118161   \n",
            "6                5308394      South Temple    118161         125474   \n",
            "7                5308331      South Temple    125474         118161   \n",
            "8                5308333      South Temple    125474         118161   \n",
            "9                5308336      South Temple    125474         118161   \n",
            "\n",
            "    Longitude   Latitude CourseOfJourneyRef VehicleRef  \\\n",
            "0 -111.893726  40.767234              26192      13004   \n",
            "1 -111.939404  40.770991              26196      13010   \n",
            "2 -111.944173  40.758530              26250      13035   \n",
            "3 -111.890692  40.769152              36280      15004   \n",
            "4 -111.837498  40.772344              37874      15020   \n",
            "5 -111.916878  40.789502              63818      18021   \n",
            "6 -111.916766  40.782680             511098      23103   \n",
            "7 -111.939447  40.760655             511116      23111   \n",
            "8 -111.943978  40.758790             511125      23114   \n",
            "9 -111.944009  40.758777              26192      13004   \n",
            "\n",
            "               LastGPSFix  Bearing  Speed           DestinationName  \\\n",
            "0 2024-08-13 11:06:00.180    271.2   0.35  Poplar Grove (Orange St)   \n",
            "1 2024-08-13 11:05:56.570    179.2  12.89  Poplar Grove (Orange St)   \n",
            "2 2024-08-13 11:06:03.197    251.6   0.12       University Hospital   \n",
            "3 2024-08-13 11:06:04.187     89.2   0.00       University Hospital   \n",
            "4 2024-08-13 11:05:59.287    323.4   6.90  Poplar Grove (Orange St)   \n",
            "5 2024-08-13 11:06:02.267    179.9  31.30       University Hospital   \n",
            "6 2024-08-13 11:05:58.163      2.9  12.89  Poplar Grove (Orange St)   \n",
            "7 2024-08-13 11:05:59.663     86.0   1.61       University Hospital   \n",
            "8 2024-08-13 11:06:03.593     64.2   0.12       University Hospital   \n",
            "9 2024-08-13 12:17:02.303     20.6   0.12       University Hospital   \n",
            "\n",
            "                                  LatLong LineRef  \n",
            "0  40.76723366666667, -111.89372583333333       1  \n",
            "1  40.77099066666667, -111.93940450000000       1  \n",
            "2  40.75852950000000, -111.94417316666667       1  \n",
            "3  40.76915183333333, -111.89069166666667       1  \n",
            "4  40.77234416666667, -111.83749816666666       1  \n",
            "5  40.78950250000000, -111.91687816666666       1  \n",
            "6  40.78267950000000, -111.91676583333333       1  \n",
            "7  40.76065516666667, -111.93944716666667       1  \n",
            "8  40.75879033333333, -111.94397833333333       1  \n",
            "9  40.75877650000000, -111.94400933333333       1  \n"
          ]
        }
      ]
    },
    {
      "cell_type": "code",
      "source": [
        "query = \"\"\"\n",
        "with start_end_time as (\n",
        "  select LineRef, DatedVehicleJourneyRef, min(LastGPSFix) as start_time, max(LastGPSFix) as end_time,\n",
        "  from VehicleRef\n",
        "  group by LineRef, DatedVehicleJourneyRef\n",
        "),\n",
        "trip_details as (\n",
        "  select se.LineRef, se.DatedVehicleJourneyRef, start_time, end_time, start.Latitude as start_lat, start.Longitude as start_long,\n",
        "  e.Latitude as end_lat, e.Longitude as end_long,\n",
        "    3959 * acos(\n",
        "    cos(radians(start.Latitude)) * cos(radians(e.Latitude)) *\n",
        "    cos(radians(e.Longitude) - radians(start.Longitude)) +\n",
        "    sin(radians(start.Latitude)) * sin(radians(e.Latitude))\n",
        "  ) AS distance_miles,\n",
        "  extract(epoch from (end_time - start_time))/3600 as trip_duration\n",
        "  from start_end_time se\n",
        "  left join VehicleRef start on se.start_time = start.LastGPSFix and se.LineRef = start.LineRef and se.DatedVehicleJourneyRef = start.DatedVehicleJourneyRef\n",
        "  left join VehicleRef e on se.end_time = e.LastGPSFix and se.LineRef = e.LineRef and se.DatedVehicleJourneyRef = e.DatedVehicleJourneyRef\n",
        ")\n",
        "select distinct LineRef, DatedVehicleJourneyRef, start_time, end_time, distance_miles, trip_duration, distance_miles*1.0/trip_duration as average_speed from trip_details\n",
        "\"\"\"\n",
        "conn.execute(query).fetchdf()"
      ],
      "metadata": {
        "id": "lBDdyi7lS_ZY",
        "outputId": "bb9a18b3-93ab-48e8-efeb-fb71bac5e868",
        "colab": {
          "base_uri": "https://localhost:8080/",
          "height": 423
        }
      },
      "execution_count": null,
      "outputs": [
        {
          "output_type": "execute_result",
          "data": {
            "text/plain": [
              "    LineRef DatedVehicleJourneyRef              start_time  \\\n",
              "0         1                5308330 2024-08-13 10:11:41.317   \n",
              "1         1                5308398 2024-08-13 11:27:22.677   \n",
              "2         1                5308400 2024-08-13 11:58:14.120   \n",
              "3         1                5308382 2024-08-13 12:32:17.587   \n",
              "4         1                5308332 2024-08-13 10:40:32.677   \n",
              "..      ...                    ...                     ...   \n",
              "127     455                5319057 2024-08-13 10:02:55.827   \n",
              "128       4                5307384 2024-08-13 09:14:40.390   \n",
              "129     455                5319024 2024-08-13 09:14:35.757   \n",
              "130       2                5308058 2024-08-13 11:42:26.560   \n",
              "131     455                5319030 2024-08-13 10:29:06.810   \n",
              "\n",
              "                   end_time  distance_miles  trip_duration  average_speed  \n",
              "0   2024-08-13 11:27:12.657        4.459877       1.258706       3.543225  \n",
              "1   2024-08-13 12:25:03.943        4.482024       0.961463       4.661672  \n",
              "2   2024-08-13 12:38:15.240        4.425166       0.666978       6.634652  \n",
              "3   2024-08-13 12:38:17.243        0.970742       0.099904       9.716709  \n",
              "4   2024-08-13 11:58:04.150        4.450243       1.292076       3.444258  \n",
              "..                      ...             ...            ...            ...  \n",
              "127 2024-08-13 12:38:08.780       31.541836       2.586931      12.192761  \n",
              "128 2024-08-13 10:08:42.127        8.738532       0.900483       9.704277  \n",
              "129 2024-08-13 11:02:47.483       27.837435       1.803257      15.437307  \n",
              "130 2024-08-13 12:08:27.127        3.662370       0.433491       8.448551  \n",
              "131 2024-08-13 12:38:08.740       12.806062       2.150536       5.954823  \n",
              "\n",
              "[132 rows x 7 columns]"
            ],
            "text/html": [
              "\n",
              "  <div id=\"df-ef529845-5933-4df6-93a7-1d3e03f09a04\" class=\"colab-df-container\">\n",
              "    <div>\n",
              "<style scoped>\n",
              "    .dataframe tbody tr th:only-of-type {\n",
              "        vertical-align: middle;\n",
              "    }\n",
              "\n",
              "    .dataframe tbody tr th {\n",
              "        vertical-align: top;\n",
              "    }\n",
              "\n",
              "    .dataframe thead th {\n",
              "        text-align: right;\n",
              "    }\n",
              "</style>\n",
              "<table border=\"1\" class=\"dataframe\">\n",
              "  <thead>\n",
              "    <tr style=\"text-align: right;\">\n",
              "      <th></th>\n",
              "      <th>LineRef</th>\n",
              "      <th>DatedVehicleJourneyRef</th>\n",
              "      <th>start_time</th>\n",
              "      <th>end_time</th>\n",
              "      <th>distance_miles</th>\n",
              "      <th>trip_duration</th>\n",
              "      <th>average_speed</th>\n",
              "    </tr>\n",
              "  </thead>\n",
              "  <tbody>\n",
              "    <tr>\n",
              "      <th>0</th>\n",
              "      <td>1</td>\n",
              "      <td>5308330</td>\n",
              "      <td>2024-08-13 10:11:41.317</td>\n",
              "      <td>2024-08-13 11:27:12.657</td>\n",
              "      <td>4.459877</td>\n",
              "      <td>1.258706</td>\n",
              "      <td>3.543225</td>\n",
              "    </tr>\n",
              "    <tr>\n",
              "      <th>1</th>\n",
              "      <td>1</td>\n",
              "      <td>5308398</td>\n",
              "      <td>2024-08-13 11:27:22.677</td>\n",
              "      <td>2024-08-13 12:25:03.943</td>\n",
              "      <td>4.482024</td>\n",
              "      <td>0.961463</td>\n",
              "      <td>4.661672</td>\n",
              "    </tr>\n",
              "    <tr>\n",
              "      <th>2</th>\n",
              "      <td>1</td>\n",
              "      <td>5308400</td>\n",
              "      <td>2024-08-13 11:58:14.120</td>\n",
              "      <td>2024-08-13 12:38:15.240</td>\n",
              "      <td>4.425166</td>\n",
              "      <td>0.666978</td>\n",
              "      <td>6.634652</td>\n",
              "    </tr>\n",
              "    <tr>\n",
              "      <th>3</th>\n",
              "      <td>1</td>\n",
              "      <td>5308382</td>\n",
              "      <td>2024-08-13 12:32:17.587</td>\n",
              "      <td>2024-08-13 12:38:17.243</td>\n",
              "      <td>0.970742</td>\n",
              "      <td>0.099904</td>\n",
              "      <td>9.716709</td>\n",
              "    </tr>\n",
              "    <tr>\n",
              "      <th>4</th>\n",
              "      <td>1</td>\n",
              "      <td>5308332</td>\n",
              "      <td>2024-08-13 10:40:32.677</td>\n",
              "      <td>2024-08-13 11:58:04.150</td>\n",
              "      <td>4.450243</td>\n",
              "      <td>1.292076</td>\n",
              "      <td>3.444258</td>\n",
              "    </tr>\n",
              "    <tr>\n",
              "      <th>...</th>\n",
              "      <td>...</td>\n",
              "      <td>...</td>\n",
              "      <td>...</td>\n",
              "      <td>...</td>\n",
              "      <td>...</td>\n",
              "      <td>...</td>\n",
              "      <td>...</td>\n",
              "    </tr>\n",
              "    <tr>\n",
              "      <th>127</th>\n",
              "      <td>455</td>\n",
              "      <td>5319057</td>\n",
              "      <td>2024-08-13 10:02:55.827</td>\n",
              "      <td>2024-08-13 12:38:08.780</td>\n",
              "      <td>31.541836</td>\n",
              "      <td>2.586931</td>\n",
              "      <td>12.192761</td>\n",
              "    </tr>\n",
              "    <tr>\n",
              "      <th>128</th>\n",
              "      <td>4</td>\n",
              "      <td>5307384</td>\n",
              "      <td>2024-08-13 09:14:40.390</td>\n",
              "      <td>2024-08-13 10:08:42.127</td>\n",
              "      <td>8.738532</td>\n",
              "      <td>0.900483</td>\n",
              "      <td>9.704277</td>\n",
              "    </tr>\n",
              "    <tr>\n",
              "      <th>129</th>\n",
              "      <td>455</td>\n",
              "      <td>5319024</td>\n",
              "      <td>2024-08-13 09:14:35.757</td>\n",
              "      <td>2024-08-13 11:02:47.483</td>\n",
              "      <td>27.837435</td>\n",
              "      <td>1.803257</td>\n",
              "      <td>15.437307</td>\n",
              "    </tr>\n",
              "    <tr>\n",
              "      <th>130</th>\n",
              "      <td>2</td>\n",
              "      <td>5308058</td>\n",
              "      <td>2024-08-13 11:42:26.560</td>\n",
              "      <td>2024-08-13 12:08:27.127</td>\n",
              "      <td>3.662370</td>\n",
              "      <td>0.433491</td>\n",
              "      <td>8.448551</td>\n",
              "    </tr>\n",
              "    <tr>\n",
              "      <th>131</th>\n",
              "      <td>455</td>\n",
              "      <td>5319030</td>\n",
              "      <td>2024-08-13 10:29:06.810</td>\n",
              "      <td>2024-08-13 12:38:08.740</td>\n",
              "      <td>12.806062</td>\n",
              "      <td>2.150536</td>\n",
              "      <td>5.954823</td>\n",
              "    </tr>\n",
              "  </tbody>\n",
              "</table>\n",
              "<p>132 rows × 7 columns</p>\n",
              "</div>\n",
              "    <div class=\"colab-df-buttons\">\n",
              "\n",
              "  <div class=\"colab-df-container\">\n",
              "    <button class=\"colab-df-convert\" onclick=\"convertToInteractive('df-ef529845-5933-4df6-93a7-1d3e03f09a04')\"\n",
              "            title=\"Convert this dataframe to an interactive table.\"\n",
              "            style=\"display:none;\">\n",
              "\n",
              "  <svg xmlns=\"http://www.w3.org/2000/svg\" height=\"24px\" viewBox=\"0 -960 960 960\">\n",
              "    <path d=\"M120-120v-720h720v720H120Zm60-500h600v-160H180v160Zm220 220h160v-160H400v160Zm0 220h160v-160H400v160ZM180-400h160v-160H180v160Zm440 0h160v-160H620v160ZM180-180h160v-160H180v160Zm440 0h160v-160H620v160Z\"/>\n",
              "  </svg>\n",
              "    </button>\n",
              "\n",
              "  <style>\n",
              "    .colab-df-container {\n",
              "      display:flex;\n",
              "      gap: 12px;\n",
              "    }\n",
              "\n",
              "    .colab-df-convert {\n",
              "      background-color: #E8F0FE;\n",
              "      border: none;\n",
              "      border-radius: 50%;\n",
              "      cursor: pointer;\n",
              "      display: none;\n",
              "      fill: #1967D2;\n",
              "      height: 32px;\n",
              "      padding: 0 0 0 0;\n",
              "      width: 32px;\n",
              "    }\n",
              "\n",
              "    .colab-df-convert:hover {\n",
              "      background-color: #E2EBFA;\n",
              "      box-shadow: 0px 1px 2px rgba(60, 64, 67, 0.3), 0px 1px 3px 1px rgba(60, 64, 67, 0.15);\n",
              "      fill: #174EA6;\n",
              "    }\n",
              "\n",
              "    .colab-df-buttons div {\n",
              "      margin-bottom: 4px;\n",
              "    }\n",
              "\n",
              "    [theme=dark] .colab-df-convert {\n",
              "      background-color: #3B4455;\n",
              "      fill: #D2E3FC;\n",
              "    }\n",
              "\n",
              "    [theme=dark] .colab-df-convert:hover {\n",
              "      background-color: #434B5C;\n",
              "      box-shadow: 0px 1px 3px 1px rgba(0, 0, 0, 0.15);\n",
              "      filter: drop-shadow(0px 1px 2px rgba(0, 0, 0, 0.3));\n",
              "      fill: #FFFFFF;\n",
              "    }\n",
              "  </style>\n",
              "\n",
              "    <script>\n",
              "      const buttonEl =\n",
              "        document.querySelector('#df-ef529845-5933-4df6-93a7-1d3e03f09a04 button.colab-df-convert');\n",
              "      buttonEl.style.display =\n",
              "        google.colab.kernel.accessAllowed ? 'block' : 'none';\n",
              "\n",
              "      async function convertToInteractive(key) {\n",
              "        const element = document.querySelector('#df-ef529845-5933-4df6-93a7-1d3e03f09a04');\n",
              "        const dataTable =\n",
              "          await google.colab.kernel.invokeFunction('convertToInteractive',\n",
              "                                                    [key], {});\n",
              "        if (!dataTable) return;\n",
              "\n",
              "        const docLinkHtml = 'Like what you see? Visit the ' +\n",
              "          '<a target=\"_blank\" href=https://colab.research.google.com/notebooks/data_table.ipynb>data table notebook</a>'\n",
              "          + ' to learn more about interactive tables.';\n",
              "        element.innerHTML = '';\n",
              "        dataTable['output_type'] = 'display_data';\n",
              "        await google.colab.output.renderOutput(dataTable, element);\n",
              "        const docLink = document.createElement('div');\n",
              "        docLink.innerHTML = docLinkHtml;\n",
              "        element.appendChild(docLink);\n",
              "      }\n",
              "    </script>\n",
              "  </div>\n",
              "\n",
              "\n",
              "<div id=\"df-7a736e4b-7ae2-4d3f-a476-e1516ea4216d\">\n",
              "  <button class=\"colab-df-quickchart\" onclick=\"quickchart('df-7a736e4b-7ae2-4d3f-a476-e1516ea4216d')\"\n",
              "            title=\"Suggest charts\"\n",
              "            style=\"display:none;\">\n",
              "\n",
              "<svg xmlns=\"http://www.w3.org/2000/svg\" height=\"24px\"viewBox=\"0 0 24 24\"\n",
              "     width=\"24px\">\n",
              "    <g>\n",
              "        <path d=\"M19 3H5c-1.1 0-2 .9-2 2v14c0 1.1.9 2 2 2h14c1.1 0 2-.9 2-2V5c0-1.1-.9-2-2-2zM9 17H7v-7h2v7zm4 0h-2V7h2v10zm4 0h-2v-4h2v4z\"/>\n",
              "    </g>\n",
              "</svg>\n",
              "  </button>\n",
              "\n",
              "<style>\n",
              "  .colab-df-quickchart {\n",
              "      --bg-color: #E8F0FE;\n",
              "      --fill-color: #1967D2;\n",
              "      --hover-bg-color: #E2EBFA;\n",
              "      --hover-fill-color: #174EA6;\n",
              "      --disabled-fill-color: #AAA;\n",
              "      --disabled-bg-color: #DDD;\n",
              "  }\n",
              "\n",
              "  [theme=dark] .colab-df-quickchart {\n",
              "      --bg-color: #3B4455;\n",
              "      --fill-color: #D2E3FC;\n",
              "      --hover-bg-color: #434B5C;\n",
              "      --hover-fill-color: #FFFFFF;\n",
              "      --disabled-bg-color: #3B4455;\n",
              "      --disabled-fill-color: #666;\n",
              "  }\n",
              "\n",
              "  .colab-df-quickchart {\n",
              "    background-color: var(--bg-color);\n",
              "    border: none;\n",
              "    border-radius: 50%;\n",
              "    cursor: pointer;\n",
              "    display: none;\n",
              "    fill: var(--fill-color);\n",
              "    height: 32px;\n",
              "    padding: 0;\n",
              "    width: 32px;\n",
              "  }\n",
              "\n",
              "  .colab-df-quickchart:hover {\n",
              "    background-color: var(--hover-bg-color);\n",
              "    box-shadow: 0 1px 2px rgba(60, 64, 67, 0.3), 0 1px 3px 1px rgba(60, 64, 67, 0.15);\n",
              "    fill: var(--button-hover-fill-color);\n",
              "  }\n",
              "\n",
              "  .colab-df-quickchart-complete:disabled,\n",
              "  .colab-df-quickchart-complete:disabled:hover {\n",
              "    background-color: var(--disabled-bg-color);\n",
              "    fill: var(--disabled-fill-color);\n",
              "    box-shadow: none;\n",
              "  }\n",
              "\n",
              "  .colab-df-spinner {\n",
              "    border: 2px solid var(--fill-color);\n",
              "    border-color: transparent;\n",
              "    border-bottom-color: var(--fill-color);\n",
              "    animation:\n",
              "      spin 1s steps(1) infinite;\n",
              "  }\n",
              "\n",
              "  @keyframes spin {\n",
              "    0% {\n",
              "      border-color: transparent;\n",
              "      border-bottom-color: var(--fill-color);\n",
              "      border-left-color: var(--fill-color);\n",
              "    }\n",
              "    20% {\n",
              "      border-color: transparent;\n",
              "      border-left-color: var(--fill-color);\n",
              "      border-top-color: var(--fill-color);\n",
              "    }\n",
              "    30% {\n",
              "      border-color: transparent;\n",
              "      border-left-color: var(--fill-color);\n",
              "      border-top-color: var(--fill-color);\n",
              "      border-right-color: var(--fill-color);\n",
              "    }\n",
              "    40% {\n",
              "      border-color: transparent;\n",
              "      border-right-color: var(--fill-color);\n",
              "      border-top-color: var(--fill-color);\n",
              "    }\n",
              "    60% {\n",
              "      border-color: transparent;\n",
              "      border-right-color: var(--fill-color);\n",
              "    }\n",
              "    80% {\n",
              "      border-color: transparent;\n",
              "      border-right-color: var(--fill-color);\n",
              "      border-bottom-color: var(--fill-color);\n",
              "    }\n",
              "    90% {\n",
              "      border-color: transparent;\n",
              "      border-bottom-color: var(--fill-color);\n",
              "    }\n",
              "  }\n",
              "</style>\n",
              "\n",
              "  <script>\n",
              "    async function quickchart(key) {\n",
              "      const quickchartButtonEl =\n",
              "        document.querySelector('#' + key + ' button');\n",
              "      quickchartButtonEl.disabled = true;  // To prevent multiple clicks.\n",
              "      quickchartButtonEl.classList.add('colab-df-spinner');\n",
              "      try {\n",
              "        const charts = await google.colab.kernel.invokeFunction(\n",
              "            'suggestCharts', [key], {});\n",
              "      } catch (error) {\n",
              "        console.error('Error during call to suggestCharts:', error);\n",
              "      }\n",
              "      quickchartButtonEl.classList.remove('colab-df-spinner');\n",
              "      quickchartButtonEl.classList.add('colab-df-quickchart-complete');\n",
              "    }\n",
              "    (() => {\n",
              "      let quickchartButtonEl =\n",
              "        document.querySelector('#df-7a736e4b-7ae2-4d3f-a476-e1516ea4216d button');\n",
              "      quickchartButtonEl.style.display =\n",
              "        google.colab.kernel.accessAllowed ? 'block' : 'none';\n",
              "    })();\n",
              "  </script>\n",
              "</div>\n",
              "\n",
              "    </div>\n",
              "  </div>\n"
            ],
            "application/vnd.google.colaboratory.intrinsic+json": {
              "type": "dataframe",
              "summary": "{\n  \"name\": \"conn\",\n  \"rows\": 132,\n  \"fields\": [\n    {\n      \"column\": \"LineRef\",\n      \"properties\": {\n        \"dtype\": \"category\",\n        \"num_unique_values\": 5,\n        \"samples\": [\n          \"2\",\n          \"455\",\n          \"220\"\n        ],\n        \"semantic_type\": \"\",\n        \"description\": \"\"\n      }\n    },\n    {\n      \"column\": \"DatedVehicleJourneyRef\",\n      \"properties\": {\n        \"dtype\": \"string\",\n        \"num_unique_values\": 132,\n        \"samples\": [\n          \"5308328\",\n          \"5308051\",\n          \"5308050\"\n        ],\n        \"semantic_type\": \"\",\n        \"description\": \"\"\n      }\n    },\n    {\n      \"column\": \"start_time\",\n      \"properties\": {\n        \"dtype\": \"date\",\n        \"min\": \"2024-08-13 09:14:15.120000\",\n        \"max\": \"2024-08-13 12:34:26.550000\",\n        \"num_unique_values\": 129,\n        \"samples\": [\n          \"2024-08-13 09:14:42.250000\",\n          \"2024-08-13 09:21:37.120000\",\n          \"2024-08-13 11:08:29.913000\"\n        ],\n        \"semantic_type\": \"\",\n        \"description\": \"\"\n      }\n    },\n    {\n      \"column\": \"end_time\",\n      \"properties\": {\n        \"dtype\": \"date\",\n        \"min\": \"2024-08-13 09:15:50.217000\",\n        \"max\": \"2024-08-13 12:38:17.243000\",\n        \"num_unique_values\": 128,\n        \"samples\": [\n          \"2024-08-13 10:17:44.033000\",\n          \"2024-08-13 10:41:48.877000\",\n          \"2024-08-13 11:39:00.770000\"\n        ],\n        \"semantic_type\": \"\",\n        \"description\": \"\"\n      }\n    },\n    {\n      \"column\": \"distance_miles\",\n      \"properties\": {\n        \"dtype\": \"number\",\n        \"std\": 8.4780553469776,\n        \"min\": 0.03881995959625536,\n        \"max\": 33.99095062116211,\n        \"num_unique_values\": 132,\n        \"samples\": [\n          3.961226729376011,\n          3.61503661154105,\n          3.595057549459799\n        ],\n        \"semantic_type\": \"\",\n        \"description\": \"\"\n      }\n    },\n    {\n      \"column\": \"trip_duration\",\n      \"properties\": {\n        \"dtype\": \"number\",\n        \"std\": 0.6647389323504233,\n        \"min\": 0.019426944444444445,\n        \"max\": 3.1483055555555555,\n        \"num_unique_values\": 132,\n        \"samples\": [\n          0.5704008333333334,\n          0.4640452777777778,\n          0.5085713888888889\n        ],\n        \"semantic_type\": \"\",\n        \"description\": \"\"\n      }\n    },\n    {\n      \"column\": \"average_speed\",\n      \"properties\": {\n        \"dtype\": \"number\",\n        \"std\": 4.318356886673484,\n        \"min\": 0.029313064624965635,\n        \"max\": 27.05654353777993,\n        \"num_unique_values\": 132,\n        \"samples\": [\n          6.944636995404128,\n          7.790266994748345,\n          7.068933935340269\n        ],\n        \"semantic_type\": \"\",\n        \"description\": \"\"\n      }\n    }\n  ]\n}"
            }
          },
          "metadata": {},
          "execution_count": 46
        }
      ]
    },
    {
      "cell_type": "code",
      "source": [],
      "metadata": {
        "id": "aDo9KuUdbSbL"
      },
      "execution_count": null,
      "outputs": []
    }
  ]
}