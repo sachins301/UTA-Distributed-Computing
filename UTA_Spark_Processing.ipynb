{
  "nbformat": 4,
  "nbformat_minor": 0,
  "metadata": {
    "colab": {
      "provenance": [],
      "authorship_tag": "ABX9TyPkRQjmkAZIR1N8i1ZQFcSX",
      "include_colab_link": true
    },
    "kernelspec": {
      "name": "python3",
      "display_name": "Python 3"
    },
    "language_info": {
      "name": "python"
    }
  },
  "cells": [
    {
      "cell_type": "markdown",
      "metadata": {
        "id": "view-in-github",
        "colab_type": "text"
      },
      "source": [
        "<a href=\"https://colab.research.google.com/github/sachins301/UTA-Distributed-Computing/blob/main/UTA_Spark_Processing.ipynb\" target=\"_parent\"><img src=\"https://colab.research.google.com/assets/colab-badge.svg\" alt=\"Open In Colab\"/></a>"
      ]
    },
    {
      "cell_type": "markdown",
      "source": [
        "Installing Spark and dependencies"
      ],
      "metadata": {
        "id": "hOVGMW4OUefO"
      }
    },
    {
      "cell_type": "code",
      "execution_count": 1,
      "metadata": {
        "id": "SEAKx8SJHnJ4"
      },
      "outputs": [],
      "source": [
        "!apt-get install openjdk-8-jdk-headless -qq > /dev/null\n",
        "!wget -q http://archive.apache.org/dist/spark/spark-3.5.2/spark-3.5.2-bin-hadoop3.tgz\n",
        "!tar xf spark-3.5.2-bin-hadoop3.tgz\n",
        "!pip install -q findspark"
      ]
    },
    {
      "cell_type": "code",
      "source": [
        "import os\n",
        "os.environ[\"JAVA_HOME\"] = \"/usr/lib/jvm/java-8-openjdk-amd64\"\n",
        "os.environ[\"SPARK_HOME\"] = \"/content/spark-3.5.2-bin-hadoop3\""
      ],
      "metadata": {
        "id": "EyYko10_U4FR"
      },
      "execution_count": 3,
      "outputs": []
    },
    {
      "cell_type": "code",
      "source": [
        "import findspark\n",
        "findspark.init()\n",
        "from pyspark.sql import SparkSession\n",
        "from pyspark.sql.types import StructType, StructField, StringType, DoubleType, ArrayType, BooleanType\n",
        "import json"
      ],
      "metadata": {
        "id": "Xh_EivEKWjaX"
      },
      "execution_count": 26,
      "outputs": []
    },
    {
      "cell_type": "code",
      "source": [
        "spark = SparkSession.builder.master(\"local[*]\").getOrCreate()\n",
        "spark.conf.set(\"spark.sql.repl.eagerEval.enabled\", True) # Property used to format output tables better\n",
        "spark"
      ],
      "metadata": {
        "id": "1GECEtoIrkMP"
      },
      "execution_count": null,
      "outputs": []
    },
    {
      "cell_type": "code",
      "source": [
        "# Unpack the json dump\n",
        "import shutil\n",
        "shutil.unpack_archive('/content/json_dumps.zip', '/content/json_dumps/')"
      ],
      "metadata": {
        "id": "RYzMbOAGhEol"
      },
      "execution_count": 5,
      "outputs": []
    },
    {
      "cell_type": "code",
      "source": [
        "import time\n",
        "def timing_decorator(func):\n",
        "    def wrapper(*args, **kwargs):\n",
        "        start_time = time.time()  # Start time\n",
        "        result = func(*args, **kwargs)\n",
        "        end_time = time.time()  # End time\n",
        "        elapsed_time = end_time - start_time\n",
        "        print(f\"Function '{func.__name__}' took {elapsed_time:.4f} seconds to execute.\")\n",
        "        return result\n",
        "    return wrapper"
      ],
      "metadata": {
        "id": "-j1yVQkPqS0R"
      },
      "execution_count": 6,
      "outputs": []
    },
    {
      "cell_type": "code",
      "source": [
        "@timing_decorator\n",
        "def read_json():\n",
        "  df = spark.read.json(\"/content/json_dumps/*.json\")\n",
        "  return df\n",
        "\n",
        "df = read_json()\n",
        "df.show(5)"
      ],
      "metadata": {
        "id": "tb0U2okvh86L",
        "outputId": "bf4908c2-8ce1-490e-8fba-f7b085deca4e",
        "colab": {
          "base_uri": "https://localhost:8080/"
        }
      },
      "execution_count": null,
      "outputs": [
        {
          "output_type": "stream",
          "name": "stdout",
          "text": [
            "Function 'read_json' took 144.7838 seconds to execute.\n",
            "+--------------------+\n",
            "|                Siri|\n",
            "+--------------------+\n",
            "|{1.3, http://www....|\n",
            "|{1.3, http://www....|\n",
            "|{1.3, http://www....|\n",
            "|{1.3, http://www....|\n",
            "|{1.3, http://www....|\n",
            "+--------------------+\n",
            "only showing top 5 rows\n",
            "\n"
          ]
        }
      ]
    },
    {
      "cell_type": "code",
      "source": [
        "@timing_decorator\n",
        "def read_json():\n",
        "  df = spark.read.json(\"/content/json_dumps/*.json\").repartition(100)\n",
        "  return df\n",
        "\n",
        "df = read_json()\n",
        "df.show(5)\n"
      ],
      "metadata": {
        "id": "2cmfvEhdpCEB",
        "outputId": "c8707e23-9a11-4979-d2b2-9e32b902db4b",
        "colab": {
          "base_uri": "https://localhost:8080/"
        }
      },
      "execution_count": null,
      "outputs": [
        {
          "output_type": "stream",
          "name": "stdout",
          "text": [
            "Function 'read_json' took 144.8710 seconds to execute.\n",
            "+--------------------+\n",
            "|                Siri|\n",
            "+--------------------+\n",
            "|{1.3, http://www....|\n",
            "|{1.3, http://www....|\n",
            "|{1.3, http://www....|\n",
            "|{1.3, http://www....|\n",
            "|{1.3, http://www....|\n",
            "+--------------------+\n",
            "only showing top 5 rows\n",
            "\n"
          ]
        }
      ]
    },
    {
      "cell_type": "code",
      "source": [
        "@timing_decorator\n",
        "def read_json():\n",
        "  df = spark.read.option(\"wholeFile\", True).json(\"/content/json_dumps/*.json\").repartition(100)\n",
        "  return df\n",
        "\n",
        "df = read_json()\n",
        "df.show(5)"
      ],
      "metadata": {
        "id": "F2Ygm8iJwDro",
        "outputId": "24e71d50-9dfb-4091-d512-cea3d210cc48",
        "colab": {
          "base_uri": "https://localhost:8080/"
        }
      },
      "execution_count": null,
      "outputs": [
        {
          "output_type": "stream",
          "name": "stdout",
          "text": [
            "Function 'read_json' took 138.6985 seconds to execute.\n",
            "+--------------------+\n",
            "|                Siri|\n",
            "+--------------------+\n",
            "|{1.3, http://www....|\n",
            "|{1.3, http://www....|\n",
            "|{1.3, http://www....|\n",
            "|{1.3, http://www....|\n",
            "|{1.3, http://www....|\n",
            "+--------------------+\n",
            "only showing top 5 rows\n",
            "\n"
          ]
        }
      ]
    },
    {
      "cell_type": "code",
      "source": [
        "@timing_decorator\n",
        "def read_json():\n",
        "  df = spark.read \\\n",
        "            .option(\"wholeFile\", True) \\\n",
        "            .json(\"/content/json_dumps/*.json\").repartition(100) \\\n",
        "            .coalesce(10)\n",
        "  return df\n",
        "\n",
        "df = read_json()\n",
        "df.show(5)"
      ],
      "metadata": {
        "id": "BYBHyxVjwNTB",
        "outputId": "dbffeec2-02e2-46da-82c5-bdf4bb04ce5b",
        "colab": {
          "base_uri": "https://localhost:8080/"
        }
      },
      "execution_count": null,
      "outputs": [
        {
          "output_type": "stream",
          "name": "stdout",
          "text": [
            "Function 'read_json' took 140.0999 seconds to execute.\n",
            "+--------------------+\n",
            "|                Siri|\n",
            "+--------------------+\n",
            "|{1.3, http://www....|\n",
            "|{1.3, http://www....|\n",
            "|{1.3, http://www....|\n",
            "|{1.3, http://www....|\n",
            "|{1.3, http://www....|\n",
            "+--------------------+\n",
            "only showing top 5 rows\n",
            "\n"
          ]
        }
      ]
    },
    {
      "cell_type": "code",
      "source": [
        "spark.stop()\n",
        "spark = SparkSession.builder \\\n",
        "    .master(\"local[*]\") \\\n",
        "    .config(\"spark.executor.memory\", \"8g\") \\\n",
        "    .config(\"spark.driver.memory\", \"4g\") \\\n",
        "    .config(\"spark.sql.shuffle.partitions\", \"4\") \\\n",
        "    .getOrCreate()\n",
        "spark"
      ],
      "metadata": {
        "id": "xyZ254OqyNvs",
        "outputId": "3549672f-bd04-441c-a1e3-3fd0cc4dc021",
        "colab": {
          "base_uri": "https://localhost:8080/",
          "height": 219
        }
      },
      "execution_count": 10,
      "outputs": [
        {
          "output_type": "execute_result",
          "data": {
            "text/plain": [
              "<pyspark.sql.session.SparkSession at 0x7dea50095d80>"
            ],
            "text/html": [
              "\n",
              "            <div>\n",
              "                <p><b>SparkSession - in-memory</b></p>\n",
              "                \n",
              "        <div>\n",
              "            <p><b>SparkContext</b></p>\n",
              "\n",
              "            <p><a href=\"http://c14d4f3907bb:4040\">Spark UI</a></p>\n",
              "\n",
              "            <dl>\n",
              "              <dt>Version</dt>\n",
              "                <dd><code>v3.5.2</code></dd>\n",
              "              <dt>Master</dt>\n",
              "                <dd><code>local[*]</code></dd>\n",
              "              <dt>AppName</dt>\n",
              "                <dd><code>pyspark-shell</code></dd>\n",
              "            </dl>\n",
              "        </div>\n",
              "        \n",
              "            </div>\n",
              "        "
            ]
          },
          "metadata": {},
          "execution_count": 10
        }
      ]
    },
    {
      "cell_type": "code",
      "source": [
        "# Define the schema for the nested JSON structure\n",
        "schema = StructType([\n",
        "    StructField(\"Siri\", StructType([\n",
        "        StructField(\"@version\", StringType(), True),\n",
        "        StructField(\"@xmlns\", StringType(), True),\n",
        "        StructField(\"ResponseTimestamp\", StringType(), True),\n",
        "        StructField(\"VehicleMonitoringDelivery\", StructType([\n",
        "            StructField(\"@version\", StringType(), True),\n",
        "            StructField(\"ResponseTimestamp\", StringType(), True),\n",
        "            StructField(\"ValidUntil\", StringType(), True),\n",
        "            StructField(\"VehicleActivity\", StructType([\n",
        "                StructField(\"RecordedAtTime\", StringType(), True),\n",
        "                StructField(\"MonitoredVehicleJourney\", ArrayType(StructType([\n",
        "                    StructField(\"LineRef\", StringType(), True),\n",
        "                    StructField(\"DirectionRef\", StringType(), True),\n",
        "                    StructField(\"FramedVehicleJourneyRef\", StructType([\n",
        "                        StructField(\"DataFrameRef\", StringType(), True),\n",
        "                        StructField(\"DatedVehicleJourneyRef\", StringType(), True)\n",
        "                    ]), True),\n",
        "                    StructField(\"PublishedLineName\", StringType(), True),\n",
        "                    StructField(\"OriginRef\", StringType(), True),\n",
        "                    StructField(\"DestinationRef\", StringType(), True),\n",
        "                    StructField(\"Monitored\", StringType(), True),\n",
        "                    StructField(\"VehicleLocation\", StructType([\n",
        "                        StructField(\"Longitude\", StringType(), True),\n",
        "                        StructField(\"Latitude\", StringType(), True)\n",
        "                    ]), True),\n",
        "                    StructField(\"ProgressRate\", StringType(), True),\n",
        "                    StructField(\"CourseOfJourneyRef\", StringType(), True),\n",
        "                    StructField(\"VehicleRef\", StringType(), True),\n",
        "                    StructField(\"MonitoredCall\", StructType([\n",
        "                        StructField(\"StopPointRef\", StringType(), True),\n",
        "                        StructField(\"VisitNumber\", StringType(), True),\n",
        "                        StructField(\"VehicleAtStop\", StringType(), True)\n",
        "                    ]), True),\n",
        "                    StructField(\"Extensions\", StructType([\n",
        "                        StructField(\"LastGPSFix\", StringType(), True),\n",
        "                        StructField(\"Scheduled\", StringType(), True),\n",
        "                        StructField(\"Bearing\", StringType(), True),\n",
        "                        StructField(\"Speed\", StringType(), True),\n",
        "                        StructField(\"DestinationName\", StringType(), True)\n",
        "                    ]), True)\n",
        "                ])), True)\n",
        "            ]), True)\n",
        "        ]), True)\n",
        "    ]), True)\n",
        "])"
      ],
      "metadata": {
        "id": "oBQezSWuzjT-"
      },
      "execution_count": 32,
      "outputs": []
    },
    {
      "cell_type": "code",
      "source": [
        "@timing_decorator\n",
        "def read_json():\n",
        "  df = spark.read.option(\"wholeFile\", True) \\\n",
        "  .schema(schema) \\\n",
        "  .json(\"/content/json_dumps/*.json\") \\\n",
        "  .repartition(100)\n",
        "  return df\n",
        "\n",
        "df = read_json().persist()\n",
        "df.show(5)"
      ],
      "metadata": {
        "id": "CuJRPFQBzVnC",
        "outputId": "0f906355-f5ec-4c5d-93a4-060458d34ca3",
        "colab": {
          "base_uri": "https://localhost:8080/"
        }
      },
      "execution_count": 33,
      "outputs": [
        {
          "output_type": "stream",
          "name": "stdout",
          "text": [
            "Function 'read_json' took 58.5894 seconds to execute.\n",
            "+--------------------+\n",
            "|                Siri|\n",
            "+--------------------+\n",
            "|{1.3, http://www....|\n",
            "|{1.3, http://www....|\n",
            "|{1.3, http://www....|\n",
            "|{1.3, http://www....|\n",
            "|{1.3, http://www....|\n",
            "+--------------------+\n",
            "only showing top 5 rows\n",
            "\n"
          ]
        }
      ]
    },
    {
      "cell_type": "code",
      "source": [
        "df.select(\"Siri.VehicleMonitoringDelivery.VehicleActivity.MonitoredVehicleJourney.Extensions\").show(5, False)"
      ],
      "metadata": {
        "colab": {
          "base_uri": "https://localhost:8080/"
        },
        "id": "2autZFX7xre5",
        "outputId": "708e87c8-e15e-4f98-f524-ac02a5bb91b5"
      },
      "execution_count": 37,
      "outputs": [
        {
          "output_type": "stream",
          "name": "stdout",
          "text": [
            "+--------------------------------------------------------------------------------------------------------------------------------------------------------------------------------------------------------------------------------------------------------------------------------------------------------------------------------------------------------------------------------------------------------------------------------------------------------------------------------------------------------------------------------------------------------------------------------------------------------------------------------------------------------------------------------------------------------------------------------------------------------------------------------------------------------------------------------------------------------------------------------------------------------------------------------------------------------------------------------------------------------------------------------------------------------------------------------------------------------+\n",
            "|Extensions                                                                                                                                                                                                                                                                                                                                                                                                                                                                                                                                                                                                                                                                                                                                                                                                                                                                                                                                                                                                                                                                                              |\n",
            "+--------------------------------------------------------------------------------------------------------------------------------------------------------------------------------------------------------------------------------------------------------------------------------------------------------------------------------------------------------------------------------------------------------------------------------------------------------------------------------------------------------------------------------------------------------------------------------------------------------------------------------------------------------------------------------------------------------------------------------------------------------------------------------------------------------------------------------------------------------------------------------------------------------------------------------------------------------------------------------------------------------------------------------------------------------------------------------------------------------+\n",
            "|[{2024-08-13T11:00:40.4, False, 128.8, 0, Ogden via Weber State}, {2024-08-13T11:00:39.66, False, 210.6, 8.5159200000000013, U of U (Research Park)}, {2024-08-13T11:00:42.277, False, 137.9, 42.809760000000004, U of U (Research Park)}, {2024-08-13T11:00:42.92, False, 265.6, 16.22628, Ogden via Weber State}, {2024-08-13T11:00:37.41, False, 358.8, 16.22628, Ogden via Weber State}, {2024-08-13T11:00:39.25, False, 297, 15.996120000000001, Ogden via Weber State}, {2024-08-13T11:00:46.973, False, 270.5, 17.37708, Ogden via Weber State}, {2024-08-13T11:00:43.51, False, 100.4, 8.74608, U of U (Research Park)}, {2024-08-13T11:00:47.193, False, 130.9, 0.11508000000000002, Ogden via Weber State}, {2024-08-13T11:00:46.973, False, 179.8, 29.3454, U of U (Research Park)}, {2024-08-13T11:00:41.683, False, 88.7, 0, U of U (Research Park)}, {2024-08-13T11:00:33.107, False, 173.7, 3.33732, U of U (Research Park)}, {2024-08-13T11:00:37.753, False, 303.5, 30.72636, Ogden via Weber State}, {2024-08-13T11:00:39.787, False, 1.2, 34.063680000000005, Ogden via Weber State}]|\n",
            "|[{2024-08-13T11:05:41.123, False, 128.8, 0, Ogden via Weber State}, {2024-08-13T11:05:39.743, False, 153.9, 29.80572, U of U (Research Park)}, {2024-08-13T11:05:42.35, False, 89.5, 0.11508000000000002, U of U (Research Park)}, {2024-08-13T11:05:43.813, False, 224.2, 64.32972, Ogden via Weber State}, {2024-08-13T11:05:37.557, False, 2.5, 0, U of U (Research Park)}, {2024-08-13T11:05:39.493, False, 323, 28.42476, Ogden via Weber State}, {2024-08-13T11:05:37.043, False, 335.9, 40.393080000000005, Ogden via Weber State}, {2024-08-13T11:05:43.627, False, 310.5, 12.083400000000001, U of U (Research Park)}, {2024-08-13T11:05:37.37, False, 130.9, 0, Ogden via Weber State}, {2024-08-13T11:05:37.213, False, 259.6, 19.5636, U of U (Research Park)}, {2024-08-13T11:05:41.83, False, 180.3, 20.139, U of U (Research Park)}, {2024-08-13T11:05:43.147, False, 110.1, 0, U of U (Research Park)}, {2024-08-13T11:05:37.777, False, 345.9, 26.92872, Ogden via Weber State}, {2024-08-13T11:05:39.837, False, 349.8, 35.674800000000005, Ogden via Weber State}]                   |\n",
            "|[{2024-08-13T11:01:40.377, False, 128.8, 0, Ogden via Weber State}, {2024-08-13T11:01:39.72, False, 141, 37.63116, U of U (Research Park)}, {2024-08-13T11:01:42.313, False, 180.1, 36.13512, U of U (Research Park)}, {2024-08-13T11:01:43.003, False, 264.5, 38.43672, Ogden via Weber State}, {2024-08-13T11:01:37.447, False, 1.3, 27.6192, Ogden via Weber State}, {2024-08-13T11:01:39.36, False, 17.9, 33.25812, Ogden via Weber State}, {2024-08-13T11:01:36.9, False, 270.1, 4.48812, Ogden via Weber State}, {2024-08-13T11:01:43.753, False, 323.2, 29.80572, U of U (Research Park)}, {2024-08-13T11:01:37.133, False, 130.9, 0, Ogden via Weber State}, {2024-08-13T11:01:37.167, False, 136.8, 13.46436, U of U (Research Park)}, {2024-08-13T11:01:41.72, False, 90.2, 22.78584, U of U (Research Park)}, {2024-08-13T11:01:43.173, False, 181.1, 35.55972, U of U (Research Park)}, {2024-08-13T11:01:38.827, False, 286.4, 29.00016, Ogden via Weber State}, {2024-08-13T11:01:40.767, False, 0.1, 30.611280000000004, Ogden via Weber State}]                                         |\n",
            "|[{2024-08-13T11:15:20.57, False, 357.9, 33.60336, Ogden via Weber State}, {2024-08-13T11:15:20.227, False, 302.3, 16.22628, U of U (Research Park)}, {2024-08-13T11:15:12.507, False, 89.7, 21.51996, U of U (Research Park)}, {2024-08-13T11:15:13.193, False, 182.7, 64.32972, Ogden via Weber State}, {2024-08-13T11:15:17.697, False, 2.5, 0, U of U (Research Park)}, {2024-08-13T11:15:19.54, False, 0.3, 0, Ogden via Weber State}, {2024-08-13T11:15:18.41, False, 52.2, 12.77388, Ogden via Weber State}, {2024-08-13T11:15:13.753, False, 270.7, 19.44852, U of U (Research Park)}, {2024-08-13T11:15:17.43, False, 130.9, 0, Ogden via Weber State}, {2024-08-13T11:15:17.337, False, 188.7, 47.412960000000005, U of U (Research Park)}, {2024-08-13T11:15:11.893, False, 203.7, 28.07952, U of U (Research Park)}, {2024-08-13T11:15:13.347, False, 186.3, 6.2143200000000007, U of U (Research Park)}, {2024-08-13T11:15:17.93, False, 272.7, 10.9326, Ogden via Weber State}, {2024-08-13T11:15:20.227, False, 269.9, 33.14304, Ogden via Weber State}]                                  |\n",
            "|[{2024-08-13T10:47:50.23, False, 128.8, 0.11508000000000002, Ogden via Weber State}, {2024-08-13T10:47:49.533, False, 171.7, 38.321639999999995, U of U (Research Park)}, {2024-08-13T10:47:52.077, False, 195.2, 27.734280000000002, U of U (Research Park)}, {2024-08-13T10:47:47.153, False, 2.3, 38.091480000000004, Ogden via Weber State}, {2024-08-13T10:47:49.01, False, 41, 22.555680000000002, Ogden via Weber State}, {2024-08-13T10:47:46.653, False, 269.5, 24.857280000000003, Ogden via Weber State}, {2024-08-13T10:47:53.313, False, 90.2, 0.11508000000000002, U of U (Research Park)}, {2024-08-13T10:47:47.027, False, 130.9, 0.11508000000000002, Ogden via Weber State}, {2024-08-13T10:47:46.777, False, 91.4, 21.8652, U of U (Research Park)}, {2024-08-13T10:47:51.607, False, 220, 33.48828, U of U (Research Park)}, {2024-08-13T10:47:52.73, False, 1.2, 0, U of U (Research Park)}, {2024-08-13T10:47:47.497, False, 282, 13.11912, Ogden via Weber State}, {2024-08-13T10:47:49.533, False, 53.8, 0, Ogden via Weber State}]                                             |\n",
            "+--------------------------------------------------------------------------------------------------------------------------------------------------------------------------------------------------------------------------------------------------------------------------------------------------------------------------------------------------------------------------------------------------------------------------------------------------------------------------------------------------------------------------------------------------------------------------------------------------------------------------------------------------------------------------------------------------------------------------------------------------------------------------------------------------------------------------------------------------------------------------------------------------------------------------------------------------------------------------------------------------------------------------------------------------------------------------------------------------------+\n",
            "only showing top 5 rows\n",
            "\n"
          ]
        }
      ]
    }
  ]
}