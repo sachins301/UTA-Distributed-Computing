{
  "nbformat": 4,
  "nbformat_minor": 0,
  "metadata": {
    "colab": {
      "provenance": [],
      "authorship_tag": "ABX9TyPqtL4D4pvUuQ0BVAldZh2e",
      "include_colab_link": true
    },
    "kernelspec": {
      "name": "python3",
      "display_name": "Python 3"
    },
    "language_info": {
      "name": "python"
    }
  },
  "cells": [
    {
      "cell_type": "markdown",
      "metadata": {
        "id": "view-in-github",
        "colab_type": "text"
      },
      "source": [
        "<a href=\"https://colab.research.google.com/github/sachins301/UTA-Distributed-Computing/blob/main/UTA_Spark_Processing.ipynb\" target=\"_parent\"><img src=\"https://colab.research.google.com/assets/colab-badge.svg\" alt=\"Open In Colab\"/></a>"
      ]
    },
    {
      "cell_type": "markdown",
      "source": [
        "Installing Spark and dependencies"
      ],
      "metadata": {
        "id": "hOVGMW4OUefO"
      }
    },
    {
      "cell_type": "code",
      "execution_count": 1,
      "metadata": {
        "id": "SEAKx8SJHnJ4"
      },
      "outputs": [],
      "source": [
        "!apt-get install openjdk-8-jdk-headless -qq > /dev/null\n",
        "!wget -q http://archive.apache.org/dist/spark/spark-3.5.2/spark-3.5.2-bin-hadoop3.tgz\n",
        "!tar xf spark-3.5.2-bin-hadoop3.tgz\n",
        "!pip install -q findspark"
      ]
    },
    {
      "cell_type": "code",
      "source": [
        "import os\n",
        "os.environ[\"JAVA_HOME\"] = \"/usr/lib/jvm/java-8-openjdk-amd64\"\n",
        "os.environ[\"SPARK_HOME\"] = \"/content/spark-3.5.2-bin-hadoop3\""
      ],
      "metadata": {
        "id": "EyYko10_U4FR"
      },
      "execution_count": 24,
      "outputs": []
    },
    {
      "cell_type": "code",
      "source": [
        "import findspark\n",
        "findspark.init()\n",
        "from pyspark.sql import SparkSession\n",
        "spark = SparkSession.builder.master(\"local[*]\").getOrCreate()\n",
        "spark.conf.set(\"spark.sql.repl.eagerEval.enabled\", True) # Property used to format output tables better\n",
        "spark"
      ],
      "metadata": {
        "id": "Xh_EivEKWjaX",
        "outputId": "55fe5ba1-c254-4c68-b38b-8c3c640b932f",
        "colab": {
          "base_uri": "https://localhost:8080/",
          "height": 219
        }
      },
      "execution_count": 23,
      "outputs": [
        {
          "output_type": "execute_result",
          "data": {
            "text/plain": [
              "<pyspark.sql.session.SparkSession at 0x7f580811e350>"
            ],
            "text/html": [
              "\n",
              "            <div>\n",
              "                <p><b>SparkSession - in-memory</b></p>\n",
              "                \n",
              "        <div>\n",
              "            <p><b>SparkContext</b></p>\n",
              "\n",
              "            <p><a href=\"http://9461d9ee7562:4040\">Spark UI</a></p>\n",
              "\n",
              "            <dl>\n",
              "              <dt>Version</dt>\n",
              "                <dd><code>v3.5.2</code></dd>\n",
              "              <dt>Master</dt>\n",
              "                <dd><code>local[*]</code></dd>\n",
              "              <dt>AppName</dt>\n",
              "                <dd><code>pyspark-shell</code></dd>\n",
              "            </dl>\n",
              "        </div>\n",
              "        \n",
              "            </div>\n",
              "        "
            ]
          },
          "metadata": {},
          "execution_count": 23
        }
      ]
    },
    {
      "cell_type": "code",
      "source": [
        "# Unpack the json dump\n",
        "import shutil\n",
        "shutil.unpack_archive('/content/json_dumps.zip', '/content/json_dumps/')"
      ],
      "metadata": {
        "id": "RYzMbOAGhEol"
      },
      "execution_count": 4,
      "outputs": []
    },
    {
      "cell_type": "code",
      "source": [
        "import time\n",
        "def timing_decorator(func):\n",
        "    def wrapper(*args, **kwargs):\n",
        "        start_time = time.time()  # Start time\n",
        "        result = func(*args, **kwargs)\n",
        "        end_time = time.time()  # End time\n",
        "        elapsed_time = end_time - start_time\n",
        "        print(f\"Function '{func.__name__}' took {elapsed_time:.4f} seconds to execute.\")\n",
        "        return result\n",
        "    return wrapper"
      ],
      "metadata": {
        "id": "-j1yVQkPqS0R"
      },
      "execution_count": 6,
      "outputs": []
    },
    {
      "cell_type": "code",
      "source": [
        "# prompt: write a spark code to read jsons into a dataframe\n",
        "@timing_decorator\n",
        "def read_json():\n",
        "  df = spark.read.json(\"/content/json_dumps/*.json\")\n",
        "  return df\n",
        "\n",
        "df = read_json()\n",
        "df.show(5)"
      ],
      "metadata": {
        "id": "tb0U2okvh86L",
        "outputId": "bf4908c2-8ce1-490e-8fba-f7b085deca4e",
        "colab": {
          "base_uri": "https://localhost:8080/"
        }
      },
      "execution_count": 7,
      "outputs": [
        {
          "output_type": "stream",
          "name": "stdout",
          "text": [
            "Function 'read_json' took 144.7838 seconds to execute.\n",
            "+--------------------+\n",
            "|                Siri|\n",
            "+--------------------+\n",
            "|{1.3, http://www....|\n",
            "|{1.3, http://www....|\n",
            "|{1.3, http://www....|\n",
            "|{1.3, http://www....|\n",
            "|{1.3, http://www....|\n",
            "+--------------------+\n",
            "only showing top 5 rows\n",
            "\n"
          ]
        }
      ]
    },
    {
      "cell_type": "code",
      "source": [
        "@timing_decorator\n",
        "def read_json():\n",
        "  df = spark.read.json(\"/content/json_dumps/*.json\").repartition(100)\n",
        "  return df\n",
        "\n",
        "df = read_json()\n",
        "df.show(5)\n"
      ],
      "metadata": {
        "id": "2cmfvEhdpCEB",
        "outputId": "c8707e23-9a11-4979-d2b2-9e32b902db4b",
        "colab": {
          "base_uri": "https://localhost:8080/"
        }
      },
      "execution_count": 8,
      "outputs": [
        {
          "output_type": "stream",
          "name": "stdout",
          "text": [
            "Function 'read_json' took 144.8710 seconds to execute.\n",
            "+--------------------+\n",
            "|                Siri|\n",
            "+--------------------+\n",
            "|{1.3, http://www....|\n",
            "|{1.3, http://www....|\n",
            "|{1.3, http://www....|\n",
            "|{1.3, http://www....|\n",
            "|{1.3, http://www....|\n",
            "+--------------------+\n",
            "only showing top 5 rows\n",
            "\n"
          ]
        }
      ]
    },
    {
      "cell_type": "code",
      "source": [
        "@timing_decorator\n",
        "def read_json():\n",
        "  df = spark.read.option(\"wholeFile\", True).json(\"/content/json_dumps/*.json\").repartition(100)\n",
        "  return df\n",
        "\n",
        "df = read_json()\n",
        "df.show(5)"
      ],
      "metadata": {
        "id": "F2Ygm8iJwDro",
        "outputId": "24e71d50-9dfb-4091-d512-cea3d210cc48",
        "colab": {
          "base_uri": "https://localhost:8080/"
        }
      },
      "execution_count": 9,
      "outputs": [
        {
          "output_type": "stream",
          "name": "stdout",
          "text": [
            "Function 'read_json' took 138.6985 seconds to execute.\n",
            "+--------------------+\n",
            "|                Siri|\n",
            "+--------------------+\n",
            "|{1.3, http://www....|\n",
            "|{1.3, http://www....|\n",
            "|{1.3, http://www....|\n",
            "|{1.3, http://www....|\n",
            "|{1.3, http://www....|\n",
            "+--------------------+\n",
            "only showing top 5 rows\n",
            "\n"
          ]
        }
      ]
    },
    {
      "cell_type": "code",
      "source": [
        "@timing_decorator\n",
        "def read_json():\n",
        "  df = spark.read \\\n",
        "            .option(\"wholeFile\", True) \\\n",
        "            .json(\"/content/json_dumps/*.json\").repartition(100) \\\n",
        "            .coalesce(10)\n",
        "  return df\n",
        "\n",
        "df = read_json()\n",
        "df.show(5)"
      ],
      "metadata": {
        "id": "BYBHyxVjwNTB",
        "outputId": "dbffeec2-02e2-46da-82c5-bdf4bb04ce5b",
        "colab": {
          "base_uri": "https://localhost:8080/"
        }
      },
      "execution_count": 10,
      "outputs": [
        {
          "output_type": "stream",
          "name": "stdout",
          "text": [
            "Function 'read_json' took 140.0999 seconds to execute.\n",
            "+--------------------+\n",
            "|                Siri|\n",
            "+--------------------+\n",
            "|{1.3, http://www....|\n",
            "|{1.3, http://www....|\n",
            "|{1.3, http://www....|\n",
            "|{1.3, http://www....|\n",
            "|{1.3, http://www....|\n",
            "+--------------------+\n",
            "only showing top 5 rows\n",
            "\n"
          ]
        }
      ]
    },
    {
      "cell_type": "code",
      "source": [
        "spark = SparkSession.builder \\\n",
        "    .master(\"local[2]\") \\\n",
        "    .config(\"spark.executor.memory\", \"5g\") \\\n",
        "    .config(\"spark.driver.memory\", \"3g\") \\\n",
        "    .config(\"spark.sql.shuffle.partitions\", \"4\") \\\n",
        "    .getOrCreate()\n",
        "spark"
      ],
      "metadata": {
        "id": "xyZ254OqyNvs",
        "outputId": "d832c498-5af3-4272-e8c7-dc2256a8e6ba",
        "colab": {
          "base_uri": "https://localhost:8080/",
          "height": 219
        }
      },
      "execution_count": 28,
      "outputs": [
        {
          "output_type": "execute_result",
          "data": {
            "text/plain": [
              "<pyspark.sql.session.SparkSession at 0x7f580811e350>"
            ],
            "text/html": [
              "\n",
              "            <div>\n",
              "                <p><b>SparkSession - in-memory</b></p>\n",
              "                \n",
              "        <div>\n",
              "            <p><b>SparkContext</b></p>\n",
              "\n",
              "            <p><a href=\"http://9461d9ee7562:4040\">Spark UI</a></p>\n",
              "\n",
              "            <dl>\n",
              "              <dt>Version</dt>\n",
              "                <dd><code>v3.5.2</code></dd>\n",
              "              <dt>Master</dt>\n",
              "                <dd><code>local[*]</code></dd>\n",
              "              <dt>AppName</dt>\n",
              "                <dd><code>pyspark-shell</code></dd>\n",
              "            </dl>\n",
              "        </div>\n",
              "        \n",
              "            </div>\n",
              "        "
            ]
          },
          "metadata": {},
          "execution_count": 28
        }
      ]
    },
    {
      "cell_type": "code",
      "source": [
        "@timing_decorator\n",
        "def read_json():\n",
        "  df = spark.read.option(\"wholeFile\", True).json(\"/content/json_dumps/*.json\").repartition(100)\n",
        "  return df\n",
        "\n",
        "df = read_json()\n",
        "df.show(5)"
      ],
      "metadata": {
        "id": "CuJRPFQBzVnC",
        "outputId": "63376b5f-b99e-40c3-b535-f332c1aeffcc",
        "colab": {
          "base_uri": "https://localhost:8080/"
        }
      },
      "execution_count": 29,
      "outputs": [
        {
          "output_type": "stream",
          "name": "stdout",
          "text": [
            "Function 'read_json' took 140.2951 seconds to execute.\n",
            "+--------------------+\n",
            "|                Siri|\n",
            "+--------------------+\n",
            "|{1.3, http://www....|\n",
            "|{1.3, http://www....|\n",
            "|{1.3, http://www....|\n",
            "|{1.3, http://www....|\n",
            "|{1.3, http://www....|\n",
            "+--------------------+\n",
            "only showing top 5 rows\n",
            "\n"
          ]
        }
      ]
    }
  ]
}