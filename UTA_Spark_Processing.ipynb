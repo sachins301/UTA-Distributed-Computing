{
  "nbformat": 4,
  "nbformat_minor": 0,
  "metadata": {
    "colab": {
      "provenance": [],
      "authorship_tag": "ABX9TyNJTefpoBYNO4YvDkJ4i+uW",
      "include_colab_link": true
    },
    "kernelspec": {
      "name": "python3",
      "display_name": "Python 3"
    },
    "language_info": {
      "name": "python"
    }
  },
  "cells": [
    {
      "cell_type": "markdown",
      "metadata": {
        "id": "view-in-github",
        "colab_type": "text"
      },
      "source": [
        "<a href=\"https://colab.research.google.com/github/sachins301/UTA-Distributed-Computing/blob/main/UTA_Spark_Processing.ipynb\" target=\"_parent\"><img src=\"https://colab.research.google.com/assets/colab-badge.svg\" alt=\"Open In Colab\"/></a>"
      ]
    },
    {
      "cell_type": "markdown",
      "source": [
        "Installing Spark and dependencies"
      ],
      "metadata": {
        "id": "hOVGMW4OUefO"
      }
    },
    {
      "cell_type": "code",
      "execution_count": 1,
      "metadata": {
        "id": "SEAKx8SJHnJ4"
      },
      "outputs": [],
      "source": [
        "!apt-get install openjdk-8-jdk-headless -qq > /dev/null\n",
        "!wget -q http://archive.apache.org/dist/spark/spark-3.5.2/spark-3.5.2-bin-hadoop3.tgz\n",
        "!tar xf spark-3.5.2-bin-hadoop3.tgz\n",
        "!pip install -q findspark"
      ]
    },
    {
      "cell_type": "code",
      "source": [
        "import os\n",
        "os.environ[\"JAVA_HOME\"] = \"/usr/lib/jvm/java-8-openjdk-amd64\"\n",
        "os.environ[\"SPARK_HOME\"] = \"/content/spark-3.5.2-bin-hadoop3\""
      ],
      "metadata": {
        "id": "EyYko10_U4FR"
      },
      "execution_count": 3,
      "outputs": []
    },
    {
      "cell_type": "code",
      "source": [
        "import findspark\n",
        "findspark.init()\n",
        "from pyspark.sql import SparkSession\n",
        "from pyspark.sql.types import StructType, StructField, StringType, DoubleType, ArrayType, BooleanType\n",
        "import json"
      ],
      "metadata": {
        "id": "Xh_EivEKWjaX"
      },
      "execution_count": 26,
      "outputs": []
    },
    {
      "cell_type": "code",
      "source": [
        "spark = SparkSession.builder.master(\"local[*]\").getOrCreate()\n",
        "spark.conf.set(\"spark.sql.repl.eagerEval.enabled\", True) # Property used to format output tables better\n",
        "spark"
      ],
      "metadata": {
        "id": "1GECEtoIrkMP"
      },
      "execution_count": null,
      "outputs": []
    },
    {
      "cell_type": "code",
      "source": [
        "# Unpack the json dump\n",
        "import shutil\n",
        "shutil.unpack_archive('/content/json_dumps.zip', '/content/json_dumps/')"
      ],
      "metadata": {
        "id": "RYzMbOAGhEol"
      },
      "execution_count": 5,
      "outputs": []
    },
    {
      "cell_type": "code",
      "source": [
        "import time\n",
        "def timing_decorator(func):\n",
        "    def wrapper(*args, **kwargs):\n",
        "        start_time = time.time()  # Start time\n",
        "        result = func(*args, **kwargs)\n",
        "        end_time = time.time()  # End time\n",
        "        elapsed_time = end_time - start_time\n",
        "        print(f\"Function '{func.__name__}' took {elapsed_time:.4f} seconds to execute.\")\n",
        "        return result\n",
        "    return wrapper"
      ],
      "metadata": {
        "id": "-j1yVQkPqS0R"
      },
      "execution_count": 6,
      "outputs": []
    },
    {
      "cell_type": "code",
      "source": [
        "# prompt: write a spark code to read jsons into a dataframe\n",
        "@timing_decorator\n",
        "def read_json():\n",
        "  df = spark.read.json(\"/content/json_dumps/*.json\")\n",
        "  return df\n",
        "\n",
        "df = read_json()\n",
        "df.show(5)"
      ],
      "metadata": {
        "id": "tb0U2okvh86L",
        "outputId": "bf4908c2-8ce1-490e-8fba-f7b085deca4e",
        "colab": {
          "base_uri": "https://localhost:8080/"
        }
      },
      "execution_count": null,
      "outputs": [
        {
          "output_type": "stream",
          "name": "stdout",
          "text": [
            "Function 'read_json' took 144.7838 seconds to execute.\n",
            "+--------------------+\n",
            "|                Siri|\n",
            "+--------------------+\n",
            "|{1.3, http://www....|\n",
            "|{1.3, http://www....|\n",
            "|{1.3, http://www....|\n",
            "|{1.3, http://www....|\n",
            "|{1.3, http://www....|\n",
            "+--------------------+\n",
            "only showing top 5 rows\n",
            "\n"
          ]
        }
      ]
    },
    {
      "cell_type": "code",
      "source": [
        "@timing_decorator\n",
        "def read_json():\n",
        "  df = spark.read.json(\"/content/json_dumps/*.json\").repartition(100)\n",
        "  return df\n",
        "\n",
        "df = read_json()\n",
        "df.show(5)\n"
      ],
      "metadata": {
        "id": "2cmfvEhdpCEB",
        "outputId": "c8707e23-9a11-4979-d2b2-9e32b902db4b",
        "colab": {
          "base_uri": "https://localhost:8080/"
        }
      },
      "execution_count": null,
      "outputs": [
        {
          "output_type": "stream",
          "name": "stdout",
          "text": [
            "Function 'read_json' took 144.8710 seconds to execute.\n",
            "+--------------------+\n",
            "|                Siri|\n",
            "+--------------------+\n",
            "|{1.3, http://www....|\n",
            "|{1.3, http://www....|\n",
            "|{1.3, http://www....|\n",
            "|{1.3, http://www....|\n",
            "|{1.3, http://www....|\n",
            "+--------------------+\n",
            "only showing top 5 rows\n",
            "\n"
          ]
        }
      ]
    },
    {
      "cell_type": "code",
      "source": [
        "@timing_decorator\n",
        "def read_json():\n",
        "  df = spark.read.option(\"wholeFile\", True).json(\"/content/json_dumps/*.json\").repartition(100)\n",
        "  return df\n",
        "\n",
        "df = read_json()\n",
        "df.show(5)"
      ],
      "metadata": {
        "id": "F2Ygm8iJwDro",
        "outputId": "24e71d50-9dfb-4091-d512-cea3d210cc48",
        "colab": {
          "base_uri": "https://localhost:8080/"
        }
      },
      "execution_count": null,
      "outputs": [
        {
          "output_type": "stream",
          "name": "stdout",
          "text": [
            "Function 'read_json' took 138.6985 seconds to execute.\n",
            "+--------------------+\n",
            "|                Siri|\n",
            "+--------------------+\n",
            "|{1.3, http://www....|\n",
            "|{1.3, http://www....|\n",
            "|{1.3, http://www....|\n",
            "|{1.3, http://www....|\n",
            "|{1.3, http://www....|\n",
            "+--------------------+\n",
            "only showing top 5 rows\n",
            "\n"
          ]
        }
      ]
    },
    {
      "cell_type": "code",
      "source": [
        "@timing_decorator\n",
        "def read_json():\n",
        "  df = spark.read \\\n",
        "            .option(\"wholeFile\", True) \\\n",
        "            .json(\"/content/json_dumps/*.json\").repartition(100) \\\n",
        "            .coalesce(10)\n",
        "  return df\n",
        "\n",
        "df = read_json()\n",
        "df.show(5)"
      ],
      "metadata": {
        "id": "BYBHyxVjwNTB",
        "outputId": "dbffeec2-02e2-46da-82c5-bdf4bb04ce5b",
        "colab": {
          "base_uri": "https://localhost:8080/"
        }
      },
      "execution_count": null,
      "outputs": [
        {
          "output_type": "stream",
          "name": "stdout",
          "text": [
            "Function 'read_json' took 140.0999 seconds to execute.\n",
            "+--------------------+\n",
            "|                Siri|\n",
            "+--------------------+\n",
            "|{1.3, http://www....|\n",
            "|{1.3, http://www....|\n",
            "|{1.3, http://www....|\n",
            "|{1.3, http://www....|\n",
            "|{1.3, http://www....|\n",
            "+--------------------+\n",
            "only showing top 5 rows\n",
            "\n"
          ]
        }
      ]
    },
    {
      "cell_type": "code",
      "source": [
        "spark.stop()\n",
        "spark = SparkSession.builder \\\n",
        "    .master(\"local[*]\") \\\n",
        "    .config(\"spark.executor.memory\", \"8g\") \\\n",
        "    .config(\"spark.driver.memory\", \"4g\") \\\n",
        "    .config(\"spark.sql.shuffle.partitions\", \"4\") \\\n",
        "    .getOrCreate()\n",
        "spark"
      ],
      "metadata": {
        "id": "xyZ254OqyNvs",
        "outputId": "3549672f-bd04-441c-a1e3-3fd0cc4dc021",
        "colab": {
          "base_uri": "https://localhost:8080/",
          "height": 219
        }
      },
      "execution_count": 10,
      "outputs": [
        {
          "output_type": "execute_result",
          "data": {
            "text/plain": [
              "<pyspark.sql.session.SparkSession at 0x7dea50095d80>"
            ],
            "text/html": [
              "\n",
              "            <div>\n",
              "                <p><b>SparkSession - in-memory</b></p>\n",
              "                \n",
              "        <div>\n",
              "            <p><b>SparkContext</b></p>\n",
              "\n",
              "            <p><a href=\"http://c14d4f3907bb:4040\">Spark UI</a></p>\n",
              "\n",
              "            <dl>\n",
              "              <dt>Version</dt>\n",
              "                <dd><code>v3.5.2</code></dd>\n",
              "              <dt>Master</dt>\n",
              "                <dd><code>local[*]</code></dd>\n",
              "              <dt>AppName</dt>\n",
              "                <dd><code>pyspark-shell</code></dd>\n",
              "            </dl>\n",
              "        </div>\n",
              "        \n",
              "            </div>\n",
              "        "
            ]
          },
          "metadata": {},
          "execution_count": 10
        }
      ]
    },
    {
      "cell_type": "code",
      "source": [
        "# Define the schema for the nested JSON structure\n",
        "schema = StructType([\n",
        "    StructField(\"Siri\", StructType([\n",
        "        StructField(\"@version\", StringType(), True),\n",
        "        StructField(\"@xmlns\", StringType(), True),\n",
        "        StructField(\"ResponseTimestamp\", StringType(), True),\n",
        "        StructField(\"VehicleMonitoringDelivery\", StructType([\n",
        "            StructField(\"@version\", StringType(), True),\n",
        "            StructField(\"ResponseTimestamp\", StringType(), True),\n",
        "            StructField(\"ValidUntil\", StringType(), True),\n",
        "            StructField(\"VehicleActivity\", StructType([\n",
        "                StructField(\"RecordedAtTime\", StringType(), True),\n",
        "                StructField(\"MonitoredVehicleJourney\", ArrayType(StructType([\n",
        "                    StructField(\"LineRef\", StringType(), True),\n",
        "                    StructField(\"DirectionRef\", StringType(), True),\n",
        "                    StructField(\"FramedVehicleJourneyRef\", StructType([\n",
        "                        StructField(\"DataFrameRef\", StringType(), True),\n",
        "                        StructField(\"DatedVehicleJourneyRef\", StringType(), True)\n",
        "                    ]), True),\n",
        "                    StructField(\"PublishedLineName\", StringType(), True),\n",
        "                    StructField(\"OriginRef\", StringType(), True),\n",
        "                    StructField(\"DestinationRef\", StringType(), True),\n",
        "                    StructField(\"Monitored\", StringType(), True),\n",
        "                    StructField(\"VehicleLocation\", StructType([\n",
        "                        StructField(\"Longitude\", StringType(), True),\n",
        "                        StructField(\"Latitude\", StringType(), True)\n",
        "                    ]), True),\n",
        "                    StructField(\"ProgressRate\", StringType(), True),\n",
        "                    StructField(\"CourseOfJourneyRef\", StringType(), True),\n",
        "                    StructField(\"VehicleRef\", StringType(), True),\n",
        "                    StructField(\"MonitoredCall\", StructType([\n",
        "                        StructField(\"StopPointRef\", StringType(), True),\n",
        "                        StructField(\"VisitNumber\", StringType(), True),\n",
        "                        StructField(\"VehicleAtStop\", StringType(), True)\n",
        "                    ]), True),\n",
        "                    StructField(\"Extensions\", StructType([\n",
        "                        StructField(\"LastGPSFix\", StringType(), True),\n",
        "                        StructField(\"Scheduled\", StringType(), True),\n",
        "                        StructField(\"Bearing\", StringType(), True),\n",
        "                        StructField(\"Speed\", StringType(), True),\n",
        "                        StructField(\"DestinationName\", StringType(), True)\n",
        "                    ]), True)\n",
        "                ])), True)\n",
        "            ]), True)\n",
        "        ]), True)\n",
        "    ]), True)\n",
        "])"
      ],
      "metadata": {
        "id": "oBQezSWuzjT-"
      },
      "execution_count": 32,
      "outputs": []
    },
    {
      "cell_type": "code",
      "source": [
        "@timing_decorator\n",
        "def read_json():\n",
        "  df = spark.read.option(\"wholeFile\", True) \\\n",
        "  .schema(schema) \\\n",
        "  .json(\"/content/json_dumps/*.json\") \\\n",
        "  .repartition(100)\n",
        "  return df\n",
        "\n",
        "df = read_json().persist()\n",
        "df.show(5)"
      ],
      "metadata": {
        "id": "CuJRPFQBzVnC",
        "outputId": "0f906355-f5ec-4c5d-93a4-060458d34ca3",
        "colab": {
          "base_uri": "https://localhost:8080/"
        }
      },
      "execution_count": 33,
      "outputs": [
        {
          "output_type": "stream",
          "name": "stdout",
          "text": [
            "Function 'read_json' took 58.5894 seconds to execute.\n",
            "+--------------------+\n",
            "|                Siri|\n",
            "+--------------------+\n",
            "|{1.3, http://www....|\n",
            "|{1.3, http://www....|\n",
            "|{1.3, http://www....|\n",
            "|{1.3, http://www....|\n",
            "|{1.3, http://www....|\n",
            "+--------------------+\n",
            "only showing top 5 rows\n",
            "\n"
          ]
        }
      ]
    },
    {
      "cell_type": "code",
      "source": [
        "df.select(\"Siri.VehicleMonitoringDelivery.VehicleActivity\").show(5, False)"
      ],
      "metadata": {
        "colab": {
          "base_uri": "https://localhost:8080/"
        },
        "id": "2autZFX7xre5",
        "outputId": "63c4d5ed-1bc3-406d-9a2a-ae51a4614d70"
      },
      "execution_count": 36,
      "outputs": [
        {
          "output_type": "stream",
          "name": "stdout",
          "text": [
            "+---------------------------------------------------------------------------------------------------------------------------------------------------------------------------------------------------------------------------------------------------------------------------------------------------------------------------------------------------------------------------------------------------------------------------------------------------------------------------------------------------------------------------------------------------------------------------------------------------------------------------------------------------------------------------------------------------------------------------------------------------------------------------------------------------------------------------------------------------------------------------------------------------------------------------------------------------------------------------------------------------------------------------------------------------------------------------------------------------------------------------------------------------------------------------------------------------------------------------------------------------------------------------------------------------------------------------------------------------------------------------------------------------------------------------------------------------------------------------------------------------------------------------------------------------------------------------------------------------------------------------------------------------------------------------------------------------------------------------------------------------------------------------------------------------------------------------------------------------------------------------------------------------------------------------------------------------------------------------------------------------------------------------------------------------------------------------------------------------------------------------------------------------------------------------------------------------------------------------------------------------------------------------------------------------------------------------------------------------------------------------------------------------------------------------------------------------------------------------------------------------------------------------------------------------------------------------------------------------------------------------------------------------------------------------------------------------------------------------------------------------------------------------------------------------------------------------------------------------------------------------------------------------------------------------------------------------------------------------------------------------------------------------------------------------------------------------------------------------------------------------------------------------------------------------------------------------------------------------------------------------------------------------------------------------------------------------------------------------------------------------------------------------------------------------------------------------------------------------------------------------------------------------------------------------------------------------------+\n",
            "|VehicleActivity                                                                                                                                                                                                                                                                                                                                                                                                                                                                                                                                                                                                                                                                                                                                                                                                                                                                                                                                                                                                                                                                                                                                                                                                                                                                                                                                                                                                                                                                                                                                                                                                                                                                                                                                                                                                                                                                                                                                                                                                                                                                                                                                                                                                                                                                                                                                                                                                                                                                                                                                                                                                                                                                                                                                                                                                                                                                                                                                                                                                                                                                                                                                                                                                                                                                                                                                                                                                                                                                                                                                                                  |\n",
            "+---------------------------------------------------------------------------------------------------------------------------------------------------------------------------------------------------------------------------------------------------------------------------------------------------------------------------------------------------------------------------------------------------------------------------------------------------------------------------------------------------------------------------------------------------------------------------------------------------------------------------------------------------------------------------------------------------------------------------------------------------------------------------------------------------------------------------------------------------------------------------------------------------------------------------------------------------------------------------------------------------------------------------------------------------------------------------------------------------------------------------------------------------------------------------------------------------------------------------------------------------------------------------------------------------------------------------------------------------------------------------------------------------------------------------------------------------------------------------------------------------------------------------------------------------------------------------------------------------------------------------------------------------------------------------------------------------------------------------------------------------------------------------------------------------------------------------------------------------------------------------------------------------------------------------------------------------------------------------------------------------------------------------------------------------------------------------------------------------------------------------------------------------------------------------------------------------------------------------------------------------------------------------------------------------------------------------------------------------------------------------------------------------------------------------------------------------------------------------------------------------------------------------------------------------------------------------------------------------------------------------------------------------------------------------------------------------------------------------------------------------------------------------------------------------------------------------------------------------------------------------------------------------------------------------------------------------------------------------------------------------------------------------------------------------------------------------------------------------------------------------------------------------------------------------------------------------------------------------------------------------------------------------------------------------------------------------------------------------------------------------------------------------------------------------------------------------------------------------------------------------------------------------------------------------------------------------------+\n",
            "|{2024-08-13T11:00:55.174195-06:00, [{455, OGDEN VIA WSU, {2024-08-13T00:00:00-06:00, 5319029}, U OF U/DAVIS COUNTY/WSU, 127027, 623423, True, {-111.83105433333333, 40.75621266666667}, 1, 5641, 10008, NULL, {2024-08-13T11:00:40.4, False, 128.8, 0, Ogden via Weber State}}, {455, U OF U VIA SLC, {2024-08-13T00:00:00-06:00, 5319056}, U OF U/DAVIS COUNTY/WSU, 623202, 127027, True, {-111.90965066666666, 41.0104955}, 1, 31806, 14006, NULL, {2024-08-13T11:00:39.66, False, 210.6, 8.5159200000000013, U of U (Research Park)}}, {455, U OF U VIA SLC, {2024-08-13T00:00:00-06:00, 5319054}, U OF U/DAVIS COUNTY/WSU, 623202, 127027, True, {-111.90472683333333, 40.7951935}, 1, 32329, 14008, NULL, {2024-08-13T11:00:42.277, False, 137.9, 42.809760000000004, U of U (Research Park)}}, {455, OGDEN VIA WSU, {2024-08-13T00:00:00-06:00, 5319032}, U OF U/DAVIS COUNTY/WSU, 127027, 623423, True, {-112.00591516666667, 41.2293815}, 1, 32609, 14011, NULL, {2024-08-13T11:00:42.92, False, 265.6, 16.22628, Ogden via Weber State}}, {455, OGDEN VIA WSU, {2024-08-13T00:00:00-06:00, 5319024}, U OF U/DAVIS COUNTY/WSU, 127027, 623423, True, {-111.97866333333333, 41.22836483333333}, 1, 32762, 14012, NULL, {2024-08-13T11:00:37.41, False, 358.8, 16.22628, Ogden via Weber State}}, {455, OGDEN VIA WSU, {2024-08-13T00:00:00-06:00, 5319026}, U OF U/DAVIS COUNTY/WSU, 127027, 623423, True, {-111.91049183333334, 41.011397666666667}, 1, 32764, 14015, NULL, {2024-08-13T11:00:39.25, False, 297, 15.996120000000001, Ogden via Weber State}}, {455, OGDEN VIA WSU, {2024-08-13T00:00:00-06:00, 5319028}, U OF U/DAVIS COUNTY/WSU, 127027, 623423, True, {-111.89086666666667, 40.77157316666667}, 1, 32792, 14016, NULL, {2024-08-13T11:00:46.973, False, 270.5, 17.37708, Ogden via Weber State}}, {455, U OF U VIA SLC, {2024-08-13T00:00:00-06:00, 5319053}, U OF U/DAVIS COUNTY/WSU, 623202, 127027, True, {-111.82741233333333, 40.756099}, 1, 36805, 15008, NULL, {2024-08-13T11:00:43.51, False, 100.4, 8.74608, U of U (Research Park)}}, {455, OGDEN VIA WSU, {2024-08-13T00:00:00-06:00, 5319030}, U OF U/DAVIS COUNTY/WSU, 127027, 623423, True, {-111.8308825, 40.756107166666666}, 1, 57342, 17007, NULL, {2024-08-13T11:00:47.193, False, 130.9, 0.11508000000000002, Ogden via Weber State}}, {455, U OF U VIA SLC, {2024-08-13T00:00:00-06:00, 5319057}, U OF U/DAVIS COUNTY/WSU, 623202, 127027, True, {-111.9398495, 41.156969}, 1, 57570, 17011, NULL, {2024-08-13T11:00:46.973, False, 179.8, 29.3454, U of U (Research Park)}}, {455, U OF U VIA SLC, {2024-08-13T00:00:00-06:00, 5319055}, U OF U/DAVIS COUNTY/WSU, 623202, 127027, True, {-111.87800266666666, 40.9290955}, 1, 65206, 18004, NULL, {2024-08-13T11:00:41.683, False, 88.7, 0, U of U (Research Park)}}, {455, U OF U VIA SLC, {2024-08-13T00:00:00-06:00, 5319058}, U OF U/DAVIS COUNTY/WSU, 623202, 127027, True, {-111.9786455, 41.236094333333334}, 1, 62679, 18016, NULL, {2024-08-13T11:00:33.107, False, 173.7, 3.33732, U of U (Research Park)}}, {455, OGDEN VIA WSU, {2024-08-13T00:00:00-06:00, 5319025}, U OF U/DAVIS COUNTY/WSU, 127027, 623423, True, {-111.9208635, 41.146357333333334}, 1, 397019, 21077, NULL, {2024-08-13T11:00:37.753, False, 303.5, 30.72636, Ogden via Weber State}}, {455, OGDEN VIA WSU, {2024-08-13T00:00:00-06:00, 5319027}, U OF U/DAVIS COUNTY/WSU, 127027, 623423, True, {-111.8723505, 40.910576666666664}, 1, 393741, 21080, NULL, {2024-08-13T11:00:39.787, False, 1.2, 34.063680000000005, Ogden via Weber State}}]}|\n",
            "|{2024-08-13T11:05:45.6145134-06:00, [{455, OGDEN VIA WSU, {2024-08-13T00:00:00-06:00, 5319029}, U OF U/DAVIS COUNTY/WSU, 127027, 623423, True, {-111.8310525, 40.756213166666669}, 1, 5641, 10008, NULL, {2024-08-13T11:05:41.123, False, 128.8, 0, Ogden via Weber State}}, {455, U OF U VIA SLC, {2024-08-13T00:00:00-06:00, 5319056}, U OF U/DAVIS COUNTY/WSU, 623202, 127027, True, {-111.89848366666666, 40.9986805}, 1, 31806, 14006, NULL, {2024-08-13T11:05:39.743, False, 153.9, 29.80572, U of U (Research Park)}}, {455, U OF U VIA SLC, {2024-08-13T00:00:00-06:00, 5319054}, U OF U/DAVIS COUNTY/WSU, 623202, 127027, True, {-111.894664, 40.771518166666667}, 1, 32329, 14008, NULL, {2024-08-13T11:05:42.35, False, 89.5, 0.11508000000000002, U of U (Research Park)}}, {455, OGDEN VIA WSU, {2024-08-13T00:00:00-06:00, 5319032}, U OF U/DAVIS COUNTY/WSU, 127027, 623423, True, {-112.012001, 41.1846155}, 1, 32609, 14011, NULL, {2024-08-13T11:05:43.813, False, 224.2, 64.32972, Ogden via Weber State}}, {455, U OF U VIA SLC, {2024-08-13T00:00:00-06:00, 5319059}, U OF U/DAVIS COUNTY/WSU, 623202, 127027, True, {-111.978917, 41.235664666666665}, 1, 32762, 14012, NULL, {2024-08-13T11:05:37.557, False, 2.5, 0, U of U (Research Park)}}, {455, OGDEN VIA WSU, {2024-08-13T00:00:00-06:00, 5319026}, U OF U/DAVIS COUNTY/WSU, 127027, 623423, True, {-111.90811016666666, 41.0390715}, 1, 32764, 14015, NULL, {2024-08-13T11:05:39.493, False, 323, 28.42476, Ogden via Weber State}}, {455, OGDEN VIA WSU, {2024-08-13T00:00:00-06:00, 5319028}, U OF U/DAVIS COUNTY/WSU, 127027, 623423, True, {-111.9010225, 40.790299833333336}, 1, 32792, 14016, NULL, {2024-08-13T11:05:37.043, False, 335.9, 40.393080000000005, Ogden via Weber State}}, {455, U OF U VIA SLC, {2024-08-13T00:00:00-06:00, 5319053}, U OF U/DAVIS COUNTY/WSU, 623202, 127027, True, {-111.83583033333333, 40.757317666666665}, 1, 36805, 15008, NULL, {2024-08-13T11:05:43.627, False, 310.5, 12.083400000000001, U of U (Research Park)}}, {455, OGDEN VIA WSU, {2024-08-13T00:00:00-06:00, 5319030}, U OF U/DAVIS COUNTY/WSU, 127027, 623423, True, {-111.83088233333334, 40.7561035}, 1, 57342, 17007, NULL, {2024-08-13T11:05:37.37, False, 130.9, 0, Ogden via Weber State}}, {455, U OF U VIA SLC, {2024-08-13T00:00:00-06:00, 5319057}, U OF U/DAVIS COUNTY/WSU, 623202, 127027, True, {-111.9101745, 41.127882666666665}, 1, 57570, 17011, NULL, {2024-08-13T11:05:37.213, False, 259.6, 19.5636, U of U (Research Park)}}, {455, U OF U VIA SLC, {2024-08-13T00:00:00-06:00, 5319055}, U OF U/DAVIS COUNTY/WSU, 623202, 127027, True, {-111.872425, 40.906873833333336}, 1, 65206, 18004, NULL, {2024-08-13T11:05:41.83, False, 180.3, 20.139, U of U (Research Park)}}, {455, U OF U VIA SLC, {2024-08-13T00:00:00-06:00, 5319058}, U OF U/DAVIS COUNTY/WSU, 623202, 127027, True, {-111.97904383333334, 41.223413666666666}, 1, 62679, 18016, NULL, {2024-08-13T11:05:43.147, False, 110.1, 0, U of U (Research Park)}}, {455, OGDEN VIA WSU, {2024-08-13T00:00:00-06:00, 5319025}, U OF U/DAVIS COUNTY/WSU, 127027, 623423, True, {-111.94003533333333, 41.1612425}, 1, 397019, 21077, NULL, {2024-08-13T11:05:37.777, False, 345.9, 26.92872, Ogden via Weber State}}, {455, OGDEN VIA WSU, {2024-08-13T00:00:00-06:00, 5319027}, U OF U/DAVIS COUNTY/WSU, 127027, 623423, True, {-111.87954583333334, 40.939026333333331}, 1, 393741, 21080, NULL, {2024-08-13T11:05:39.837, False, 349.8, 35.674800000000005, Ogden via Weber State}}]}                      |\n",
            "|{2024-08-13T11:01:47.2751613-06:00, [{455, OGDEN VIA WSU, {2024-08-13T00:00:00-06:00, 5319029}, U OF U/DAVIS COUNTY/WSU, 127027, 623423, True, {-111.831052, 40.756208}, 1, 5641, 10008, NULL, {2024-08-13T11:01:40.377, False, 128.8, 0, Ogden via Weber State}}, {455, U OF U VIA SLC, {2024-08-13T00:00:00-06:00, 5319056}, U OF U/DAVIS COUNTY/WSU, 623202, 127027, True, {-111.90487783333333, 41.005191333333336}, 1, 31806, 14006, NULL, {2024-08-13T11:01:39.72, False, 141, 37.63116, U of U (Research Park)}}, {455, U OF U VIA SLC, {2024-08-13T00:00:00-06:00, 5319054}, U OF U/DAVIS COUNTY/WSU, 623202, 127027, True, {-111.89983716666667, 40.786707333333332}, 1, 32329, 14008, NULL, {2024-08-13T11:01:42.313, False, 180.1, 36.13512, U of U (Research Park)}}, {455, OGDEN VIA WSU, {2024-08-13T00:00:00-06:00, 5319032}, U OF U/DAVIS COUNTY/WSU, 127027, 623423, True, {-112.013023, 41.228625833333332}, 1, 32609, 14011, NULL, {2024-08-13T11:01:43.003, False, 264.5, 38.43672, Ogden via Weber State}}, {455, OGDEN VIA WSU, {2024-08-13T00:00:00-06:00, 5319024}, U OF U/DAVIS COUNTY/WSU, 127027, 623423, True, {-111.97857433333333, 41.231836166666668}, 1, 32762, 14012, NULL, {2024-08-13T11:01:37.447, False, 1.3, 27.6192, Ogden via Weber State}}, {455, OGDEN VIA WSU, {2024-08-13T00:00:00-06:00, 5319026}, U OF U/DAVIS COUNTY/WSU, 127027, 623423, True, {-111.9088995, 41.01747266666667}, 1, 32764, 14015, NULL, {2024-08-13T11:01:39.36, False, 17.9, 33.25812, Ogden via Weber State}}, {455, OGDEN VIA WSU, {2024-08-13T00:00:00-06:00, 5319028}, U OF U/DAVIS COUNTY/WSU, 127027, 623423, True, {-111.89643433333333, 40.771624}, 1, 32792, 14016, NULL, {2024-08-13T11:01:36.9, False, 270.1, 4.48812, Ogden via Weber State}}, {455, U OF U VIA SLC, {2024-08-13T00:00:00-06:00, 5319053}, U OF U/DAVIS COUNTY/WSU, 623202, 127027, True, {-111.8244705, 40.75957866666667}, 1, 36805, 15008, NULL, {2024-08-13T11:01:43.753, False, 323.2, 29.80572, U of U (Research Park)}}, {455, OGDEN VIA WSU, {2024-08-13T00:00:00-06:00, 5319030}, U OF U/DAVIS COUNTY/WSU, 127027, 623423, True, {-111.83086983333334, 40.756105}, 1, 57342, 17007, NULL, {2024-08-13T11:01:37.133, False, 130.9, 0, Ogden via Weber State}}, {455, U OF U VIA SLC, {2024-08-13T00:00:00-06:00, 5319057}, U OF U/DAVIS COUNTY/WSU, 623202, 127027, True, {-111.9371885, 41.152797166666666}, 1, 57570, 17011, NULL, {2024-08-13T11:01:37.167, False, 136.8, 13.46436, U of U (Research Park)}}, {455, U OF U VIA SLC, {2024-08-13T00:00:00-06:00, 5319055}, U OF U/DAVIS COUNTY/WSU, 623202, 127027, True, {-111.87529766666667, 40.929116666666665}, 1, 65206, 18004, NULL, {2024-08-13T11:01:41.72, False, 90.2, 22.78584, U of U (Research Park)}}, {455, U OF U VIA SLC, {2024-08-13T00:00:00-06:00, 5319058}, U OF U/DAVIS COUNTY/WSU, 623202, 127027, True, {-111.97878466666667, 41.228198166666665}, 1, 62679, 18016, NULL, {2024-08-13T11:01:43.173, False, 181.1, 35.55972, U of U (Research Park)}}, {455, OGDEN VIA WSU, {2024-08-13T00:00:00-06:00, 5319025}, U OF U/DAVIS COUNTY/WSU, 127027, 623423, True, {-111.92938216666667, 41.148171166666664}, 1, 397019, 21077, NULL, {2024-08-13T11:01:38.827, False, 286.4, 29.00016, Ogden via Weber State}}, {455, OGDEN VIA WSU, {2024-08-13T00:00:00-06:00, 5319027}, U OF U/DAVIS COUNTY/WSU, 127027, 623423, True, {-111.87231433333334, 40.9155595}, 1, 393741, 21080, NULL, {2024-08-13T11:01:40.767, False, 0.1, 30.611280000000004, Ogden via Weber State}}]}                          |\n",
            "|{2024-08-13T11:15:27.3192459-06:00, [{455, OGDEN VIA WSU, {2024-08-13T00:00:00-06:00, 5319029}, U OF U/DAVIS COUNTY/WSU, 127027, 623423, True, {-111.83460433333333, 40.7594385}, 1, 5641, 10008, NULL, {2024-08-13T11:15:20.57, False, 357.9, 33.60336, Ogden via Weber State}}, {455, U OF U VIA SLC, {2024-08-13T00:00:00-06:00, 5319056}, U OF U/DAVIS COUNTY/WSU, 623202, 127027, True, {-111.905405, 40.987361166666666}, 1, 31806, 14006, NULL, {2024-08-13T11:15:20.227, False, 302.3, 16.22628, U of U (Research Park)}}, {455, U OF U VIA SLC, {2024-08-13T00:00:00-06:00, 5319054}, U OF U/DAVIS COUNTY/WSU, 623202, 127027, True, {-111.872587, 40.760540666666664}, 1, 32329, 14008, NULL, {2024-08-13T11:15:12.507, False, 89.7, 21.51996, U of U (Research Park)}}, {455, OGDEN VIA WSU, {2024-08-13T00:00:00-06:00, 5319032}, U OF U/DAVIS COUNTY/WSU, 127027, 623423, True, {-111.96116433333333, 41.054904833333332}, 1, 32609, 14011, NULL, {2024-08-13T11:15:13.193, False, 182.7, 64.32972, Ogden via Weber State}}, {455, U OF U VIA SLC, {2024-08-13T00:00:00-06:00, 5319059}, U OF U/DAVIS COUNTY/WSU, 623202, 127027, True, {-111.9789165, 41.2356555}, 1, 32762, 14012, NULL, {2024-08-13T11:15:17.697, False, 2.5, 0, U of U (Research Park)}}, {455, OGDEN VIA WSU, {2024-08-13T00:00:00-06:00, 5319026}, U OF U/DAVIS COUNTY/WSU, 127027, 623423, True, {-111.9099295, 41.066763166666668}, 1, 32764, 14015, NULL, {2024-08-13T11:15:19.54, False, 0.3, 0, Ogden via Weber State}}, {455, OGDEN VIA WSU, {2024-08-13T00:00:00-06:00, 5319028}, U OF U/DAVIS COUNTY/WSU, 127027, 623423, True, {-111.88660583333333, 40.8604105}, 1, 32792, 14016, NULL, {2024-08-13T11:15:18.41, False, 52.2, 12.77388, Ogden via Weber State}}, {455, U OF U VIA SLC, {2024-08-13T00:00:00-06:00, 5319053}, U OF U/DAVIS COUNTY/WSU, 623202, 127027, True, {-111.89680683333333, 40.760798333333334}, 1, 36805, 15008, NULL, {2024-08-13T11:15:13.753, False, 270.7, 19.44852, U of U (Research Park)}}, {455, OGDEN VIA WSU, {2024-08-13T00:00:00-06:00, 5319030}, U OF U/DAVIS COUNTY/WSU, 127027, 623423, True, {-111.83088, 40.756106833333334}, 1, 57342, 17007, NULL, {2024-08-13T11:15:17.43, False, 130.9, 0, Ogden via Weber State}}, {455, U OF U VIA SLC, {2024-08-13T00:00:00-06:00, 5319057}, U OF U/DAVIS COUNTY/WSU, 623202, 127027, True, {-111.9115015, 41.078787833333337}, 1, 57570, 17011, NULL, {2024-08-13T11:15:17.337, False, 188.7, 47.412960000000005, U of U (Research Park)}}, {455, U OF U VIA SLC, {2024-08-13T00:00:00-06:00, 5319055}, U OF U/DAVIS COUNTY/WSU, 623202, 127027, True, {-111.87771366666666, 40.8687345}, 1, 65206, 18004, NULL, {2024-08-13T11:15:11.893, False, 203.7, 28.07952, U of U (Research Park)}}, {455, U OF U VIA SLC, {2024-08-13T00:00:00-06:00, 5319058}, U OF U/DAVIS COUNTY/WSU, 623202, 127027, True, {-111.94870483333334, 41.206767}, 1, 62679, 18016, NULL, {2024-08-13T11:15:13.347, False, 186.3, 6.2143200000000007, U of U (Research Park)}}, {455, OGDEN VIA WSU, {2024-08-13T00:00:00-06:00, 5319025}, U OF U/DAVIS COUNTY/WSU, 127027, 623423, True, {-111.9483745, 41.19343383333333}, 1, 397019, 21077, NULL, {2024-08-13T11:15:17.93, False, 272.7, 10.9326, Ogden via Weber State}}, {455, OGDEN VIA WSU, {2024-08-13T00:00:00-06:00, 5319027}, U OF U/DAVIS COUNTY/WSU, 127027, 623423, True, {-111.90711733333333, 40.982116833333336}, 1, 393741, 21080, NULL, {2024-08-13T11:15:20.227, False, 269.9, 33.14304, Ogden via Weber State}}]}                                       |\n",
            "|{2024-08-13T10:48:02.1088293-06:00, [{455, OGDEN VIA WSU, {2024-08-13T00:00:00-06:00, 5319029}, U OF U/DAVIS COUNTY/WSU, 127027, 623423, True, {-111.83105183333333, 40.756201333333337}, 1, 5641, 10008, NULL, {2024-08-13T10:47:50.23, False, 128.8, 0.11508000000000002, Ogden via Weber State}}, {455, U OF U VIA SLC, {2024-08-13T00:00:00-06:00, 5319056}, U OF U/DAVIS COUNTY/WSU, 623202, 127027, True, {-111.91151883333333, 41.064800333333331}, 1, 31806, 14006, NULL, {2024-08-13T10:47:49.533, False, 171.7, 38.321639999999995, U of U (Research Park)}}, {455, U OF U VIA SLC, {2024-08-13T00:00:00-06:00, 5319054}, U OF U/DAVIS COUNTY/WSU, 623202, 127027, True, {-111.8773105, 40.869547166666663}, 1, 32329, 14008, NULL, {2024-08-13T10:47:52.077, False, 195.2, 27.734280000000002, U of U (Research Park)}}, {455, OGDEN VIA WSU, {2024-08-13T00:00:00-06:00, 5319024}, U OF U/DAVIS COUNTY/WSU, 127027, 623423, True, {-111.94853166666667, 41.207874666666669}, 1, 32762, 14012, NULL, {2024-08-13T10:47:47.153, False, 2.3, 38.091480000000004, Ogden via Weber State}}, {455, OGDEN VIA WSU, {2024-08-13T00:00:00-06:00, 5319026}, U OF U/DAVIS COUNTY/WSU, 127027, 623423, True, {-111.9060015, 40.986196}, 1, 32764, 14015, NULL, {2024-08-13T10:47:49.01, False, 41, 22.555680000000002, Ogden via Weber State}}, {455, OGDEN VIA WSU, {2024-08-13T00:00:00-06:00, 5319028}, U OF U/DAVIS COUNTY/WSU, 127027, 623423, True, {-111.86856733333333, 40.760787833333332}, 1, 32792, 14016, {126059, 1, false}, {2024-08-13T10:47:46.653, False, 269.5, 24.857280000000003, Ogden via Weber State}}, {455, U OF U VIA SLC, {2024-08-13T00:00:00-06:00, 5319053}, U OF U/DAVIS COUNTY/WSU, 623202, 127027, True, {-111.8660845, 40.7605045}, 1, 36805, 15008, NULL, {2024-08-13T10:47:53.313, False, 90.2, 0.11508000000000002, U of U (Research Park)}}, {455, OGDEN VIA WSU, {2024-08-13T00:00:00-06:00, 5319030}, U OF U/DAVIS COUNTY/WSU, 127027, 623423, True, {-111.8308785, 40.756115333333334}, 1, 57342, 17007, NULL, {2024-08-13T10:47:47.027, False, 130.9, 0.11508000000000002, Ogden via Weber State}}, {455, U OF U VIA SLC, {2024-08-13T00:00:00-06:00, 5319057}, U OF U/DAVIS COUNTY/WSU, 623202, 127027, True, {-111.94569766666666, 41.194816833333334}, 1, 57570, 17011, NULL, {2024-08-13T10:47:46.777, False, 91.4, 21.8652, U of U (Research Park)}}, {455, U OF U VIA SLC, {2024-08-13T00:00:00-06:00, 5319055}, U OF U/DAVIS COUNTY/WSU, 623202, 127027, True, {-111.9105745, 40.985390666666667}, 1, 65206, 18004, NULL, {2024-08-13T10:47:51.607, False, 220, 33.48828, U of U (Research Park)}}, {455, U OF U VIA SLC, {2024-08-13T00:00:00-06:00, 5319058}, U OF U/DAVIS COUNTY/WSU, 623202, 127027, True, {-111.97892066666667, 41.235841166666667}, 1, 62679, 18016, NULL, {2024-08-13T10:47:52.73, False, 1.2, 0, U of U (Research Park)}}, {455, OGDEN VIA WSU, {2024-08-13T00:00:00-06:00, 5319025}, U OF U/DAVIS COUNTY/WSU, 127027, 623423, True, {-111.91046383333334, 41.077386}, 1, 397019, 21077, NULL, {2024-08-13T10:47:47.497, False, 282, 13.11912, Ogden via Weber State}}, {455, OGDEN VIA WSU, {2024-08-13T00:00:00-06:00, 5319027}, U OF U/DAVIS COUNTY/WSU, 127027, 623423, True, {-111.8864805, 40.860488}, 1, 393741, 21080, NULL, {2024-08-13T10:47:49.533, False, 53.8, 0, Ogden via Weber State}}]}                                                                                                                                                                                                |\n",
            "+---------------------------------------------------------------------------------------------------------------------------------------------------------------------------------------------------------------------------------------------------------------------------------------------------------------------------------------------------------------------------------------------------------------------------------------------------------------------------------------------------------------------------------------------------------------------------------------------------------------------------------------------------------------------------------------------------------------------------------------------------------------------------------------------------------------------------------------------------------------------------------------------------------------------------------------------------------------------------------------------------------------------------------------------------------------------------------------------------------------------------------------------------------------------------------------------------------------------------------------------------------------------------------------------------------------------------------------------------------------------------------------------------------------------------------------------------------------------------------------------------------------------------------------------------------------------------------------------------------------------------------------------------------------------------------------------------------------------------------------------------------------------------------------------------------------------------------------------------------------------------------------------------------------------------------------------------------------------------------------------------------------------------------------------------------------------------------------------------------------------------------------------------------------------------------------------------------------------------------------------------------------------------------------------------------------------------------------------------------------------------------------------------------------------------------------------------------------------------------------------------------------------------------------------------------------------------------------------------------------------------------------------------------------------------------------------------------------------------------------------------------------------------------------------------------------------------------------------------------------------------------------------------------------------------------------------------------------------------------------------------------------------------------------------------------------------------------------------------------------------------------------------------------------------------------------------------------------------------------------------------------------------------------------------------------------------------------------------------------------------------------------------------------------------------------------------------------------------------------------------------------------------------------------------------------------------------------+\n",
            "only showing top 5 rows\n",
            "\n"
          ]
        }
      ]
    }
  ]
}