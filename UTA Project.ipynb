{
 "cells": [
  {
   "cell_type": "code",
   "execution_count": 5,
   "id": "d319cca8-606b-488b-81e3-fb76983e4da7",
   "metadata": {},
   "outputs": [
    {
     "name": "stdout",
     "output_type": "stream",
     "text": [
      "Collecting xmltodict\n",
      "  Obtaining dependency information for xmltodict from https://files.pythonhosted.org/packages/94/db/fd0326e331726f07ff7f40675cd86aa804bfd2e5016c727fa761c934990e/xmltodict-0.13.0-py2.py3-none-any.whl.metadata\n",
      "  Downloading xmltodict-0.13.0-py2.py3-none-any.whl.metadata (7.7 kB)\n",
      "Downloading xmltodict-0.13.0-py2.py3-none-any.whl (10.0 kB)\n",
      "Installing collected packages: xmltodict\n",
      "Successfully installed xmltodict-0.13.0\n"
     ]
    }
   ],
   "source": [
    "!pip install xmltodict"
   ]
  },
  {
   "cell_type": "code",
   "execution_count": 45,
   "id": "d65d932d-bd98-48d8-8f11-39f91434ea36",
   "metadata": {},
   "outputs": [],
   "source": [
    "import requests\n",
    "import xmltodict\n",
    "import json\n",
    "import pytz\n",
    "from datetime import datetime"
   ]
  },
  {
   "cell_type": "code",
   "execution_count": 9,
   "id": "21f065da-f06e-411a-abed-85b6677f48c5",
   "metadata": {},
   "outputs": [],
   "source": [
    "route_id='455'\n",
    "onward_calls = 'false'\n",
    "token = 'UYIFJBFBIV6'"
   ]
  },
  {
   "cell_type": "code",
   "execution_count": 12,
   "id": "48ee15c1-b738-4728-a315-484e6a68bd42",
   "metadata": {},
   "outputs": [],
   "source": [
    "url = f\"http://api.rideuta.com/SIRI/SIRI.svc/VehicleMonitor/ByRoute?route={route_id}&onwardcalls={onward_calls}&usertoken={token}\"\n",
    "response = requests.get(url)\n",
    "xml_data = xmltodict.parse(response.text)"
   ]
  },
  {
   "cell_type": "code",
   "execution_count": 37,
   "id": "1ea4daad-866e-49e3-b5c2-9d0cb702e6fc",
   "metadata": {},
   "outputs": [],
   "source": [
    "json_data = json.dumps(xml_data)"
   ]
  },
  {
   "cell_type": "code",
   "execution_count": 54,
   "id": "3649bb86-fb27-44c2-8206-31d999ffa141",
   "metadata": {},
   "outputs": [],
   "source": [
    "def convert_to_epoch(timestamp):\n",
    "    date_part, rest = timestamp.split('.')\n",
    "    microseconds_part = rest[:-6]  # Extract microseconds part\n",
    "    timezone_part = rest[-6:]      # Extract timezone part\n",
    "    microseconds_part = microseconds_part[:6]  # Take only the first 6 digits for microseconds\n",
    "    timestamp = date_part + '.' + microseconds_part + timezone_part\n",
    "    dt = datetime.strptime(timestamp, \"%Y-%m-%dT%H:%M:%S.%f%z\")\n",
    "    epoch_time = int(dt.timestamp())\n",
    "    \n",
    "    return str(epoch_time)"
   ]
  },
  {
   "cell_type": "code",
   "execution_count": 55,
   "id": "163db40a-d798-462e-b1dc-6a9155ca5012",
   "metadata": {},
   "outputs": [],
   "source": [
    "file_name = route_id + convert_to_epoch(xml_data[\"Siri\"][\"ResponseTimestamp\"])  + \".json\"\n"
   ]
  },
  {
   "cell_type": "code",
   "execution_count": 56,
   "id": "c4daaef6-a37d-4e16-8341-2bc4443822a1",
   "metadata": {},
   "outputs": [],
   "source": [
    "import json\n",
    "with open(file_name, 'w', encoding='utf-8') as f:\n",
    "   f.write(json_data)"
   ]
  },
  {
   "cell_type": "code",
   "execution_count": 26,
   "id": "585009c1-d9c8-4510-8d9c-8f4ad4c90109",
   "metadata": {},
   "outputs": [],
   "source": [
    "# Opening JSON file\n",
    "f = open('json_data.json')\n",
    "data = json.load(f)"
   ]
  },
  {
   "cell_type": "code",
   "execution_count": 31,
   "id": "bcdf8928-620a-4d27-b5c9-45606019f0a8",
   "metadata": {},
   "outputs": [
    {
     "data": {
      "text/plain": [
       "'2024-08-06T08:30:31.5459909-06:00'"
      ]
     },
     "execution_count": 31,
     "metadata": {},
     "output_type": "execute_result"
    }
   ],
   "source": [
    "xml_data[\"Siri\"][\"ResponseTimestamp\"]"
   ]
  }
 ],
 "metadata": {
  "kernelspec": {
   "display_name": "Python 3 (ipykernel)",
   "language": "python",
   "name": "python3"
  },
  "language_info": {
   "codemirror_mode": {
    "name": "ipython",
    "version": 3
   },
   "file_extension": ".py",
   "mimetype": "text/x-python",
   "name": "python",
   "nbconvert_exporter": "python",
   "pygments_lexer": "ipython3",
   "version": "3.11.5"
  }
 },
 "nbformat": 4,
 "nbformat_minor": 5
}
