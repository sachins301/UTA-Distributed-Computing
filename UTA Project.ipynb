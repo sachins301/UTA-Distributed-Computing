{
  "cells": [
    {
      "cell_type": "markdown",
      "metadata": {
        "id": "view-in-github",
        "colab_type": "text"
      },
      "source": [
        "<a href=\"https://colab.research.google.com/github/sachins301/UTA-Distributed-Computing/blob/main/UTA%20Project.ipynb\" target=\"_parent\"><img src=\"https://colab.research.google.com/assets/colab-badge.svg\" alt=\"Open In Colab\"/></a>"
      ]
    },
    {
      "cell_type": "markdown",
      "source": [
        "# Multithreaded Data Collection\n"
      ],
      "metadata": {
        "id": "nkly1U7ziVek"
      },
      "id": "nkly1U7ziVek"
    },
    {
      "cell_type": "markdown",
      "source": [
        "## Package Installations\n",
        "Install xmltodict to convert xml to dictionary data structure."
      ],
      "metadata": {
        "id": "KLf2JoG-ipmj"
      },
      "id": "KLf2JoG-ipmj"
    },
    {
      "cell_type": "code",
      "execution_count": 1,
      "id": "d319cca8-606b-488b-81e3-fb76983e4da7",
      "metadata": {
        "id": "d319cca8-606b-488b-81e3-fb76983e4da7",
        "outputId": "97c56a53-609a-46eb-be73-4a26128d6d19",
        "colab": {
          "base_uri": "https://localhost:8080/"
        }
      },
      "outputs": [
        {
          "output_type": "stream",
          "name": "stdout",
          "text": [
            "Collecting xmltodict\n",
            "  Downloading xmltodict-0.13.0-py2.py3-none-any.whl.metadata (7.7 kB)\n",
            "Downloading xmltodict-0.13.0-py2.py3-none-any.whl (10.0 kB)\n",
            "Installing collected packages: xmltodict\n",
            "Successfully installed xmltodict-0.13.0\n"
          ]
        }
      ],
      "source": [
        "!pip install xmltodict"
      ]
    },
    {
      "cell_type": "markdown",
      "source": [
        "## Imports"
      ],
      "metadata": {
        "id": "teBBd94jjbgG"
      },
      "id": "teBBd94jjbgG"
    },
    {
      "cell_type": "code",
      "execution_count": 2,
      "id": "d65d932d-bd98-48d8-8f11-39f91434ea36",
      "metadata": {
        "id": "d65d932d-bd98-48d8-8f11-39f91434ea36"
      },
      "outputs": [],
      "source": [
        "import requests\n",
        "import xmltodict\n",
        "import json\n",
        "import pytz\n",
        "from datetime import datetime\n",
        "from concurrent.futures import ThreadPoolExecutor\n",
        "import time\n",
        "import os\n",
        "import concurrent.futures\n",
        "import logging\n"
      ]
    },
    {
      "cell_type": "markdown",
      "source": [
        "Mount the userdata secrets and google drive to the runtime session."
      ],
      "metadata": {
        "id": "B3cWmJPJi7a1"
      },
      "id": "B3cWmJPJi7a1"
    },
    {
      "cell_type": "code",
      "source": [
        "from google.colab import userdata\n",
        "from google.colab import drive\n",
        "drive.mount('/content/drive')\n"
      ],
      "metadata": {
        "id": "PXjr2eApX0A3",
        "colab": {
          "base_uri": "https://localhost:8080/"
        },
        "outputId": "14114cc7-d04c-4367-f7c5-014c7f3658ff"
      },
      "id": "PXjr2eApX0A3",
      "execution_count": 3,
      "outputs": [
        {
          "output_type": "stream",
          "name": "stdout",
          "text": [
            "Mounted at /content/drive\n"
          ]
        }
      ]
    },
    {
      "cell_type": "markdown",
      "source": [
        "Logger to identify the current thread."
      ],
      "metadata": {
        "id": "BsMcwiNHjkZ8"
      },
      "id": "BsMcwiNHjkZ8"
    },
    {
      "cell_type": "code",
      "execution_count": 4,
      "id": "21f065da-f06e-411a-abed-85b6677f48c5",
      "metadata": {
        "id": "21f065da-f06e-411a-abed-85b6677f48c5",
        "colab": {
          "base_uri": "https://localhost:8080/"
        },
        "outputId": "eab42acb-cc5f-4a5e-890a-0faae451fec2"
      },
      "outputs": [
        {
          "output_type": "stream",
          "name": "stderr",
          "text": [
            "INFO:__main__:Logging started\n"
          ]
        }
      ],
      "source": [
        "# Create a custom logger\n",
        "logger = logging.getLogger(__name__)\n",
        "logger.setLevel(logging.DEBUG)\n",
        "\n",
        "# Create handlers\n",
        "# c_handler = logging.StreamHandler()\n",
        "f_handler = logging.FileHandler('/content/utaproject.log', mode='w')\n",
        "# c_handler.setLevel(logging.DEBUG)\n",
        "f_handler.setLevel(logging.DEBUG)\n",
        "\n",
        "# Create formatters and add it to handlers\n",
        "# c_format = logging.Formatter('%(asctime)s - %(threadName)s - %(name)s - %(levelname)s - %(message)s')\n",
        "f_format = logging.Formatter('%(asctime)s - %(threadName)s - %(name)s - %(levelname)s - %(message)s')\n",
        "# c_handler.setFormatter(c_format)\n",
        "f_handler.setFormatter(f_format)\n",
        "\n",
        "# Add handlers to the logger\n",
        "# logger.addHandler(c_handler)\n",
        "logger.addHandler(f_handler)\n",
        "\n",
        "# Correctly log messages\n",
        "logger.info('Logging started')\n"
      ]
    },
    {
      "cell_type": "markdown",
      "source": [
        "## API Connection\n",
        "Connect to the UTA api endpoint using the requests package.\n",
        "Parse the xml data to json format using xmltodict and json library. The user token for the API connection is saved in google colab secrets. It is also necessery to properly handle the exceptions to keep the threads running."
      ],
      "metadata": {
        "id": "vGMLcwLgjv8U"
      },
      "id": "vGMLcwLgjv8U"
    },
    {
      "cell_type": "code",
      "execution_count": 5,
      "id": "48ee15c1-b738-4728-a315-484e6a68bd42",
      "metadata": {
        "id": "48ee15c1-b738-4728-a315-484e6a68bd42"
      },
      "outputs": [],
      "source": [
        "def retrieve_data(route_id, onward_calls = False):\n",
        "  token = userdata.get('TOKEN')\n",
        "  url = f\"http://api.rideuta.com/SIRI/SIRI.svc/VehicleMonitor/ByRoute?route={route_id}&onwardcalls={onward_calls}&usertoken={token}\"\n",
        "  response = requests.get(url)\n",
        "  if response.status_code != 200:\n",
        "    logger.error(f\"Failed to retrieve data. Status code: {response.status_code}\")\n",
        "    return None\n",
        "  logger.info(f\"Data retrieved for route_id: {route_id}\")\n",
        "  xml_data = xmltodict.parse(response.text)\n",
        "  json_data = json.loads(json.dumps(xml_data))\n",
        "  return json_data"
      ]
    },
    {
      "cell_type": "markdown",
      "source": [
        "Create unique file name for each of the json files. File names has to be unique to avoid collisions between different threads. Timestamp is one of the easiest and robust ways to create unique id within a local system. We are using the cleaner epoch time format."
      ],
      "metadata": {
        "id": "bJ0oTgCdkLG6"
      },
      "id": "bJ0oTgCdkLG6"
    },
    {
      "cell_type": "code",
      "execution_count": 6,
      "id": "3649bb86-fb27-44c2-8206-31d999ffa141",
      "metadata": {
        "id": "3649bb86-fb27-44c2-8206-31d999ffa141"
      },
      "outputs": [],
      "source": [
        "def convert_to_epoch(timestamp):\n",
        "    date_part, rest = timestamp.split('.')\n",
        "    microseconds_part = rest[:-6]  # Extract microseconds part\n",
        "    timezone_part = rest[-6:]      # Extract timezone part\n",
        "    microseconds_part = microseconds_part[:6]  # Take only the first 6 digits for microseconds\n",
        "    timestamp = date_part + '.' + microseconds_part + timezone_part\n",
        "    dt = datetime.strptime(timestamp, \"%Y-%m-%dT%H:%M:%S.%f%z\")\n",
        "    epoch_time = int(dt.timestamp())\n",
        "\n",
        "    return str(epoch_time)"
      ]
    },
    {
      "cell_type": "markdown",
      "source": [
        "Save the json file using the combination of rout id and epoch time to avoid collisions."
      ],
      "metadata": {
        "id": "kD8pS8wKlThw"
      },
      "id": "kD8pS8wKlThw"
    },
    {
      "cell_type": "code",
      "execution_count": 7,
      "id": "163db40a-d798-462e-b1dc-6a9155ca5012",
      "metadata": {
        "id": "163db40a-d798-462e-b1dc-6a9155ca5012"
      },
      "outputs": [],
      "source": [
        "def save_data(route_id, json_data):\n",
        "  file_name = route_id + \"-\" + convert_to_epoch(json_data[\"Siri\"][\"ResponseTimestamp\"])  + \".json\"\n",
        "  with open('/content/json_dumps/'+file_name, 'w', encoding='utf-8') as f:\n",
        "    f.write(json.dumps(json_data))\n",
        "  logger.info(f\"Data saved to {file_name}\")"
      ]
    },
    {
      "cell_type": "markdown",
      "source": [
        "## Task Function for Asynchronous Execution Using ThreadPoolExecutor\n",
        "Define a task function that will be executed asynchronously by the threads in a ThreadPoolExecutor. The function will process each item in a route_id_list, which contains the data points that need to be handled concurrently.\n",
        "### process_route Function:\n",
        "This function is designed to process a single route_id. It logs the start and end of the processing and can include any specific logic needed to handle each route.\n",
        "### Error Handling:\n",
        "The function includes basic error handling to catch and log any exceptions that occur during processing."
      ],
      "metadata": {
        "id": "JYnztE0HmFdT"
      },
      "id": "JYnztE0HmFdT"
    },
    {
      "cell_type": "code",
      "execution_count": 8,
      "id": "c4daaef6-a37d-4e16-8341-2bc4443822a1",
      "metadata": {
        "id": "c4daaef6-a37d-4e16-8341-2bc4443822a1"
      },
      "outputs": [],
      "source": [
        "route_id_list = ['4', '455', '1', '2', '220']\n",
        "def process_route(route_id):\n",
        "  logger.info(f\"Processing route_id: {route_id}\")\n",
        "  while True:\n",
        "    json_data = retrieve_data(route_id)\n",
        "    if json_data:\n",
        "      logger.info(f\"Saving data for route_id: {route_id}\")\n",
        "      save_data(route_id, json_data)\n",
        "    time.sleep(5)"
      ]
    },
    {
      "cell_type": "markdown",
      "source": [
        "## ThreadPoolExecutor\n",
        "The ThreadPoolExecutor is a high-level interface from the concurrent.futures module in Python, designed for managing a pool of threads that execute tasks concurrently. It simplifies the process of launching and managing threads, allowing developers to easily parallelize tasks without needing to manage thread creation, synchronization, or termination manually.\n",
        "\n",
        "### Code Walkthrough\n",
        "In the below code snippet, a ThreadPoolExecutor is instantiated without specifying the max_workers parameter, so it defaults to min(32, os.cpu_count() + 4). This means the number of threads in the pool will be either 32 or the number of available CPU cores plus 4, whichever is smaller. This thread pool is used to asynchronously execute the process_route function on each item in the route_id_list, enabling the processing of multiple routes concurrently.\n",
        "\n",
        "The executor.map() function maps the process_route function over the entire route_id_list, executing each function call in parallel across the threads in the pool. This allows for efficient processing of data points, especially when the workload involves I/O-bound (in this case, data retrieval and saving to file) or computationally light tasks that benefit from concurrency.\n",
        "\n",
        "The try-except block in the code includes an infinite loop with a time.sleep(1) call, which keeps the main thread alive, allowing the ThreadPoolExecutor to continue processing tasks. If a KeyboardInterrupt occurs, the program will log a shutdown message and exit gracefully. This setup is useful in long-running applications where the main thread needs to wait while background threads complete their work.\n",
        "\n",
        "This code structure is commonly used in scenarios where tasks need to be processed in parallel, such as handling multiple network requests, processing large datasets, or performing independent computations concurrently. The ThreadPoolExecutor ensures that system resources are efficiently utilized while simplifying the complexities associated with multithreading in Python."
      ],
      "metadata": {
        "id": "wtFxgl0SnWj5"
      },
      "id": "wtFxgl0SnWj5"
    },
    {
      "cell_type": "code",
      "source": [
        "\n",
        "# No of default max workers is Min(32, os.cpu_count + 4) workers.\n",
        "with concurrent.futures.ThreadPoolExecutor() as executor:\n",
        "    executor.map(process_route, route_id_list)\n",
        "\n",
        "try:\n",
        "    while True:\n",
        "        time.sleep(1)\n",
        "except KeyboardInterrupt:\n",
        "    logger.info(\"Shutting down...\")"
      ],
      "metadata": {
        "id": "ubk4H9fdhEP8"
      },
      "id": "ubk4H9fdhEP8",
      "execution_count": null,
      "outputs": []
    },
    {
      "cell_type": "code",
      "source": [
        "_# No of default workers /cpu available for multithreading (+ 4 workers for better concurrency)\n",
        "print(os.cpu_count() + 4)"
      ],
      "metadata": {
        "colab": {
          "base_uri": "https://localhost:8080/"
        },
        "id": "h8c0gkamhbEA",
        "outputId": "d3c9f325-0c85-4f4c-93a9-4e95a66cac23"
      },
      "id": "h8c0gkamhbEA",
      "execution_count": null,
      "outputs": [
        {
          "output_type": "stream",
          "name": "stdout",
          "text": [
            "6\n"
          ]
        }
      ]
    },
    {
      "cell_type": "code",
      "source": [
        "# Ziping the json_dumps\n",
        "import shutil\n",
        "shutil.make_archive('json_dumps', 'zip', '/content/json_dumps')"
      ],
      "metadata": {
        "id": "0SNtqmWMf9lQ",
        "outputId": "be0910fc-fbcb-4ca4-95cc-91d1180ecf60",
        "colab": {
          "base_uri": "https://localhost:8080/",
          "height": 35
        }
      },
      "id": "0SNtqmWMf9lQ",
      "execution_count": null,
      "outputs": [
        {
          "output_type": "execute_result",
          "data": {
            "text/plain": [
              "'/content/json_dumps.zip'"
            ],
            "application/vnd.google.colaboratory.intrinsic+json": {
              "type": "string"
            }
          },
          "metadata": {},
          "execution_count": 28
        }
      ]
    },
    {
      "cell_type": "code",
      "source": [
        "# copy files to google drive\n",
        "!cp -r /content/json_dumps.zip /content/drive/MyDrive/Colab\\ Notebooks/"
      ],
      "metadata": {
        "id": "UwI7dAxJDhxX",
        "outputId": "1e139d24-a7a8-4410-c9c3-09b517e10e14",
        "colab": {
          "base_uri": "https://localhost:8080/"
        }
      },
      "id": "UwI7dAxJDhxX",
      "execution_count": null,
      "outputs": [
        {
          "output_type": "stream",
          "name": "stderr",
          "text": [
            "INFO:__main__:Data retrieved for route_id: 2\n",
            "INFO:__main__:Saving data for route_id: 2\n",
            "INFO:__main__:Data saved to 2-1723474184.json\n"
          ]
        }
      ]
    },
    {
      "cell_type": "code",
      "execution_count": null,
      "id": "585009c1-d9c8-4510-8d9c-8f4ad4c90109",
      "metadata": {
        "id": "585009c1-d9c8-4510-8d9c-8f4ad4c90109"
      },
      "outputs": [],
      "source": [
        "# Opening JSON file\n",
        "f = open('/content/drive/My Drive/Colab Notebooks/'+file_name)\n",
        "data = json.load(f)"
      ]
    }
  ],
  "metadata": {
    "kernelspec": {
      "display_name": "Python 3 (ipykernel)",
      "language": "python",
      "name": "python3"
    },
    "language_info": {
      "codemirror_mode": {
        "name": "ipython",
        "version": 3
      },
      "file_extension": ".py",
      "mimetype": "text/x-python",
      "name": "python",
      "nbconvert_exporter": "python",
      "pygments_lexer": "ipython3",
      "version": "3.11.5"
    },
    "colab": {
      "provenance": [],
      "include_colab_link": true
    }
  },
  "nbformat": 4,
  "nbformat_minor": 5
}