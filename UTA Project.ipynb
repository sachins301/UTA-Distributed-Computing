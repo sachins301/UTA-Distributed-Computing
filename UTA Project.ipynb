{
  "cells": [
    {
      "cell_type": "markdown",
      "metadata": {
        "id": "view-in-github",
        "colab_type": "text"
      },
      "source": [
        "<a href=\"https://colab.research.google.com/github/sachins301/UTA-Distributed-Computing/blob/main/UTA%20Project.ipynb\" target=\"_parent\"><img src=\"https://colab.research.google.com/assets/colab-badge.svg\" alt=\"Open In Colab\"/></a>"
      ]
    },
    {
      "cell_type": "code",
      "execution_count": 2,
      "id": "d319cca8-606b-488b-81e3-fb76983e4da7",
      "metadata": {
        "id": "d319cca8-606b-488b-81e3-fb76983e4da7",
        "outputId": "328a48b3-7fad-4d75-d078-26566271954e",
        "colab": {
          "base_uri": "https://localhost:8080/"
        }
      },
      "outputs": [
        {
          "output_type": "stream",
          "name": "stdout",
          "text": [
            "Collecting xmltodict\n",
            "  Downloading xmltodict-0.13.0-py2.py3-none-any.whl.metadata (7.7 kB)\n",
            "Downloading xmltodict-0.13.0-py2.py3-none-any.whl (10.0 kB)\n",
            "Installing collected packages: xmltodict\n",
            "Successfully installed xmltodict-0.13.0\n"
          ]
        }
      ],
      "source": [
        "!pip install xmltodict"
      ]
    },
    {
      "cell_type": "code",
      "execution_count": 1,
      "id": "d65d932d-bd98-48d8-8f11-39f91434ea36",
      "metadata": {
        "id": "d65d932d-bd98-48d8-8f11-39f91434ea36"
      },
      "outputs": [],
      "source": [
        "import requests\n",
        "import xmltodict\n",
        "import json\n",
        "import pytz\n",
        "from datetime import datetime\n",
        "from concurrent.futures import ThreadPoolExecutor\n",
        "import time\n",
        "import os\n",
        "import concurrent.futures\n",
        "import logging\n"
      ]
    },
    {
      "cell_type": "code",
      "source": [
        "from google.colab import userdata\n",
        "from google.colab import drive\n",
        "drive.mount('/content/drive')\n"
      ],
      "metadata": {
        "colab": {
          "base_uri": "https://localhost:8080/"
        },
        "id": "PXjr2eApX0A3",
        "outputId": "ccb2df50-c017-4b35-d4f9-5b3706acfe77"
      },
      "id": "PXjr2eApX0A3",
      "execution_count": 10,
      "outputs": [
        {
          "output_type": "stream",
          "name": "stdout",
          "text": [
            "Drive already mounted at /content/drive; to attempt to forcibly remount, call drive.mount(\"/content/drive\", force_remount=True).\n"
          ]
        }
      ]
    },
    {
      "cell_type": "code",
      "execution_count": 3,
      "id": "21f065da-f06e-411a-abed-85b6677f48c5",
      "metadata": {
        "id": "21f065da-f06e-411a-abed-85b6677f48c5",
        "colab": {
          "base_uri": "https://localhost:8080/"
        },
        "outputId": "f5de8d64-e1ee-4e7e-d2db-eea9c5aef3b2"
      },
      "outputs": [
        {
          "output_type": "stream",
          "name": "stderr",
          "text": [
            "INFO:__main__:Logging started\n"
          ]
        }
      ],
      "source": [
        "# Create a custom logger\n",
        "logger = logging.getLogger(__name__)\n",
        "logger.setLevel(logging.DEBUG)\n",
        "\n",
        "# Create handlers\n",
        "# c_handler = logging.StreamHandler()\n",
        "f_handler = logging.FileHandler('/content/drive/My Drive/Colab Notebooks/utaproject.log', mode='w')\n",
        "# c_handler.setLevel(logging.DEBUG)\n",
        "f_handler.setLevel(logging.DEBUG)\n",
        "\n",
        "# Create formatters and add it to handlers\n",
        "# c_format = logging.Formatter('%(asctime)s - %(threadName)s - %(name)s - %(levelname)s - %(message)s')\n",
        "f_format = logging.Formatter('%(asctime)s - %(threadName)s - %(name)s - %(levelname)s - %(message)s')\n",
        "# c_handler.setFormatter(c_format)\n",
        "f_handler.setFormatter(f_format)\n",
        "\n",
        "# Add handlers to the logger\n",
        "# logger.addHandler(c_handler)\n",
        "logger.addHandler(f_handler)\n",
        "\n",
        "# Correctly log messages\n",
        "logger.info('Logging started')\n"
      ]
    },
    {
      "cell_type": "code",
      "execution_count": 4,
      "id": "48ee15c1-b738-4728-a315-484e6a68bd42",
      "metadata": {
        "id": "48ee15c1-b738-4728-a315-484e6a68bd42"
      },
      "outputs": [],
      "source": [
        "def retrieve_data(route_id, onward_calls = False):\n",
        "  token = userdata.get('TOKEN')\n",
        "  url = f\"http://api.rideuta.com/SIRI/SIRI.svc/VehicleMonitor/ByRoute?route={route_id}&onwardcalls={onward_calls}&usertoken={token}\"\n",
        "  response = requests.get(url)\n",
        "  if response.status_code != 200:\n",
        "    logger.error(f\"Failed to retrieve data. Status code: {response.status_code}\")\n",
        "    return None\n",
        "  logger.info(f\"Data retrieved for route_id: {route_id}\")\n",
        "  xml_data = xmltodict.parse(response.text)\n",
        "  json_data = json.loads(json.dumps(xml_data))\n",
        "  return json_data"
      ]
    },
    {
      "cell_type": "code",
      "execution_count": null,
      "id": "1ea4daad-866e-49e3-b5c2-9d0cb702e6fc",
      "metadata": {
        "id": "1ea4daad-866e-49e3-b5c2-9d0cb702e6fc"
      },
      "outputs": [],
      "source": []
    },
    {
      "cell_type": "code",
      "execution_count": 5,
      "id": "3649bb86-fb27-44c2-8206-31d999ffa141",
      "metadata": {
        "id": "3649bb86-fb27-44c2-8206-31d999ffa141"
      },
      "outputs": [],
      "source": [
        "def convert_to_epoch(timestamp):\n",
        "    date_part, rest = timestamp.split('.')\n",
        "    microseconds_part = rest[:-6]  # Extract microseconds part\n",
        "    timezone_part = rest[-6:]      # Extract timezone part\n",
        "    microseconds_part = microseconds_part[:6]  # Take only the first 6 digits for microseconds\n",
        "    timestamp = date_part + '.' + microseconds_part + timezone_part\n",
        "    dt = datetime.strptime(timestamp, \"%Y-%m-%dT%H:%M:%S.%f%z\")\n",
        "    epoch_time = int(dt.timestamp())\n",
        "\n",
        "    return str(epoch_time)"
      ]
    },
    {
      "cell_type": "code",
      "execution_count": 6,
      "id": "163db40a-d798-462e-b1dc-6a9155ca5012",
      "metadata": {
        "id": "163db40a-d798-462e-b1dc-6a9155ca5012"
      },
      "outputs": [],
      "source": [
        "def save_data(route_id, json_data):\n",
        "  file_name = route_id + \"-\" + convert_to_epoch(json_data[\"Siri\"][\"ResponseTimestamp\"])  + \".json\"\n",
        "  with open('/content/drive/My Drive/Colab Notebooks/json_dumps/'+file_name, 'w', encoding='utf-8') as f:\n",
        "    f.write(json.dumps(json_data))\n",
        "  logger.info(f\"Data saved to {file_name}\")"
      ]
    },
    {
      "cell_type": "code",
      "execution_count": 14,
      "id": "c4daaef6-a37d-4e16-8341-2bc4443822a1",
      "metadata": {
        "id": "c4daaef6-a37d-4e16-8341-2bc4443822a1"
      },
      "outputs": [],
      "source": [
        "route_id_list = ['4', '455', '1', '2', '220']\n",
        "def process_route(route_id):\n",
        "  logger.info(f\"Processing route_id: {route_id}\")\n",
        "  while True:\n",
        "    json_data = retrieve_data(route_id)\n",
        "    if json_data:\n",
        "      logger.info(f\"Saving data for route_id: {route_id}\")\n",
        "      save_data(route_id, json_data)\n",
        "    time.sleep(5)"
      ]
    },
    {
      "cell_type": "code",
      "source": [
        "# process_route('4')\n",
        "\n",
        "with concurrent.futures.ThreadPoolExecutor() as executor:\n",
        "    executor.map(process_route, route_id_list)\n",
        "\n",
        "try:\n",
        "    while True:\n",
        "        time.sleep(1)\n",
        "except KeyboardInterrupt:\n",
        "    logger.info(\"Shutting down...\")"
      ],
      "metadata": {
        "colab": {
          "base_uri": "https://localhost:8080/"
        },
        "id": "ubk4H9fdhEP8",
        "outputId": "c3842ad2-e86c-46c2-d8bb-c48196da64ed"
      },
      "id": "ubk4H9fdhEP8",
      "execution_count": 17,
      "outputs": [
        {
          "output_type": "stream",
          "name": "stderr",
          "text": [
            "INFO:__main__:Processing route_id: 4\n",
            "INFO:__main__:Processing route_id: 455\n",
            "INFO:__main__:Processing route_id: 1\n",
            "INFO:__main__:Processing route_id: 2\n",
            "INFO:__main__:Processing route_id: 220\n",
            "INFO:__main__:Data retrieved for route_id: 4\n",
            "INFO:__main__:Saving data for route_id: 4\n",
            "INFO:__main__:Data retrieved for route_id: 455\n",
            "INFO:__main__:Saving data for route_id: 455\n",
            "INFO:__main__:Data retrieved for route_id: 1\n",
            "INFO:__main__:Saving data for route_id: 1\n",
            "INFO:__main__:Data retrieved for route_id: 2\n",
            "INFO:__main__:Saving data for route_id: 2\n",
            "INFO:__main__:Data retrieved for route_id: 220\n",
            "INFO:__main__:Saving data for route_id: 220\n",
            "INFO:__main__:Shutting down...\n"
          ]
        }
      ]
    },
    {
      "cell_type": "code",
      "source": [
        "# No of default workers /cpu available for multithreading\n",
        "print(os.cpu_count() + 4)"
      ],
      "metadata": {
        "colab": {
          "base_uri": "https://localhost:8080/"
        },
        "id": "h8c0gkamhbEA",
        "outputId": "d3c9f325-0c85-4f4c-93a9-4e95a66cac23"
      },
      "id": "h8c0gkamhbEA",
      "execution_count": null,
      "outputs": [
        {
          "output_type": "stream",
          "name": "stdout",
          "text": [
            "6\n"
          ]
        }
      ]
    },
    {
      "cell_type": "code",
      "execution_count": null,
      "id": "585009c1-d9c8-4510-8d9c-8f4ad4c90109",
      "metadata": {
        "id": "585009c1-d9c8-4510-8d9c-8f4ad4c90109"
      },
      "outputs": [],
      "source": [
        "# Opening JSON file\n",
        "f = open('/content/drive/My Drive/Colab Notebooks/'+file_name)\n",
        "data = json.load(f)"
      ]
    },
    {
      "cell_type": "code",
      "source": [],
      "metadata": {
        "id": "0SNtqmWMf9lQ"
      },
      "id": "0SNtqmWMf9lQ",
      "execution_count": null,
      "outputs": []
    }
  ],
  "metadata": {
    "kernelspec": {
      "display_name": "Python 3 (ipykernel)",
      "language": "python",
      "name": "python3"
    },
    "language_info": {
      "codemirror_mode": {
        "name": "ipython",
        "version": 3
      },
      "file_extension": ".py",
      "mimetype": "text/x-python",
      "name": "python",
      "nbconvert_exporter": "python",
      "pygments_lexer": "ipython3",
      "version": "3.11.5"
    },
    "colab": {
      "provenance": [],
      "include_colab_link": true
    }
  },
  "nbformat": 4,
  "nbformat_minor": 5
}